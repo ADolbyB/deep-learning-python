{
 "cells": [
  {
   "attachments": {},
   "cell_type": "markdown",
   "metadata": {},
   "source": [
    "# Matplotlib 3-D Interactive Plot Examples:\n",
    "\n",
    " - Must Include `%matplotlib qt` or none of these examples will work."
   ]
  },
  {
   "cell_type": "code",
   "execution_count": 1,
   "metadata": {},
   "outputs": [],
   "source": [
    "import numpy as np\n",
    "import time\n",
    "import matplotlib.pyplot as plt\n",
    "from mpl_toolkits.mplot3d import Axes3D, axes3d\n",
    "%matplotlib qt"
   ]
  },
  {
   "attachments": {},
   "cell_type": "markdown",
   "metadata": {},
   "source": [
    "## Rotating Scatter Plot:"
   ]
  },
  {
   "cell_type": "code",
   "execution_count": 3,
   "metadata": {},
   "outputs": [],
   "source": [
    "# create some 3D data\n",
    "x = np.random.randn(100)\n",
    "y = np.random.randn(100)\n",
    "z = np.random.randn(100)\n",
    "\n",
    "# create the 3D plot\n",
    "fig = plt.figure(figsize=[15,15])\n",
    "ax = fig.add_subplot(111, projection='3d')\n",
    "ax.scatter(x, y, z)\n",
    "\n",
    "# add a marker for the origin\n",
    "origin = np.array([0, 0, 0])\n",
    "ax.scatter(origin[0], origin[1], origin[2], s=100, marker='o', edgecolors='red', facecolors='red')\n",
    "\n",
    "# set the plot limits to include the origin marker\n",
    "min_xyz = np.min([ax.get_xlim3d(), ax.get_ylim3d(), ax.get_zlim3d()])\n",
    "max_xyz = np.max([ax.get_xlim3d(), ax.get_ylim3d(), ax.get_zlim3d()])\n",
    "\n",
    "ax.set_xlim3d([min_xyz, max_xyz])\n",
    "ax.set_ylim3d([min_xyz, max_xyz])\n",
    "ax.set_zlim3d([min_xyz, max_xyz])\n",
    "\n",
    "# show the plot\n",
    "plt.show()"
   ]
  },
  {
   "attachments": {},
   "cell_type": "markdown",
   "metadata": {},
   "source": [
    "## Rotating A 3D Wireframe Plot:"
   ]
  },
  {
   "cell_type": "code",
   "execution_count": 4,
   "metadata": {},
   "outputs": [
    {
     "data": {
      "text/plain": [
       "Text(0.5, 0.92, '3D Wireframe Plot')"
      ]
     },
     "execution_count": 4,
     "metadata": {},
     "output_type": "execute_result"
    }
   ],
   "source": [
    "# Create data\n",
    "x = np.linspace(-5, 5, 100)\n",
    "y = np.linspace(-5, 5, 100)\n",
    "X, Y = np.meshgrid(x, y)\n",
    "Z = np.sin(np.sqrt(X**2 + Y**2))\n",
    "\n",
    "# Create figure and 3D axis\n",
    "fig = plt.figure(figsize=[15, 15])\n",
    "ax = fig.add_subplot(111, projection='3d')\n",
    "\n",
    "# Create wireframe plot\n",
    "ax.plot_wireframe(X, Y, Z)\n",
    "\n",
    "# Set axis labels\n",
    "ax.set_xlabel('X')\n",
    "ax.set_ylabel('Y')\n",
    "ax.set_zlabel('Z')\n",
    "\n",
    "# Set title\n",
    "ax.set_title('3D Wireframe Plot')\n",
    "\n",
    "# Auto Rotate plot:\n",
    "# for angle in range(0, 360):\n",
    "#     ax.view_init(30, angle)\n",
    "#     plt.draw()\n",
    "#     plt.pause(.01)"
   ]
  },
  {
   "attachments": {},
   "cell_type": "markdown",
   "metadata": {},
   "source": [
    "## Animating a 3D Wireframe Plot:\n",
    "\n",
    " - Source: https://matplotlib.org/stable/gallery/mplot3d/wire3d_animation_sgskip.html"
   ]
  },
  {
   "cell_type": "code",
   "execution_count": null,
   "metadata": {},
   "outputs": [],
   "source": [
    "fig = plt.figure(figsize=[15,15])\n",
    "ax = fig.add_subplot(projection='3d')\n",
    "\n",
    "# Make the X, Y meshgrid.\n",
    "xs = np.linspace(-1, 1, 50)\n",
    "ys = np.linspace(-1, 1, 50)\n",
    "X, Y = np.meshgrid(xs, ys)\n",
    "\n",
    "# Set the z axis limits, so they aren't recalculated each frame.\n",
    "ax.set_zlim(-1, 1)\n",
    "\n",
    "# Begin plotting.\n",
    "wframe = None\n",
    "tstart = time.time()\n",
    "for phi in np.linspace(0, 180. / np.pi, 100):\n",
    "    # If a line collection is already remove it before drawing.\n",
    "    if wframe:\n",
    "        wframe.remove()\n",
    "    # Generate data.\n",
    "    Z = np.cos(2 * np.pi * X + phi) * (1 - np.hypot(X, Y))\n",
    "    # Plot the new wireframe and pause briefly before continuing.\n",
    "    wframe = ax.plot_wireframe(X, Y, Z, rstride=2, cstride=2)\n",
    "    plt.pause(.001)\n",
    "\n",
    "print('Average FPS: %f' % (100 / (time.time() - tstart)))"
   ]
  }
 ],
 "metadata": {
  "kernelspec": {
   "display_name": "base",
   "language": "python",
   "name": "python3"
  },
  "language_info": {
   "codemirror_mode": {
    "name": "ipython",
    "version": 3
   },
   "file_extension": ".py",
   "mimetype": "text/x-python",
   "name": "python",
   "nbconvert_exporter": "python",
   "pygments_lexer": "ipython3",
   "version": "3.9.13"
  },
  "orig_nbformat": 4
 },
 "nbformat": 4,
 "nbformat_minor": 2
}
