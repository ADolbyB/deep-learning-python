{
 "cells": [
  {
   "attachments": {},
   "cell_type": "markdown",
   "metadata": {},
   "source": [
    "# Practice Exam #1 Problem 15"
   ]
  },
  {
   "attachments": {},
   "cell_type": "markdown",
   "metadata": {},
   "source": [
    "### Import Libraries"
   ]
  },
  {
   "cell_type": "code",
   "execution_count": null,
   "metadata": {},
   "outputs": [],
   "source": [
    "from keras.datasets import mnist\n",
    "import matplotlib.pyplot as plt\n",
    "import numpy as np\n",
    "from random import randint"
   ]
  },
  {
   "cell_type": "code",
   "execution_count": 2,
   "metadata": {},
   "outputs": [],
   "source": [
    "def img_plt(images, labels):\n",
    "  plt.figure() \n",
    "  for i in range(1, 11):\n",
    "    plt.subplot(2, 5 ,i)\n",
    "    plt.imshow(images[i - 1,:,:],cmap = 'gray')\n",
    "    plt.title('Label: ' + str(labels[i - 1]))\n",
    "  plt.show()"
   ]
  },
  {
   "attachments": {},
   "cell_type": "markdown",
   "metadata": {},
   "source": [
    "### Load Data from MNIST set"
   ]
  },
  {
   "cell_type": "code",
   "execution_count": 3,
   "metadata": {},
   "outputs": [
    {
     "name": "stdout",
     "output_type": "stream",
     "text": [
      "The number of images in training set is 60000\n",
      "The number of images in testing set is 10000\n"
     ]
    }
   ],
   "source": [
    "(x_train, y_train), (x_test, y_test) = mnist.load_data()\n",
    "\n",
    "print('The number of images in training set is', x_train.shape[0])\n",
    "print('The number of images in testing set is', x_test.shape[0])"
   ]
  },
  {
   "attachments": {},
   "cell_type": "markdown",
   "metadata": {},
   "source": [
    "### Select Only Digits '1' and '2' From MNIST Set."
   ]
  },
  {
   "cell_type": "code",
   "execution_count": 4,
   "metadata": {},
   "outputs": [
    {
     "name": "stdout",
     "output_type": "stream",
     "text": [
      "(12700,)\n"
     ]
    }
   ],
   "source": [
    "x_train_01 = x_train[np.logical_or(y_train == 1,y_train == 2),:,:] \n",
    "y_train_01 = y_train[np.logical_or(y_train == 1,y_train == 2)]\n",
    "print(y_train_01.shape)"
   ]
  },
  {
   "attachments": {},
   "cell_type": "markdown",
   "metadata": {},
   "source": [
    "### Print Center 5 by 5 Image Attributes"
   ]
  },
  {
   "cell_type": "code",
   "execution_count": 5,
   "metadata": {},
   "outputs": [
    {
     "data": {
      "image/png": "[encoded data removed]",
      "text/plain": [
       "<Figure size 640x480 with 10 Axes>"
      ]
     },
     "metadata": {},
     "output_type": "display_data"
    },
    {
     "name": "stdout",
     "output_type": "stream",
     "text": [
      "3085\n",
      "(12700, 5)\n"
     ]
    }
   ],
   "source": [
    "img_plt(x_train_01[0:10, 11:16, 11:16], y_train_01[0:10])\n",
    "\n",
    "print(np.sum(x_train_01[0 ,11:16, 11:16])) \n",
    "\n",
    "#calculate the attributes\n",
    "features = np.sum(x_train_01[:, 11:16, 11:16], axis = 2) / 25\n",
    "print(features.shape)"
   ]
  },
  {
   "attachments": {},
   "cell_type": "markdown",
   "metadata": {},
   "source": [
    "### Calculate Average Value of 5 by 5 Image Attribute"
   ]
  },
  {
   "cell_type": "code",
   "execution_count": 6,
   "metadata": {},
   "outputs": [
    {
     "name": "stdout",
     "output_type": "stream",
     "text": [
      "[123.4  102.44 151.56 ...  11.36   0.52  77.44]\n"
     ]
    }
   ],
   "source": [
    "avg = np.zeros((x_train_01.shape[0],)) \n",
    "for i in range(len(x_train_01)): \n",
    "    avg[i] = np.sum(x_train_01[i, 11:16, 11:16]) / 25\n",
    "\n",
    "print(avg)"
   ]
  },
  {
   "attachments": {},
   "cell_type": "markdown",
   "metadata": {},
   "source": [
    "### Randomize Dataset Array"
   ]
  },
  {
   "cell_type": "code",
   "execution_count": 7,
   "metadata": {},
   "outputs": [
    {
     "name": "stdout",
     "output_type": "stream",
     "text": [
      "(60000, 28, 28)\n",
      "(60000,)\n"
     ]
    }
   ],
   "source": [
    "num_train_img = x_train.shape[0]\n",
    "print(x_train.shape)\n",
    "\n",
    "train_ind = np.arange(0, num_train_img)\n",
    "train_ind_s = np.random.permutation(train_ind)\n",
    "print(train_ind_s.shape)"
   ]
  },
  {
   "attachments": {},
   "cell_type": "markdown",
   "metadata": {},
   "source": [
    "### Create The Validation Set from Training Set"
   ]
  },
  {
   "cell_type": "code",
   "execution_count": 8,
   "metadata": {},
   "outputs": [
    {
     "name": "stdout",
     "output_type": "stream",
     "text": [
      "(60000, 28, 28)\n",
      "(60000,)\n",
      "60000\n"
     ]
    }
   ],
   "source": [
    "print(x_train.shape)\n",
    "print(y_train.shape)\n",
    "print(num_train_img)\n",
    "x_valid = x_train[train_ind_s[0:int(0.21 * num_train_img)],:,:]\n",
    "y_valid = y_train[train_ind_s[0:int(0.21 * num_train_img)]]"
   ]
  },
  {
   "attachments": {},
   "cell_type": "markdown",
   "metadata": {},
   "source": [
    "### Use the Rest of the Data for Training"
   ]
  },
  {
   "cell_type": "code",
   "execution_count": 9,
   "metadata": {},
   "outputs": [],
   "source": [
    "x_train = x_train[train_ind_s[int(0.51 * num_train_img):],:,:]\n",
    "y_train = y_train[train_ind_s[int(0.51 * num_train_img):]]"
   ]
  },
  {
   "cell_type": "code",
   "execution_count": 10,
   "metadata": {},
   "outputs": [
    {
     "name": "stdout",
     "output_type": "stream",
     "text": [
      "The number of images in validation set is 12600\n",
      "The number of images in training set is 29400\n",
      "The number of images in testing set is 10000\n"
     ]
    }
   ],
   "source": [
    "print('The number of images in validation set is',x_valid.shape[0])\n",
    "print('The number of images in training set is',x_train.shape[0])\n",
    "print('The number of images in testing set is',x_test.shape[0])"
   ]
  }
 ],
 "metadata": {
  "kernelspec": {
   "display_name": "base",
   "language": "python",
   "name": "python3"
  },
  "language_info": {
   "codemirror_mode": {
    "name": "ipython",
    "version": 3
   },
   "file_extension": ".py",
   "mimetype": "text/x-python",
   "name": "python",
   "nbconvert_exporter": "python",
   "pygments_lexer": "ipython3",
   "version": "3.9.13"
  },
  "orig_nbformat": 4,
  "vscode": {
   "interpreter": {
    "hash": "a906719eb24c6be2b596ddc3d3a5af6aa9dceef416174b553d74a9f9263f1789"
   }
  }
 },
 "nbformat": 4,
 "nbformat_minor": 2
}
