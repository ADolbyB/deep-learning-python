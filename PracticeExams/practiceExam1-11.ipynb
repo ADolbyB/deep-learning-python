{
 "cells": [
  {
   "attachments": {},
   "cell_type": "markdown",
   "metadata": {},
   "source": [
    "# Practice Exam 1 Question 11"
   ]
  },
  {
   "attachments": {},
   "cell_type": "markdown",
   "metadata": {},
   "source": [
    "### Import Libraries"
   ]
  },
  {
   "cell_type": "code",
   "execution_count": 1,
   "metadata": {},
   "outputs": [],
   "source": [
    "import numpy as np \n",
    "import matplotlib.pyplot as plt "
   ]
  },
  {
   "attachments": {},
   "cell_type": "markdown",
   "metadata": {},
   "source": [
    "### Class to Create a Neural Network With Single Neuron "
   ]
  },
  {
   "cell_type": "code",
   "execution_count": 2,
   "metadata": {},
   "outputs": [],
   "source": [
    "class NeuralNetwork(object):  \n",
    "     \n",
    "    def __init__(self, num_params = 4):  \n",
    "        # Using seed to make sure it'll generate same weights in every run  \n",
    "        # np.random.seed(1)  \n",
    "        \n",
    "        # 3x1 Weight matrix\n",
    "        # random weights between -1 and 1 \n",
    "        self.weight_matrix = 2 * np.random.random((num_params + 1, 1)) - 1\n",
    "        self.l_rate = 1 \n",
    "   \n",
    "    # hard_limiter as activation fucntion  \n",
    "    def hard_limiter(self, x): \n",
    "        outs = np.zeros(x.shape) \n",
    "        outs[x > 0] = 1 \n",
    "        return outs \n",
    "   \n",
    "    # forward propagation  \n",
    "    def forward_propagation(self, inputs): \n",
    "        outs = np.dot(inputs, self.weight_matrix) \n",
    "        return self.hard_limiter(outs)  \n",
    "       \n",
    "    # training the neural network.  \n",
    "    def train(self, train_inputs, train_outputs, num_train_iterations = 1000):                       \n",
    "        # Number of iterations we want to perform for this set of input.  \n",
    "        for iteration in range(num_train_iterations): \n",
    "            # updating the perceptron base on the misclassified examples \n",
    "            for i in range(train_inputs.shape[0]): \n",
    "              pred_i = self.pred(train_inputs[i,:])  \n",
    "              if pred_i != train_outputs[i]: \n",
    "                output = self.forward_propagation(train_inputs[i,:])  \n",
    "                # Calculate the error in the output.  \n",
    "                error = train_outputs[i] - output  \n",
    "                adjustment = self.l_rate * error * train_inputs[i]                        \n",
    "                # Adjust the weight matrix  \n",
    "                self.weight_matrix[:,0] += adjustment\n",
    "    \n",
    "    # predicting the classes of new data points \n",
    "    def pred(self,inputs): \n",
    "      preds = self.forward_propagation(inputs) \n",
    "      return preds"
   ]
  },
  {
   "attachments": {},
   "cell_type": "markdown",
   "metadata": {},
   "source": [
    "### Declare Features and Labels"
   ]
  },
  {
   "cell_type": "code",
   "execution_count": 3,
   "metadata": {},
   "outputs": [
    {
     "name": "stdout",
     "output_type": "stream",
     "text": [
      "[[ 3.   3.   0.5  1. ]\n",
      " [ 2.5  1.5  1.5 -1. ]\n",
      " [ 0.5  1.5 -1.   0. ]\n",
      " [ 1.   1.   1.  -3. ]] \n",
      "\n",
      "[0 1 1 0]\n"
     ]
    }
   ],
   "source": [
    "features = np.array([[3,3,0.5,1], [2.5,1.5,1.5,-1], [0.5,1.5,-1,0], [1,1,1,-3]])\n",
    "print(features, '\\n')\n",
    "\n",
    "labels = np.array([0,1,1,0]) \n",
    "print(labels)\n",
    "\n",
    "classes = [0, 1] "
   ]
  },
  {
   "attachments": {},
   "cell_type": "markdown",
   "metadata": {},
   "source": [
    "### Create Bias Vector and Append to Features"
   ]
  },
  {
   "cell_type": "code",
   "execution_count": 4,
   "metadata": {},
   "outputs": [
    {
     "name": "stdout",
     "output_type": "stream",
     "text": [
      "[[1.]\n",
      " [1.]\n",
      " [1.]\n",
      " [1.]] \n",
      "\n",
      "(4, 1) \n",
      "\n",
      "[[ 1.   3.   3.   0.5  1. ]\n",
      " [ 1.   2.5  1.5  1.5 -1. ]\n",
      " [ 1.   0.5  1.5 -1.   0. ]\n",
      " [ 1.   1.   1.   1.  -3. ]] \n",
      "\n",
      "(4, 5)\n"
     ]
    }
   ],
   "source": [
    "bias = np.ones((features.shape[0], 1)) # expanding the feature space by adding  \n",
    "print(bias, '\\n') \n",
    "print(bias.shape, '\\n') \n",
    "features = np.append(bias, features, axis = 1) \n",
    "print(features, '\\n')\n",
    "print(features.shape)"
   ]
  },
  {
   "attachments": {},
   "cell_type": "markdown",
   "metadata": {},
   "source": [
    "### Declare a NeuralNetwork Object to Test Random Weighting"
   ]
  },
  {
   "cell_type": "code",
   "execution_count": 5,
   "metadata": {},
   "outputs": [
    {
     "name": "stdout",
     "output_type": "stream",
     "text": [
      "Random weights at the start of training\n",
      "[[-0.58303805]\n",
      " [-0.01177172]\n",
      " [-0.82886102]\n",
      " [-0.26357025]\n",
      " [ 0.83753936]]\n"
     ]
    }
   ],
   "source": [
    "neural_network = NeuralNetwork() \n",
    "\n",
    "print ('Random weights at the start of training') \n",
    "print (neural_network.weight_matrix) "
   ]
  },
  {
   "attachments": {},
   "cell_type": "markdown",
   "metadata": {},
   "source": [
    "### Declare a NeuralNetwork object for Classification"
   ]
  },
  {
   "cell_type": "code",
   "execution_count": 6,
   "metadata": {},
   "outputs": [
    {
     "name": "stdout",
     "output_type": "stream",
     "text": [
      "Random weights at the start of training\n",
      "[[-0.8198831 ]\n",
      " [ 0.2067343 ]\n",
      " [-0.90983538]\n",
      " [ 0.55572428]\n",
      " [ 0.86322521]]\n"
     ]
    }
   ],
   "source": [
    "neural_network = NeuralNetwork(4) \n",
    "\n",
    "print ('Random weights at the start of training') \n",
    "print (neural_network.weight_matrix)"
   ]
  },
  {
   "attachments": {},
   "cell_type": "markdown",
   "metadata": {},
   "source": [
    "### Train NeuralNetwork Object"
   ]
  },
  {
   "cell_type": "code",
   "execution_count": 7,
   "metadata": {},
   "outputs": [
    {
     "name": "stdout",
     "output_type": "stream",
     "text": [
      "New Weights at the End of Training\n",
      "[[ 3.1801169 ]\n",
      " [ 1.7067343 ]\n",
      " [-2.40983538]\n",
      " [-0.94427572]\n",
      " [ 1.86322521]]\n"
     ]
    }
   ],
   "source": [
    "neural_network.train(features, labels, 10)\n",
    "print ('New Weights at the End of Training') \n",
    "print (neural_network.weight_matrix)"
   ]
  },
  {
   "attachments": {},
   "cell_type": "markdown",
   "metadata": {},
   "source": [
    "### Test Neural Network with Training Data Points. "
   ]
  },
  {
   "cell_type": "code",
   "execution_count": 8,
   "metadata": {},
   "outputs": [
    {
     "name": "stdout",
     "output_type": "stream",
     "text": [
      "Test Network on Training Data Points:\n",
      "[[1.]\n",
      " [1.]\n",
      " [1.]\n",
      " [0.]]\n"
     ]
    }
   ],
   "source": [
    "print (\"Test Network on Training Data Points:\") \n",
    "print (neural_network.pred(features))"
   ]
  }
 ],
 "metadata": {
  "kernelspec": {
   "display_name": "base",
   "language": "python",
   "name": "python3"
  },
  "language_info": {
   "codemirror_mode": {
    "name": "ipython",
    "version": 3
   },
   "file_extension": ".py",
   "mimetype": "text/x-python",
   "name": "python",
   "nbconvert_exporter": "python",
   "pygments_lexer": "ipython3",
   "version": "3.9.13"
  },
  "orig_nbformat": 4,
  "vscode": {
   "interpreter": {
    "hash": "a906719eb24c6be2b596ddc3d3a5af6aa9dceef416174b553d74a9f9263f1789"
   }
  }
 },
 "nbformat": 4,
 "nbformat_minor": 2
}
