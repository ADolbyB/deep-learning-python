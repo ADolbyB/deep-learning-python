{
 "cells": [
  {
   "attachments": {},
   "cell_type": "markdown",
   "metadata": {},
   "source": [
    "# Practice Exam 1 Question 12"
   ]
  },
  {
   "attachments": {},
   "cell_type": "markdown",
   "metadata": {},
   "source": [
    "### Import Libraries"
   ]
  },
  {
   "cell_type": "code",
   "execution_count": null,
   "metadata": {},
   "outputs": [],
   "source": [
    "from keras.datasets import mnist\n",
    "import matplotlib.pyplot as plt\n",
    "import numpy as np\n",
    "from random import randint"
   ]
  },
  {
   "attachments": {},
   "cell_type": "markdown",
   "metadata": {},
   "source": [
    "### Define Function to Plot Images"
   ]
  },
  {
   "cell_type": "code",
   "execution_count": 2,
   "metadata": {},
   "outputs": [],
   "source": [
    "def img_plt(images, labels):\n",
    "    plt.figure()\n",
    "    for i in range(1, 11):\n",
    "        plt.subplot(2, 5 ,i)\n",
    "        plt.imshow(images[i - 1,:,:],cmap = 'gray')\n",
    "        plt.title('Label: ' + str(labels[i - 1]))\n",
    "    plt.tight_layout()\n",
    "    plt.show()"
   ]
  },
  {
   "attachments": {},
   "cell_type": "markdown",
   "metadata": {},
   "source": [
    "### Load MNIST Data Set for Training and Testing"
   ]
  },
  {
   "cell_type": "code",
   "execution_count": 3,
   "metadata": {},
   "outputs": [
    {
     "name": "stdout",
     "output_type": "stream",
     "text": [
      "The number of images in training set is 60000\n",
      "The number of images in testing set is 10000\n"
     ]
    }
   ],
   "source": [
    "(x_train, y_train), (x_test, y_test) = mnist.load_data()\n",
    "\n",
    "print('The number of images in training set is', x_train.shape[0])\n",
    "print('The number of images in testing set is', x_test.shape[0])"
   ]
  },
  {
   "attachments": {},
   "cell_type": "markdown",
   "metadata": {},
   "source": [
    "### Calculate Attributes for Training Set"
   ]
  },
  {
   "cell_type": "code",
   "execution_count": 4,
   "metadata": {},
   "outputs": [
    {
     "name": "stdout",
     "output_type": "stream",
     "text": [
      "The Total Number of Training Images = 11973\n"
     ]
    },
    {
     "data": {
      "image/png": "[encoded data removed]",
      "text/plain": [
       "<Figure size 640x480 with 10 Axes>"
      ]
     },
     "metadata": {},
     "output_type": "display_data"
    }
   ],
   "source": [
    "x_train_01 = x_train[np.logical_or(y_train == 3,y_train == 4),:,:] \n",
    "y_train_01 = y_train[np.logical_or(y_train == 3,y_train == 4)]\n",
    "\n",
    "print(f'The Total Number of Training Images = {y_train_01.shape[0]}')\n",
    "\n",
    "features_train = np.sum(x_train_01[:, 10:17, 10:17], axis = 2) / 49\n",
    "img_plt(x_train_01[0:10, 10:17, 10:17], y_train_01[0:10])"
   ]
  },
  {
   "attachments": {},
   "cell_type": "markdown",
   "metadata": {},
   "source": [
    "### Calculate Attributes for Testing Set"
   ]
  },
  {
   "cell_type": "code",
   "execution_count": 5,
   "metadata": {},
   "outputs": [
    {
     "name": "stdout",
     "output_type": "stream",
     "text": [
      "The Total Number of Testing Images = 1992\n"
     ]
    },
    {
     "data": {
      "image/png": "[encoded data removed]",
      "text/plain": [
       "<Figure size 640x480 with 10 Axes>"
      ]
     },
     "metadata": {},
     "output_type": "display_data"
    }
   ],
   "source": [
    "x_test_01 = x_test[np.logical_or(y_test == 3,y_test == 4),:,:] \n",
    "y_test_01 = y_test[np.logical_or(y_test == 3,y_test == 4)]\n",
    "\n",
    "print(f'The Total Number of Testing Images = {y_test_01.shape[0]}')\n",
    "\n",
    "features_test = np.sum(x_test_01[:, 10:17, 10:17], axis = 2) / 49\n",
    "img_plt(x_test_01[0:10, 10:17, 10:17], y_train_01[0:10])"
   ]
  },
  {
   "attachments": {},
   "cell_type": "markdown",
   "metadata": {},
   "source": [
    "### Create A Randomized Array"
   ]
  },
  {
   "cell_type": "code",
   "execution_count": 6,
   "metadata": {},
   "outputs": [],
   "source": [
    "num_train_img = x_train_01.shape[0]\n",
    "train_ind = np.arange(0, num_train_img)\n",
    "train_ind_s = np.random.permutation(train_ind)"
   ]
  },
  {
   "attachments": {},
   "cell_type": "markdown",
   "metadata": {},
   "source": [
    "### % of the Training Set $ \\longrightarrow $ Validation Set"
   ]
  },
  {
   "cell_type": "code",
   "execution_count": 7,
   "metadata": {},
   "outputs": [],
   "source": [
    "x_valid_01 = x_train_01[train_ind_s[0:int(0.3 * num_train_img)],:,:]\n",
    "y_valid = y_train_01[train_ind_s[0:int(0.3 * num_train_img)]]"
   ]
  },
  {
   "attachments": {},
   "cell_type": "markdown",
   "metadata": {},
   "source": [
    "### The Rest of The Training Set"
   ]
  },
  {
   "cell_type": "code",
   "execution_count": 8,
   "metadata": {},
   "outputs": [],
   "source": [
    "x_trn_01 = x_train_01[train_ind_s[int(0.3 * num_train_img):],:,:]\n",
    "y_trn_01 = y_train_01[train_ind_s[int(0.3 * num_train_img):]]"
   ]
  },
  {
   "attachments": {},
   "cell_type": "markdown",
   "metadata": {},
   "source": [
    "### Print Out Training, Testing & Validation Set Amounts\n",
    "\n",
    " - Training Images Should = 8382\n",
    " - Testing Images Should = 1992\n",
    " - Validation Images Should = 3591"
   ]
  },
  {
   "cell_type": "code",
   "execution_count": 9,
   "metadata": {},
   "outputs": [
    {
     "name": "stdout",
     "output_type": "stream",
     "text": [
      "The Number of Images in Training Set =  8382\n",
      "The Number of Images in Testing Set =  1992\n",
      "The Number of Images in Validation Set =  3591\n"
     ]
    }
   ],
   "source": [
    "print('The Number of Images in Training Set = ', x_trn_01.shape[0])\n",
    "print('The Number of Images in Testing Set = ', x_test_01.shape[0])\n",
    "print('The Number of Images in Validation Set = ', x_valid_01.shape[0])"
   ]
  }
 ],
 "metadata": {
  "kernelspec": {
   "display_name": "base",
   "language": "python",
   "name": "python3"
  },
  "language_info": {
   "codemirror_mode": {
    "name": "ipython",
    "version": 3
   },
   "file_extension": ".py",
   "mimetype": "text/x-python",
   "name": "python",
   "nbconvert_exporter": "python",
   "pygments_lexer": "ipython3",
   "version": "3.9.13"
  },
  "orig_nbformat": 4,
  "vscode": {
   "interpreter": {
    "hash": "a906719eb24c6be2b596ddc3d3a5af6aa9dceef416174b553d74a9f9263f1789"
   }
  }
 },
 "nbformat": 4,
 "nbformat_minor": 2
}
