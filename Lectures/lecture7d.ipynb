{
 "cells": [
  {
   "cell_type": "markdown",
   "metadata": {},
   "source": [
    "# Convolutional Neural Networks Part 2:\n",
    "\n",
    " - Methods To Handle Overfitting"
   ]
  },
  {
   "cell_type": "markdown",
   "metadata": {},
   "source": [
    "### 3rd Method: Batch Normalization With Data Augmentation:"
   ]
  },
  {
   "cell_type": "markdown",
   "metadata": {},
   "source": [
    "#### Turn Off Messages:"
   ]
  },
  {
   "cell_type": "code",
   "execution_count": 1,
   "metadata": {},
   "outputs": [],
   "source": [
    "import os\n",
    "os.environ['TF_CPP_MIN_LOG_LEVEL'] = '3'\n",
    "\n",
    "# Fix: UnknownError: Failed to get convolution algorithm. \n",
    "# This is probably because cuDNN failed to initialize, \n",
    "# so try looking to see if a warning log message was printed above\n",
    "os.environ['TF_FORCE_GPU_ALLOW_GROWTH'] = 'true'"
   ]
  },
  {
   "cell_type": "markdown",
   "metadata": {},
   "source": [
    "#### Check GPU Availibility & Set Memory Limit:"
   ]
  },
  {
   "cell_type": "code",
   "execution_count": 2,
   "metadata": {},
   "outputs": [
    {
     "name": "stdout",
     "output_type": "stream",
     "text": [
      "Num GPUs Available:  1\n"
     ]
    },
    {
     "data": {
      "text/plain": [
       "[PhysicalDevice(name='/physical_device:GPU:0', device_type='GPU')]"
      ]
     },
     "execution_count": 2,
     "metadata": {},
     "output_type": "execute_result"
    }
   ],
   "source": [
    "import tensorflow as tf\n",
    "print(\"Num GPUs Available: \", len(tf.config.list_physical_devices('GPU')))\n",
    "\n",
    "gpus = tf.config.experimental.list_physical_devices('GPU')\n",
    "if gpus:\n",
    "    try:\n",
    "        tf.config.experimental.set_virtual_device_configuration(\n",
    "            gpus[0],[tf.config.experimental.VirtualDeviceConfiguration(memory_limit=2048)]) # Alt: 1792 MB, 2048 MB\n",
    "    except RuntimeError as e:\n",
    "        print(e)\n",
    "\n",
    "tf.config.list_physical_devices('GPU')"
   ]
  },
  {
   "cell_type": "markdown",
   "metadata": {},
   "source": [
    "#### Import Libraries:"
   ]
  },
  {
   "cell_type": "code",
   "execution_count": 3,
   "metadata": {},
   "outputs": [],
   "source": [
    "import matplotlib.pyplot as plt\n",
    "import numpy as np\n",
    "import pandas as pd\n",
    "from random import randint\n",
    "from tensorflow.keras import layers, regularizers\n",
    "from keras.models import Sequential, load_model\n",
    "from keras.datasets import cifar10\n",
    "from keras.callbacks import ModelCheckpoint\n",
    "from keras.utils import to_categorical\n",
    "from keras.applications.vgg16 import preprocess_input\n",
    "from keras.layers import Dense, Conv2D, Flatten, Dropout, Activation, MaxPooling2D, BatchNormalization\n",
    "from keras.preprocessing.image import ImageDataGenerator\n",
    "from sklearn.metrics import accuracy_score, confusion_matrix, recall_score"
   ]
  },
  {
   "cell_type": "markdown",
   "metadata": {},
   "source": [
    "#### Define Functions For Plotting:"
   ]
  },
  {
   "cell_type": "code",
   "execution_count": 4,
   "metadata": {},
   "outputs": [],
   "source": [
    "# plot training accuracy and loss\n",
    "def plotCurve(trainingAccuracy, trainingLoss):\n",
    "    epochs = np.arange(trainingLoss.shape[0])\n",
    "    #print(epochs)\n",
    "    plt.figure(figsize = [12, 6])\n",
    "    plt.subplot(1, 2, 1)\n",
    "    plt.plot(epochs, trainingAccuracy)\n",
    "    #plt.axis([-1, 2, -1, 2])\n",
    "    plt.xlabel('Epoch')\n",
    "    plt.ylabel('Accuracy')\n",
    "    plt.title('Training Accuracy')\n",
    "\n",
    "    plt.subplot(1, 2, 2)\n",
    "    plt.plot(epochs, trainingLoss)\n",
    "    plt.xlabel('Epoch')\n",
    "    plt.ylabel('Binary CrossEntropy Loss')\n",
    "    plt.title('Training Loss')\n",
    "    plt.show()\n",
    "\n",
    "# Plot Features of CIFAR-10 data\n",
    "def feat_plot(features, labels, classes, title):\n",
    "    for class_i in classes:\n",
    "        plt.plot(features[labels[:] == classes[class_i], 0],\n",
    "                 features[labels[:] == classes[class_i], 1], 'o', markersize = 5)\n",
    "        # plt.axis([-2, 2, -2, 2])\n",
    "        plt.xlabel('X: Feature 1')\n",
    "        plt.ylabel('Y: Feature 2')\n",
    "        plt.title(title)\n",
    "        plt.legend(['Class ' + str(classes[class_i]) for class_i in classes])\n",
    "    plt.show()\n",
    "\n",
    "def plotBothCurves(trainingAccuracy, trainingLoss, validAccuracy, validLoss):\n",
    "    epochs = np.arange(trainingLoss.shape[0])\n",
    "    epochsSaved = np.arange(validLoss.shape[0])\n",
    "    #print(epochs)\n",
    "    # 1st Subplot: Accuracy\n",
    "    plt.figure(figsize = [12, 6])\n",
    "    plt.subplot(1, 2, 1)\n",
    "    plt.plot(epochs, trainingAccuracy)\n",
    "    plt.plot(epochsSaved, validAccuracy) # Saved Best Value\n",
    "    plt.legend(['Training', 'Validation'])\n",
    "    plt.xlabel('Epoch')\n",
    "    plt.ylabel('Accuracy')\n",
    "    plt.title('Training Accuracy')\n",
    "    # 2nd Subplot: Training Loss\n",
    "    plt.subplot(1, 2, 2)\n",
    "    plt.plot(epochs, trainingLoss)\n",
    "    plt.plot(epochsSaved, validLoss)\n",
    "    plt.legend(['Training', 'Validation'])\n",
    "    plt.xlabel('Epoch')\n",
    "    plt.ylabel('Binary CrossEntropy Loss')\n",
    "    plt.title('Training Loss')\n",
    "    plt.show()\n",
    "\n",
    "# Plot CIFAR-10 Data In Subplots\n",
    "def img_plt(img, label):\n",
    "    plt.figure(figsize=(12, 5.5))\n",
    "    for i in range (1, 11):\n",
    "        plt.subplot(2, 5, i)\n",
    "        plt.imshow(img[i - 1, :, :], cmap = 'gray')\n",
    "        plt.title('Label: ' + str(label[i - 1]))\n",
    "    plt.show()\n",
    "\n",
    "def plotEverything(model_hist):\n",
    "    trainAcc = np.array(model_hist.history['accuracy'])\n",
    "    trainLoss = np.array(model_hist.history['loss'])\n",
    "    validAcc = np.array(model_hist.history['val_accuracy'])\n",
    "    validLoss = np.array(model_hist.history['val_loss'])\n",
    "\n",
    "    plotBothCurves(trainAcc, trainLoss, validAcc, validLoss)\n",
    "\n",
    "    trainScore = [trainAcc[-1], trainLoss[-1]]\n",
    "    print(f'\\nTraining Accuracy: {round(trainScore[0], 5) * 100} %')\n",
    "    print(f'Training Loss: {round(trainScore[1], 4)}\\n')\n",
    "\n",
    "    valScore = [validAcc[-1], validLoss[-1]]\n",
    "    print(f'\\nValidation Accuracy: {round(valScore[0], 5) * 100} %')\n",
    "    print(f'Validation Loss: {round(valScore[1], 4)}\\n')"
   ]
  },
  {
   "cell_type": "markdown",
   "metadata": {},
   "source": [
    "#### Import Data:\n",
    "\n",
    " - Each of the 50,000 Images is 32 x 32 pixels x 3 RGB values\n",
    "     - Each Image is 3D."
   ]
  },
  {
   "cell_type": "code",
   "execution_count": 5,
   "metadata": {},
   "outputs": [
    {
     "name": "stdout",
     "output_type": "stream",
     "text": [
      "(50000, 32, 32, 3)\n",
      "(50000, 1)\n",
      "(10000, 32, 32, 3)\n",
      "(10000, 1)\n"
     ]
    }
   ],
   "source": [
    "(x_train, y_train), (x_test, y_test) = cifar10.load_data()\n",
    "\n",
    "classes = np.arange(10)\n",
    "print(x_train.shape)\n",
    "print(y_train.shape)\n",
    "print(x_test.shape)\n",
    "print(y_test.shape)"
   ]
  },
  {
   "cell_type": "markdown",
   "metadata": {},
   "source": [
    "#### Randomize & Select 20% of Images For Validation:"
   ]
  },
  {
   "cell_type": "code",
   "execution_count": 6,
   "metadata": {},
   "outputs": [
    {
     "name": "stdout",
     "output_type": "stream",
     "text": [
      "[    0     1     2 ... 49997 49998 49999]\n",
      "[23919 36010 46101 ... 11939 22736 14372] \n",
      "\n",
      "(50000, 32, 32, 3)\n",
      "(50000, 1) \n",
      "\n",
      "(10000, 32, 32, 3)\n",
      "(10000, 1) \n",
      "\n",
      "(40000, 32, 32, 3)\n",
      "(40000, 1) \n",
      "\n"
     ]
    }
   ],
   "source": [
    "num_train_img = x_train.shape[0]\n",
    "train_ind = np.arange(0, num_train_img)\n",
    "train_ind_s = np.random.permutation(train_ind)\n",
    "print(train_ind)\n",
    "print(train_ind_s, '\\n')\n",
    "\n",
    "x_train = x_train[train_ind_s,:,:,:]\n",
    "y_train = y_train[train_ind_s]\n",
    "print(x_train.shape)\n",
    "print(y_train.shape, '\\n')\n",
    "\n",
    "x_val = x_train[0:int(0.2 * num_train_img),:,:,:]\n",
    "y_val = y_train[0:int(0.2 * num_train_img)]\n",
    "print(x_val.shape)\n",
    "print(y_val.shape, '\\n')\n",
    "\n",
    "x_train = x_train[int(0.2 * num_train_img):,:,:]\n",
    "y_train = y_train[int(0.2 * num_train_img):]\n",
    "print(x_train.shape)\n",
    "print(y_train.shape, '\\n')"
   ]
  },
  {
   "cell_type": "markdown",
   "metadata": {},
   "source": [
    "#### Plot 1st 10 Images From Randomized Data:"
   ]
  },
  {
   "cell_type": "code",
   "execution_count": 7,
   "metadata": {},
   "outputs": [
    {
     "data": {
      "image/png": "[encoded data removed]",
      "text/plain": [
       "<Figure size 1200x550 with 10 Axes>"
      ]
     },
     "metadata": {},
     "output_type": "display_data"
    }
   ],
   "source": [
    "img_plt(x_train[0:10,:,:,:], y_train[0:10]) # plot the images"
   ]
  },
  {
   "cell_type": "markdown",
   "metadata": {},
   "source": [
    "#### Scaling The Images to $ [0, \\ 1] $:"
   ]
  },
  {
   "cell_type": "code",
   "execution_count": 8,
   "metadata": {},
   "outputs": [],
   "source": [
    "x_train = x_train.astype('float32')\n",
    "x_val = x_val.astype('float32')\n",
    "x_test = x_test.astype('float32')\n",
    "\n",
    "x_train /= 255\n",
    "x_val /= 255\n",
    "x_test /= 255"
   ]
  },
  {
   "cell_type": "markdown",
   "metadata": {},
   "source": [
    "#### Convert Class Vectors to Binary Class Matrices:"
   ]
  },
  {
   "cell_type": "code",
   "execution_count": 9,
   "metadata": {},
   "outputs": [],
   "source": [
    "y_train_c = to_categorical(y_train, len(classes))\n",
    "y_val_c = to_categorical(y_val, len(classes))\n",
    "y_test_c = to_categorical(y_test, len(classes))"
   ]
  },
  {
   "cell_type": "markdown",
   "metadata": {},
   "source": [
    "#### Define The Model With Normalization Layers:"
   ]
  },
  {
   "cell_type": "code",
   "execution_count": 10,
   "metadata": {},
   "outputs": [
    {
     "name": "stdout",
     "output_type": "stream",
     "text": [
      "Model: \"sequential\"\n",
      "_________________________________________________________________\n",
      "Layer (type)                 Output Shape              Param #   \n",
      "=================================================================\n",
      "conv2d (Conv2D)              (None, 32, 32, 32)        864       \n",
      "_________________________________________________________________\n",
      "batch_normalization (BatchNo (None, 32, 32, 32)        128       \n",
      "_________________________________________________________________\n",
      "activation (Activation)      (None, 32, 32, 32)        0         \n",
      "_________________________________________________________________\n",
      "conv2d_1 (Conv2D)            (None, 32, 32, 32)        9216      \n",
      "_________________________________________________________________\n",
      "batch_normalization_1 (Batch (None, 32, 32, 32)        128       \n",
      "_________________________________________________________________\n",
      "activation_1 (Activation)    (None, 32, 32, 32)        0         \n",
      "_________________________________________________________________\n",
      "max_pooling2d (MaxPooling2D) (None, 16, 16, 32)        0         \n",
      "_________________________________________________________________\n",
      "conv2d_2 (Conv2D)            (None, 16, 16, 64)        18432     \n",
      "_________________________________________________________________\n",
      "batch_normalization_2 (Batch (None, 16, 16, 64)        256       \n",
      "_________________________________________________________________\n",
      "activation_2 (Activation)    (None, 16, 16, 64)        0         \n",
      "_________________________________________________________________\n",
      "conv2d_3 (Conv2D)            (None, 16, 16, 64)        36864     \n",
      "_________________________________________________________________\n",
      "batch_normalization_3 (Batch (None, 16, 16, 64)        256       \n",
      "_________________________________________________________________\n",
      "activation_3 (Activation)    (None, 16, 16, 64)        0         \n",
      "_________________________________________________________________\n",
      "max_pooling2d_1 (MaxPooling2 (None, 8, 8, 64)          0         \n",
      "_________________________________________________________________\n",
      "flatten (Flatten)            (None, 4096)              0         \n",
      "_________________________________________________________________\n",
      "dense (Dense)                (None, 512)               2097664   \n",
      "_________________________________________________________________\n",
      "batch_normalization_4 (Batch (None, 512)               2048      \n",
      "_________________________________________________________________\n",
      "activation_4 (Activation)    (None, 512)               0         \n",
      "_________________________________________________________________\n",
      "dropout (Dropout)            (None, 512)               0         \n",
      "_________________________________________________________________\n",
      "dense_1 (Dense)              (None, 10)                5130      \n",
      "_________________________________________________________________\n",
      "batch_normalization_5 (Batch (None, 10)                40        \n",
      "_________________________________________________________________\n",
      "activation_5 (Activation)    (None, 10)                0         \n",
      "=================================================================\n",
      "Total params: 2,171,026\n",
      "Trainable params: 2,169,598\n",
      "Non-trainable params: 1,428\n",
      "_________________________________________________________________\n"
     ]
    }
   ],
   "source": [
    "model6 = Sequential()\n",
    "model6.add(Conv2D(filters=32, kernel_size=(3, 3), padding='same', input_shape=x_train.shape[1:], use_bias=False))\n",
    "model6.add(BatchNormalization())\n",
    "model6.add(Activation('relu'))\n",
    "model6.add(Conv2D(32, (3, 3), padding='same', use_bias=False))\n",
    "model6.add(BatchNormalization())\n",
    "model6.add(Activation('relu'))\n",
    "model6.add(MaxPooling2D(pool_size=(2, 2))) # MaxPooling2D Layer or AveragePooling2D Layer\n",
    "\n",
    "model6.add(Conv2D(64, (3, 3), padding='same', use_bias=False))\n",
    "model6.add(BatchNormalization())\n",
    "model6.add(Activation('relu'))\n",
    "model6.add(Conv2D(64, (3, 3), padding='same', use_bias=False))\n",
    "model6.add(BatchNormalization())\n",
    "model6.add(Activation('relu'))\n",
    "model6.add(MaxPooling2D(pool_size=(2, 2)))\n",
    "\n",
    "model6.add(Flatten()) # Optional:Flattens 2D images to 1D Array\n",
    "model6.add(Dense(units=512))\n",
    "model6.add(BatchNormalization())\n",
    "model6.add(Activation('relu'))\n",
    "model6.add(Dropout(0.5)) # Helps to reduce overfitting\n",
    "model6.add(Dense(units=len(classes)))\n",
    "model6.add(BatchNormalization())\n",
    "model6.add(Activation('softmax'))\n",
    "model6.summary()"
   ]
  },
  {
   "attachments": {},
   "cell_type": "markdown",
   "metadata": {},
   "source": [
    "#### Compile The Model:\n",
    "\n",
    " - Still Using Same Parameters As Model 2\n",
    " - Increase Learning Rate 10x: 0.001 to 0.01\n",
    " - Batch Size: 16\n",
    " - Create A Data Generator For Real-Time Data Augmentation"
   ]
  },
  {
   "cell_type": "code",
   "execution_count": 11,
   "metadata": {},
   "outputs": [],
   "source": [
    "save_path6 = '../assets/Lecture7/model3_ckpt.h5'\n",
    "callbacks_save6 = ModelCheckpoint(save_path6, monitor='val_loss', verbose=0, save_best_only=True, save_freq='epoch')\n",
    "\n",
    "opt6 = tf.keras.optimizers.Adam(learning_rate=0.01)\n",
    "model6.compile(loss='categorical_crossentropy', optimizer=opt6, metrics=['accuracy'])\n",
    "\n",
    "datagen6 = ImageDataGenerator(\n",
    "    #shear_range = -0.1,\n",
    "    #zoom_range = -0.1,\n",
    "    rotation_range=10,\n",
    "    width_shift_range=0.1,\n",
    "    height_shift_range=0.1,\n",
    "    horizontal_flip=True\n",
    ")"
   ]
  },
  {
   "cell_type": "markdown",
   "metadata": {},
   "source": [
    "#### Compute Quantities Required For Featurewise Normalization:\n",
    "\n",
    " - std deviation, mean & principal components if ZCA Whitening is Applied."
   ]
  },
  {
   "cell_type": "code",
   "execution_count": 12,
   "metadata": {},
   "outputs": [],
   "source": [
    "datagen6.fit(x_train)"
   ]
  },
  {
   "cell_type": "markdown",
   "metadata": {},
   "source": [
    "#### Fit The Model Using Data Generator & Batch Normalization:"
   ]
  },
  {
   "cell_type": "code",
   "execution_count": 13,
   "metadata": {},
   "outputs": [
    {
     "name": "stdout",
     "output_type": "stream",
     "text": [
      "Epoch 1/50\n",
      "2500/2500 [==============================] - 64s 23ms/step - loss: 1.5810 - accuracy: 0.4246 - val_loss: 1.8426 - val_accuracy: 0.3894\n",
      "Epoch 2/50\n",
      "2500/2500 [==============================] - 44s 18ms/step - loss: 1.0766 - accuracy: 0.6215 - val_loss: 1.0300 - val_accuracy: 0.6406\n",
      "Epoch 3/50\n",
      "2500/2500 [==============================] - 51s 21ms/step - loss: 0.8913 - accuracy: 0.6898 - val_loss: 1.0435 - val_accuracy: 0.6465\n",
      "Epoch 4/50\n",
      "2500/2500 [==============================] - 44s 18ms/step - loss: 0.7804 - accuracy: 0.7304 - val_loss: 0.7273 - val_accuracy: 0.7463\n",
      "Epoch 5/50\n",
      "2500/2500 [==============================] - 40s 16ms/step - loss: 0.6870 - accuracy: 0.7649 - val_loss: 0.6922 - val_accuracy: 0.7669\n",
      "Epoch 6/50\n",
      "2500/2500 [==============================] - 42s 17ms/step - loss: 0.6019 - accuracy: 0.7911 - val_loss: 0.7310 - val_accuracy: 0.7481\n",
      "Epoch 7/50\n",
      "2500/2500 [==============================] - 63s 25ms/step - loss: 0.5356 - accuracy: 0.8145 - val_loss: 0.6763 - val_accuracy: 0.7709\n",
      "Epoch 8/50\n",
      "2500/2500 [==============================] - 66s 26ms/step - loss: 0.4837 - accuracy: 0.8344 - val_loss: 0.6937 - val_accuracy: 0.7701\n",
      "Epoch 9/50\n",
      "2500/2500 [==============================] - 66s 26ms/step - loss: 0.4354 - accuracy: 0.8494 - val_loss: 0.6220 - val_accuracy: 0.7947\n",
      "Epoch 10/50\n",
      "2500/2500 [==============================] - 65s 26ms/step - loss: 0.3931 - accuracy: 0.8630 - val_loss: 0.8734 - val_accuracy: 0.7260\n",
      "Epoch 11/50\n",
      "2500/2500 [==============================] - 64s 26ms/step - loss: 0.3581 - accuracy: 0.8765 - val_loss: 0.6300 - val_accuracy: 0.7960\n",
      "Epoch 12/50\n",
      "2500/2500 [==============================] - 63s 25ms/step - loss: 0.3382 - accuracy: 0.8837 - val_loss: 0.6341 - val_accuracy: 0.7961\n",
      "Epoch 13/50\n",
      "2500/2500 [==============================] - 49s 20ms/step - loss: 0.3174 - accuracy: 0.8917 - val_loss: 0.6842 - val_accuracy: 0.7880\n",
      "Epoch 14/50\n",
      "2500/2500 [==============================] - 47s 19ms/step - loss: 0.3042 - accuracy: 0.8939 - val_loss: 0.7170 - val_accuracy: 0.7836\n",
      "Epoch 15/50\n",
      "2500/2500 [==============================] - 47s 19ms/step - loss: 0.2790 - accuracy: 0.9039 - val_loss: 0.6676 - val_accuracy: 0.7951\n",
      "Epoch 16/50\n",
      "2500/2500 [==============================] - 57s 23ms/step - loss: 0.2695 - accuracy: 0.9078 - val_loss: 0.6650 - val_accuracy: 0.7969\n",
      "Epoch 17/50\n",
      "2500/2500 [==============================] - 65s 26ms/step - loss: 0.2503 - accuracy: 0.9146 - val_loss: 0.7114 - val_accuracy: 0.7835\n",
      "Epoch 18/50\n",
      "2500/2500 [==============================] - 64s 25ms/step - loss: 0.2369 - accuracy: 0.9203 - val_loss: 0.7386 - val_accuracy: 0.7832\n",
      "Epoch 19/50\n",
      "2500/2500 [==============================] - 38s 15ms/step - loss: 0.2329 - accuracy: 0.9207 - val_loss: 0.6889 - val_accuracy: 0.7995\n",
      "Epoch 20/50\n",
      "2500/2500 [==============================] - 37s 15ms/step - loss: 0.2242 - accuracy: 0.9229 - val_loss: 0.6762 - val_accuracy: 0.8012\n",
      "Epoch 21/50\n",
      "2500/2500 [==============================] - 38s 15ms/step - loss: 0.2154 - accuracy: 0.9250 - val_loss: 0.7259 - val_accuracy: 0.7907\n",
      "Epoch 22/50\n",
      "2500/2500 [==============================] - 37s 15ms/step - loss: 0.2007 - accuracy: 0.9324 - val_loss: 0.7245 - val_accuracy: 0.7898\n",
      "Epoch 23/50\n",
      "2500/2500 [==============================] - 44s 17ms/step - loss: 0.1946 - accuracy: 0.9347 - val_loss: 0.7224 - val_accuracy: 0.7993\n",
      "Epoch 24/50\n",
      "2500/2500 [==============================] - 45s 18ms/step - loss: 0.1910 - accuracy: 0.9344 - val_loss: 0.7001 - val_accuracy: 0.8054\n",
      "Epoch 25/50\n",
      "2500/2500 [==============================] - 45s 18ms/step - loss: 0.1814 - accuracy: 0.9385 - val_loss: 0.7229 - val_accuracy: 0.8036\n",
      "Epoch 26/50\n",
      "2500/2500 [==============================] - 45s 18ms/step - loss: 0.1687 - accuracy: 0.9454 - val_loss: 0.7528 - val_accuracy: 0.7848\n",
      "Epoch 27/50\n",
      "2500/2500 [==============================] - 41s 16ms/step - loss: 0.1796 - accuracy: 0.9408 - val_loss: 0.7658 - val_accuracy: 0.7923\n",
      "Epoch 28/50\n",
      "2500/2500 [==============================] - 37s 15ms/step - loss: 0.1683 - accuracy: 0.9435 - val_loss: 0.7126 - val_accuracy: 0.8033\n",
      "Epoch 29/50\n",
      "2500/2500 [==============================] - 36s 15ms/step - loss: 0.1643 - accuracy: 0.9446 - val_loss: 0.7013 - val_accuracy: 0.7977\n",
      "Epoch 30/50\n",
      "2500/2500 [==============================] - 38s 15ms/step - loss: 0.1646 - accuracy: 0.9445 - val_loss: 0.7111 - val_accuracy: 0.8002\n",
      "Epoch 31/50\n",
      "2500/2500 [==============================] - 38s 15ms/step - loss: 0.1554 - accuracy: 0.9471 - val_loss: 0.7699 - val_accuracy: 0.8003\n",
      "Epoch 32/50\n",
      "2500/2500 [==============================] - 39s 15ms/step - loss: 0.1563 - accuracy: 0.9482 - val_loss: 0.7923 - val_accuracy: 0.7873\n",
      "Epoch 33/50\n",
      "2500/2500 [==============================] - 39s 16ms/step - loss: 0.1416 - accuracy: 0.9522 - val_loss: 0.7459 - val_accuracy: 0.7985\n",
      "Epoch 34/50\n",
      "2500/2500 [==============================] - 38s 15ms/step - loss: 0.1465 - accuracy: 0.9489 - val_loss: 0.8155 - val_accuracy: 0.7883\n",
      "Epoch 35/50\n",
      "2500/2500 [==============================] - 39s 15ms/step - loss: 0.1420 - accuracy: 0.9527 - val_loss: 0.7398 - val_accuracy: 0.8026\n",
      "Epoch 36/50\n",
      "2500/2500 [==============================] - 38s 15ms/step - loss: 0.1326 - accuracy: 0.9545 - val_loss: 0.7852 - val_accuracy: 0.8011\n",
      "Epoch 37/50\n",
      "2500/2500 [==============================] - 37s 15ms/step - loss: 0.1375 - accuracy: 0.9520 - val_loss: 0.7796 - val_accuracy: 0.7967\n",
      "Epoch 38/50\n",
      "2500/2500 [==============================] - 37s 15ms/step - loss: 0.1377 - accuracy: 0.9540 - val_loss: 0.7666 - val_accuracy: 0.8074\n",
      "Epoch 39/50\n",
      "2500/2500 [==============================] - 37s 15ms/step - loss: 0.1364 - accuracy: 0.9516 - val_loss: 0.8921 - val_accuracy: 0.7701\n",
      "Epoch 40/50\n",
      "2500/2500 [==============================] - 39s 16ms/step - loss: 0.1277 - accuracy: 0.9576 - val_loss: 0.8122 - val_accuracy: 0.7964\n",
      "Epoch 41/50\n",
      "2500/2500 [==============================] - 42s 17ms/step - loss: 0.1281 - accuracy: 0.9584 - val_loss: 0.7777 - val_accuracy: 0.7964\n",
      "Epoch 42/50\n",
      "2500/2500 [==============================] - 45s 18ms/step - loss: 0.1263 - accuracy: 0.9572 - val_loss: 0.8011 - val_accuracy: 0.7951\n",
      "Epoch 43/50\n",
      "2500/2500 [==============================] - 45s 18ms/step - loss: 0.1255 - accuracy: 0.9580 - val_loss: 0.7723 - val_accuracy: 0.7984\n",
      "Epoch 44/50\n",
      "2500/2500 [==============================] - 40s 16ms/step - loss: 0.1151 - accuracy: 0.9608 - val_loss: 0.7668 - val_accuracy: 0.8034\n",
      "Epoch 45/50\n",
      "2500/2500 [==============================] - 38s 15ms/step - loss: 0.1158 - accuracy: 0.9593 - val_loss: 0.7832 - val_accuracy: 0.8059\n",
      "Epoch 46/50\n",
      "2500/2500 [==============================] - 38s 15ms/step - loss: 0.1149 - accuracy: 0.9615 - val_loss: 0.7366 - val_accuracy: 0.8055\n",
      "Epoch 47/50\n",
      "2500/2500 [==============================] - 37s 15ms/step - loss: 0.1179 - accuracy: 0.9618 - val_loss: 0.9756 - val_accuracy: 0.7665\n",
      "Epoch 48/50\n",
      "2500/2500 [==============================] - 38s 15ms/step - loss: 0.1082 - accuracy: 0.9648 - val_loss: 0.9347 - val_accuracy: 0.7891\n",
      "Epoch 49/50\n",
      "2500/2500 [==============================] - 38s 15ms/step - loss: 0.1103 - accuracy: 0.9638 - val_loss: 0.7581 - val_accuracy: 0.8028\n",
      "Epoch 50/50\n",
      "2500/2500 [==============================] - 38s 15ms/step - loss: 0.1067 - accuracy: 0.9649 - val_loss: 0.7935 - val_accuracy: 0.8044\n"
     ]
    },
    {
     "data": {
      "image/png": "[encoded data removed]",
      "text/plain": [
       "<Figure size 1200x600 with 2 Axes>"
      ]
     },
     "metadata": {},
     "output_type": "display_data"
    },
    {
     "name": "stdout",
     "output_type": "stream",
     "text": [
      "\n",
      "Training Accuracy: 96.317 %\n",
      "Training Loss: 0.1108\n",
      "\n",
      "\n",
      "Validation Accuracy: 80.44 %\n",
      "Validation Loss: 0.7935\n",
      "\n"
     ]
    }
   ],
   "source": [
    "history6 = model6.fit(x_train, y_train_c, batch_size=16, \n",
    "                      epochs=50, verbose=1, validation_data=(x_val, y_val_c), \n",
    "                      callbacks=[callbacks_save6])\n",
    "\n",
    "plotEverything(history6)                      "
   ]
  },
  {
   "cell_type": "markdown",
   "metadata": {},
   "source": [
    "#### Load Best Model & Evaluate:"
   ]
  },
  {
   "cell_type": "code",
   "execution_count": 14,
   "metadata": {},
   "outputs": [
    {
     "name": "stdout",
     "output_type": "stream",
     "text": [
      "1250/1250 [==============================] - 11s 6ms/step - loss: 0.1935 - accuracy: 0.9469\n",
      "Total Loss From Training Set: 0.19349676370620728\n",
      "Accuracy From Training Set: 94.69249844551086 %\n",
      "\n",
      "313/313 [==============================] - 3s 10ms/step - loss: 0.6220 - accuracy: 0.7947\n",
      "Total Loss From Validation Set: 0.6220105290412903\n",
      "Accuracy From Validation Set: 79.4700026512146 %\n",
      "\n",
      "313/313 [==============================] - 3s 10ms/step - loss: 0.6321 - accuracy: 0.7917\n",
      "Total Loss From Testing Set: 0.6320996284484863\n",
      "Accuracy From Testing Set: 79.1700005531311 %\n",
      "\n"
     ]
    }
   ],
   "source": [
    "model6a = load_model(save_path6)\n",
    "\n",
    "score6a = model6a.evaluate(x_train, y_train_c)\n",
    "print(f'Total Loss From Training Set: {score6a[0]}')\n",
    "print(f'Accuracy From Training Set: {score6a[1] * 100} %\\n')\n",
    "\n",
    "score6b = model6a.evaluate(x_val, y_val_c)\n",
    "print(f'Total Loss From Validation Set: {score6b[0]}')\n",
    "print(f'Accuracy From Validation Set: {score6b[1] * 100} %\\n')\n",
    "\n",
    "score6c = model6a.evaluate(x_test, y_test_c)\n",
    "print(f'Total Loss From Testing Set: {score6c[0]}')\n",
    "print(f'Accuracy From Testing Set: {score6c[1] * 100} %\\n')"
   ]
  },
  {
   "cell_type": "markdown",
   "metadata": {},
   "source": [
    "#### Predict Class Of Held Out Samples:"
   ]
  },
  {
   "cell_type": "code",
   "execution_count": 15,
   "metadata": {},
   "outputs": [
    {
     "name": "stdout",
     "output_type": "stream",
     "text": [
      "The Accuracy Predicting The Test Set is: 79.78 %\n",
      "\n"
     ]
    },
    {
     "data": {
      "text/html": [
       "<div>\n",
       "<style scoped>\n",
       "    .dataframe tbody tr th:only-of-type {\n",
       "        vertical-align: middle;\n",
       "    }\n",
       "\n",
       "    .dataframe tbody tr th {\n",
       "        vertical-align: top;\n",
       "    }\n",
       "\n",
       "    .dataframe thead th {\n",
       "        text-align: right;\n",
       "    }\n",
       "</style>\n",
       "<table border=\"1\" class=\"dataframe\">\n",
       "  <thead>\n",
       "    <tr style=\"text-align: right;\">\n",
       "      <th></th>\n",
       "      <th>Pred Plane</th>\n",
       "      <th>Pred Car</th>\n",
       "      <th>Pred Bird</th>\n",
       "      <th>Pred Cat</th>\n",
       "      <th>Pred Deer</th>\n",
       "      <th>Pred Dog</th>\n",
       "      <th>Pred Frog</th>\n",
       "      <th>Pred Horse</th>\n",
       "      <th>Pred Ship</th>\n",
       "      <th>Pred Truck</th>\n",
       "    </tr>\n",
       "  </thead>\n",
       "  <tbody>\n",
       "    <tr>\n",
       "      <th>Actual Plane</th>\n",
       "      <td>856</td>\n",
       "      <td>13</td>\n",
       "      <td>72</td>\n",
       "      <td>42</td>\n",
       "      <td>24</td>\n",
       "      <td>16</td>\n",
       "      <td>13</td>\n",
       "      <td>13</td>\n",
       "      <td>51</td>\n",
       "      <td>23</td>\n",
       "    </tr>\n",
       "    <tr>\n",
       "      <th>Actual Car</th>\n",
       "      <td>7</td>\n",
       "      <td>894</td>\n",
       "      <td>0</td>\n",
       "      <td>8</td>\n",
       "      <td>2</td>\n",
       "      <td>0</td>\n",
       "      <td>1</td>\n",
       "      <td>3</td>\n",
       "      <td>16</td>\n",
       "      <td>38</td>\n",
       "    </tr>\n",
       "    <tr>\n",
       "      <th>Actual Bird</th>\n",
       "      <td>28</td>\n",
       "      <td>3</td>\n",
       "      <td>715</td>\n",
       "      <td>77</td>\n",
       "      <td>69</td>\n",
       "      <td>59</td>\n",
       "      <td>60</td>\n",
       "      <td>37</td>\n",
       "      <td>8</td>\n",
       "      <td>5</td>\n",
       "    </tr>\n",
       "    <tr>\n",
       "      <th>Actual Cat</th>\n",
       "      <td>8</td>\n",
       "      <td>4</td>\n",
       "      <td>31</td>\n",
       "      <td>607</td>\n",
       "      <td>46</td>\n",
       "      <td>127</td>\n",
       "      <td>28</td>\n",
       "      <td>34</td>\n",
       "      <td>2</td>\n",
       "      <td>6</td>\n",
       "    </tr>\n",
       "    <tr>\n",
       "      <th>Actual Deer</th>\n",
       "      <td>10</td>\n",
       "      <td>0</td>\n",
       "      <td>75</td>\n",
       "      <td>58</td>\n",
       "      <td>760</td>\n",
       "      <td>37</td>\n",
       "      <td>20</td>\n",
       "      <td>55</td>\n",
       "      <td>1</td>\n",
       "      <td>5</td>\n",
       "    </tr>\n",
       "    <tr>\n",
       "      <th>Actual Dog</th>\n",
       "      <td>1</td>\n",
       "      <td>0</td>\n",
       "      <td>41</td>\n",
       "      <td>110</td>\n",
       "      <td>24</td>\n",
       "      <td>705</td>\n",
       "      <td>17</td>\n",
       "      <td>42</td>\n",
       "      <td>3</td>\n",
       "      <td>1</td>\n",
       "    </tr>\n",
       "    <tr>\n",
       "      <th>Actual Frog</th>\n",
       "      <td>6</td>\n",
       "      <td>1</td>\n",
       "      <td>35</td>\n",
       "      <td>59</td>\n",
       "      <td>42</td>\n",
       "      <td>19</td>\n",
       "      <td>851</td>\n",
       "      <td>8</td>\n",
       "      <td>2</td>\n",
       "      <td>0</td>\n",
       "    </tr>\n",
       "    <tr>\n",
       "      <th>Actual Horse</th>\n",
       "      <td>4</td>\n",
       "      <td>0</td>\n",
       "      <td>15</td>\n",
       "      <td>15</td>\n",
       "      <td>25</td>\n",
       "      <td>19</td>\n",
       "      <td>4</td>\n",
       "      <td>793</td>\n",
       "      <td>3</td>\n",
       "      <td>3</td>\n",
       "    </tr>\n",
       "    <tr>\n",
       "      <th>Actual Ship</th>\n",
       "      <td>45</td>\n",
       "      <td>15</td>\n",
       "      <td>11</td>\n",
       "      <td>11</td>\n",
       "      <td>5</td>\n",
       "      <td>13</td>\n",
       "      <td>5</td>\n",
       "      <td>4</td>\n",
       "      <td>894</td>\n",
       "      <td>16</td>\n",
       "    </tr>\n",
       "    <tr>\n",
       "      <th>Actual Truck</th>\n",
       "      <td>35</td>\n",
       "      <td>70</td>\n",
       "      <td>5</td>\n",
       "      <td>13</td>\n",
       "      <td>3</td>\n",
       "      <td>5</td>\n",
       "      <td>1</td>\n",
       "      <td>11</td>\n",
       "      <td>20</td>\n",
       "      <td>903</td>\n",
       "    </tr>\n",
       "  </tbody>\n",
       "</table>\n",
       "</div>"
      ],
      "text/plain": [
       "              Pred Plane  Pred Car  Pred Bird  Pred Cat  Pred Deer  Pred Dog  \\\n",
       "Actual Plane         856        13         72        42         24        16   \n",
       "Actual Car             7       894          0         8          2         0   \n",
       "Actual Bird           28         3        715        77         69        59   \n",
       "Actual Cat             8         4         31       607         46       127   \n",
       "Actual Deer           10         0         75        58        760        37   \n",
       "Actual Dog             1         0         41       110         24       705   \n",
       "Actual Frog            6         1         35        59         42        19   \n",
       "Actual Horse           4         0         15        15         25        19   \n",
       "Actual Ship           45        15         11        11          5        13   \n",
       "Actual Truck          35        70          5        13          3         5   \n",
       "\n",
       "              Pred Frog  Pred Horse  Pred Ship  Pred Truck  \n",
       "Actual Plane         13          13         51          23  \n",
       "Actual Car            1           3         16          38  \n",
       "Actual Bird          60          37          8           5  \n",
       "Actual Cat           28          34          2           6  \n",
       "Actual Deer          20          55          1           5  \n",
       "Actual Dog           17          42          3           1  \n",
       "Actual Frog         851           8          2           0  \n",
       "Actual Horse          4         793          3           3  \n",
       "Actual Ship           5           4        894          16  \n",
       "Actual Truck          1          11         20         903  "
      ]
     },
     "metadata": {},
     "output_type": "display_data"
    }
   ],
   "source": [
    "test_class3_prob = model6.predict(x_test)\n",
    "test_labels3 = np.argmax(test_class3_prob, axis=1)\n",
    "print(f'The Accuracy Predicting The Test Set is: {accuracy_score(test_labels3, y_test) * 100} %\\n')\n",
    "conf_matrix3 = confusion_matrix(test_labels3, y_test)\n",
    "\n",
    "colLabels3 = ['Pred Plane', 'Pred Car', 'Pred Bird', 'Pred Cat', 'Pred Deer',\n",
    "             'Pred Dog', 'Pred Frog', 'Pred Horse', 'Pred Ship', 'Pred Truck']\n",
    "rowLabels3 = ['Actual Plane', 'Actual Car', 'Actual Bird', 'Actual Cat', 'Actual Deer',\n",
    "             'Actual Dog', 'Actual Frog', 'Actual Horse', 'Actual Ship', 'Actual Truck']\n",
    "\n",
    "fancyMatrix3 = pd.DataFrame(conf_matrix3, columns=colLabels3, index=rowLabels3,)\n",
    "display(fancyMatrix3)"
   ]
  }
 ],
 "metadata": {
  "kernelspec": {
   "display_name": "ml-gpu",
   "language": "python",
   "name": "python3"
  },
  "language_info": {
   "codemirror_mode": {
    "name": "ipython",
    "version": 3
   },
   "file_extension": ".py",
   "mimetype": "text/x-python",
   "name": "python",
   "nbconvert_exporter": "python",
   "pygments_lexer": "ipython3",
   "version": "3.9.16"
  },
  "orig_nbformat": 4
 },
 "nbformat": 4,
 "nbformat_minor": 2
}
