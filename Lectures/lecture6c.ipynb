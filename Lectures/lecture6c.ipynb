{
 "cells": [
  {
   "attachments": {},
   "cell_type": "markdown",
   "metadata": {},
   "source": [
    "# Lecture 6c: Neural Network Learning Part 4\n",
    "\n",
    "3/24/2023\n",
    "\n",
    "## Using Keras Library:\n",
    " \n",
    " - Multi Class Classification: 10 Classes"
   ]
  },
  {
   "attachments": {},
   "cell_type": "markdown",
   "metadata": {},
   "source": [
    "#### Import Libraries:"
   ]
  },
  {
   "cell_type": "code",
   "execution_count": 2,
   "metadata": {},
   "outputs": [],
   "source": [
    "import numpy as np\n",
    "import pandas as pd\n",
    "import tensorflow as tf\n",
    "import matplotlib.pyplot as plt\n",
    "from random import randint\n",
    "from keras.datasets import mnist\n",
    "from keras.models import Sequential, load_model\n",
    "from keras.layers import Dense\n",
    "from keras.callbacks import ModelCheckpoint\n",
    "from keras.utils.np_utils import to_categorical # Convert Class Vectors to Binary Class Matrices\n",
    "from sklearn.metrics import accuracy_score, confusion_matrix\n",
    "from sklearn.preprocessing import StandardScaler"
   ]
  },
  {
   "attachments": {},
   "cell_type": "markdown",
   "metadata": {},
   "source": [
    "#### Define Functions For Plotting:"
   ]
  },
  {
   "cell_type": "code",
   "execution_count": 3,
   "metadata": {},
   "outputs": [],
   "source": [
    "# plot training accuracy and loss\n",
    "def plotCurve(trainingAccuracy, trainingLoss):\n",
    "    epochs = np.arange(trainingLoss.shape[0])\n",
    "    #print(epochs)\n",
    "    plt.figure(figsize = [12, 6])\n",
    "    plt.subplot(1, 2, 1)\n",
    "    plt.plot(epochs, trainingAccuracy)\n",
    "    #plt.axis([-1, 2, -1, 2])\n",
    "    plt.xlabel('Epoch')\n",
    "    plt.ylabel('Accuracy')\n",
    "    plt.title('Training Accuracy')\n",
    "\n",
    "    plt.subplot(1, 2, 2)\n",
    "    plt.plot(epochs, trainingLoss)\n",
    "    plt.xlabel('Epoch')\n",
    "    plt.ylabel('Binary CrossEntropy Loss')\n",
    "    plt.title('Training Loss')\n",
    "    plt.show()\n",
    "\n",
    "# Plot MNIST Images in subplots\n",
    "def img_plt(img, label):\n",
    "    plt.figure(figsize=(12, 5.5))\n",
    "    for i in range (1, 11):\n",
    "        plt.subplot(2, 5, i)\n",
    "        plt.imshow(img[i - 1, :, :], cmap = 'gray')\n",
    "        plt.title('Label: ' + str(label[i - 1]))\n",
    "    plt.show()"
   ]
  },
  {
   "attachments": {},
   "cell_type": "markdown",
   "metadata": {},
   "source": [
    "#### Load MNIST Dataset & Split Into Training & Testing Sets:"
   ]
  },
  {
   "cell_type": "code",
   "execution_count": 4,
   "metadata": {},
   "outputs": [
    {
     "name": "stdout",
     "output_type": "stream",
     "text": [
      "The number of Training Images = 60000\n",
      "The number of Training Labels = 60000\n",
      "The size of each Training Image is: 28 by 28 pixels \n",
      "\n",
      "The number of Testing Images = 10000\n",
      "The number of Testing Labels = 10000\n",
      "The size of each Testing Image is: 28 by 28 pixels\n"
     ]
    }
   ],
   "source": [
    "# Load Data and Split to Training and Testing Sets:\n",
    "(x_train, y_train), (x_test, y_test) = mnist.load_data()\n",
    "\n",
    "#print(x_train.shape) # (60000, 28, 28)\n",
    "#print(y_train.shape) # (60000,)\n",
    "#print(x_test.shape) # (10000, 28, 28)\n",
    "#print(y_test.shape) # (10000,)\n",
    "\n",
    "print('The number of Training Images =', x_train.shape[0])\n",
    "print('The number of Training Labels =', y_train.shape[0])\n",
    "print('The size of each Training Image is:', x_train.shape[1], 'by', x_train.shape[2], 'pixels \\n')\n",
    "print('The number of Testing Images =', x_test.shape[0])\n",
    "print('The number of Testing Labels =', y_test.shape[0])\n",
    "print('The size of each Testing Image is:', x_test.shape[1], 'by', x_test.shape[2], 'pixels')"
   ]
  },
  {
   "attachments": {},
   "cell_type": "markdown",
   "metadata": {},
   "source": [
    "#### Plot Digits 0 - 9 From The Training Set:\n",
    "\n",
    " - For Each Digit, Select A Random Sample."
   ]
  },
  {
   "cell_type": "code",
   "execution_count": 5,
   "metadata": {},
   "outputs": [
    {
     "data": {
      "image/png": "[encoded data removed]",
      "text/plain": [
       "<Figure size 1200x550 with 10 Axes>"
      ]
     },
     "metadata": {},
     "output_type": "display_data"
    }
   ],
   "source": [
    "# Select 10 images from the training set\n",
    "x_train_rnd = np.zeros((10, 28, 28))\n",
    "y_train_rnd = np.arange(10)\n",
    "\n",
    "for digit in range(10): # finds 10 images from the set\n",
    "    x_train_d = x_train[y_train == digit,:,:]\n",
    "    #x_train_rnd[digit,:,:] = x_train_d[0,:,:] # Select FIRST Digits From Set\n",
    "    x_train_rnd[digit,:,:] = x_train_d[randint(0, x_train_d.shape[0]),:,:] # Select RANDOM Digits From Set\n",
    "\n",
    "img_plt(x_train_rnd, y_train_rnd) # plot the images"
   ]
  },
  {
   "attachments": {},
   "cell_type": "markdown",
   "metadata": {},
   "source": [
    "#### Divide Training Set Into Training and Validation Sets\n",
    "\n",
    " - Create Shuffled Array Indices.\n",
    " - Shuffle Training and Testing Data.\n",
    " - Pull 1st 500 Images from Training Set and Designate as Validation Set.\n",
    "    - The Remainder Of The Training Set is the New Training Set."
   ]
  },
  {
   "cell_type": "code",
   "execution_count": 6,
   "metadata": {},
   "outputs": [
    {
     "name": "stdout",
     "output_type": "stream",
     "text": [
      "(500, 28, 28)\n",
      "(500,) \n",
      "\n",
      "(59500, 28, 28)\n",
      "(59500,) \n",
      "\n",
      "(10000, 28, 28)\n",
      "(10000,)\n"
     ]
    }
   ],
   "source": [
    "# create array with 60000 indices for TRAINING:\n",
    "train_indices = np.arange(0, x_train.shape[0])\n",
    "#print(train_indices)\n",
    "\n",
    "# create array with 10000 indices for TESTING:\n",
    "test_indices = np.arange(0, x_test.shape[0])\n",
    "#print(test_indices, '\\n')\n",
    "\n",
    "# shuffle the indices of the training array\n",
    "shuffled_indices_train = np.random.permutation(train_indices)\n",
    "#print(shuffled_indices_train)\n",
    "\n",
    "# shuffle the indices of the testing array\n",
    "shuffled_indices_test = np.random.permutation(test_indices)\n",
    "#print(shuffled_indices_test, '\\n')\n",
    "\n",
    "# create arrays of SHUFFLED TRAINING data\n",
    "x_shuffled_all_train = x_train[shuffled_indices_train,:,:]\n",
    "y_shuffled_all_train = y_train[shuffled_indices_train]\n",
    "#print(x_shuffled_all_train.shape)\n",
    "#print(y_shuffled_all_train.shape, '\\n')\n",
    "\n",
    "# create arrays of SHUFFLED TESTING data\n",
    "x_shuffled_all_test = x_test[shuffled_indices_test,:,:]\n",
    "y_shuffled_all_test = y_test[shuffled_indices_test]\n",
    "#print(x_shuffled_all_test.shape)\n",
    "#print(y_shuffled_all_test.shape, '\\n')\n",
    "\n",
    "# create validation set of 500 random images FROM SHUFFLED training set\n",
    "x_valid_09 = x_shuffled_all_train[0:500,:,:]\n",
    "y_valid_09 = y_shuffled_all_train[0:500]\n",
    "print(x_valid_09.shape)\n",
    "print(y_valid_09.shape, '\\n')\n",
    "\n",
    "# pull the rest of the images FROM SHUFFLED training set\n",
    "x_train_09 = x_shuffled_all_train[500:,:,:]\n",
    "y_train_09 = y_shuffled_all_train[500:]\n",
    "print(x_train_09.shape)\n",
    "print(y_train_09.shape, '\\n')\n",
    "\n",
    "# SHUFFLE the TESTING Set\n",
    "x_test_09 = x_shuffled_all_test[:]\n",
    "y_test_09 = y_shuffled_all_test[:]\n",
    "print(x_test_09.shape)\n",
    "print(y_test_09.shape)"
   ]
  },
  {
   "attachments": {},
   "cell_type": "markdown",
   "metadata": {},
   "source": [
    "#### Check Number Of Images In Training, Testing and Validation Sets:"
   ]
  },
  {
   "cell_type": "code",
   "execution_count": 7,
   "metadata": {},
   "outputs": [
    {
     "name": "stdout",
     "output_type": "stream",
     "text": [
      "The number of images in 'x_train_09' Training Set = 59500\n",
      "The number of labels in 'y_train_09' Training Set = 59500\n",
      "\n",
      "The number of images in 'x_valid_09' Validation Set = 500\n",
      "The number of labels in 'y_valid_09' Validation Set = 500\n",
      "\n",
      "The number of images in 'x_test_09' Testing Set = 10000\n",
      "The number of labels in 'y_test_09' Testing Set = 10000\n"
     ]
    }
   ],
   "source": [
    "print(f'The number of images in \\'x_train_09\\' Training Set = {x_train_09.shape[0]}')\n",
    "print(f'The number of labels in \\'y_train_09\\' Training Set = {y_train_09.shape[0]}\\n')\n",
    "\n",
    "print(f'The number of images in \\'x_valid_09\\' Validation Set = {x_valid_09.shape[0]}')\n",
    "print(f'The number of labels in \\'y_valid_09\\' Validation Set = {y_valid_09.shape[0]}\\n')\n",
    "\n",
    "print(f'The number of images in \\'x_test_09\\' Testing Set = {x_test_09.shape[0]}')\n",
    "print(f'The number of labels in \\'y_test_09\\' Testing Set = {y_test_09.shape[0]}')"
   ]
  },
  {
   "attachments": {},
   "cell_type": "markdown",
   "metadata": {},
   "source": [
    "#### Plot 10 Images From The Training, Testing and Validation Set:\n",
    "\n",
    " - These images are now randomized"
   ]
  },
  {
   "cell_type": "code",
   "execution_count": 8,
   "metadata": {},
   "outputs": [
    {
     "name": "stdout",
     "output_type": "stream",
     "text": [
      "First 10 Randomized Images From Training Set:\n",
      "\n"
     ]
    },
    {
     "data": {
      "image/png": "[encoded data removed]",
      "text/plain": [
       "<Figure size 1200x550 with 10 Axes>"
      ]
     },
     "metadata": {},
     "output_type": "display_data"
    },
    {
     "name": "stdout",
     "output_type": "stream",
     "text": [
      "First 10 Randomized Images From Testing Set:\n",
      "\n"
     ]
    },
    {
     "data": {
      "image/png": "[encoded data removed]",
      "text/plain": [
       "<Figure size 1200x550 with 10 Axes>"
      ]
     },
     "metadata": {},
     "output_type": "display_data"
    },
    {
     "name": "stdout",
     "output_type": "stream",
     "text": [
      "First 10 Randomized Images From Validation Set:\n",
      "\n"
     ]
    },
    {
     "data": {
      "image/png": "[encoded data removed]",
      "text/plain": [
       "<Figure size 1200x550 with 10 Axes>"
      ]
     },
     "metadata": {},
     "output_type": "display_data"
    }
   ],
   "source": [
    "print('First 10 Randomized Images From Training Set:\\n')\n",
    "img_plt(x_train_09[0:10,:,:], y_train_09[0:10]) # Select First 10 images from the set\n",
    "\n",
    "print('First 10 Randomized Images From Testing Set:\\n')\n",
    "img_plt(x_test_09[0:10,:,:], y_test_09[0:10]) # Select First 10 images from the set\n",
    "\n",
    "print('First 10 Randomized Images From Validation Set:\\n')\n",
    "img_plt(x_valid_09[0:10,:,:], y_valid_09[0:10]) # Select First 10 images from the set"
   ]
  },
  {
   "attachments": {},
   "cell_type": "markdown",
   "metadata": {},
   "source": [
    "### Select MNIST Digits 0 - 9:\n",
    "\n",
    " - Each individual MNIST image is $ 28 \\times 28 $ pixels"
   ]
  },
  {
   "attachments": {},
   "cell_type": "markdown",
   "metadata": {},
   "source": [
    "#### Create 10 Classes for Digits 0 - 9:"
   ]
  },
  {
   "cell_type": "code",
   "execution_count": 9,
   "metadata": {},
   "outputs": [
    {
     "name": "stdout",
     "output_type": "stream",
     "text": [
      "[0 1 2 3 4 5 6 7 8 9]\n"
     ]
    }
   ],
   "source": [
    "classes2 = np.arange(10)\n",
    "print(classes2)"
   ]
  },
  {
   "attachments": {},
   "cell_type": "markdown",
   "metadata": {},
   "source": [
    "#### Flatten The Images:\n",
    "\n",
    " - This takes the $ 28 \\times 28 $ 2-D image and makes it into a 784 index 1-D vector"
   ]
  },
  {
   "cell_type": "code",
   "execution_count": 10,
   "metadata": {},
   "outputs": [
    {
     "name": "stdout",
     "output_type": "stream",
     "text": [
      "(59500, 784)\n",
      "(500, 784)\n",
      "(10000, 784)\n"
     ]
    }
   ],
   "source": [
    "x_train_flat = np.reshape(x_train_09, (x_train_09.shape[0], x_train_09.shape[1] * x_train_09.shape[2]))\n",
    "x_valid_flat = np.reshape(x_valid_09, (x_valid_09.shape[0], x_valid_09.shape[1] * x_valid_09.shape[2]))\n",
    "x_test_flat = np.reshape(x_test_09, (x_test_09.shape[0], x_test_09.shape[1] * x_test_09.shape[2]))\n",
    "\n",
    "print(x_train_flat.shape)\n",
    "print(x_valid_flat.shape)\n",
    "print(x_test_flat.shape)"
   ]
  },
  {
   "attachments": {},
   "cell_type": "markdown",
   "metadata": {},
   "source": [
    "#### Scaling Each Pixel Value In The Range $ [0, 1] $:\n",
    "\n",
    " - Each original image contains pixel values $ [0, 255] $\n",
    " - Calculate min and max of each feature based on the training set.\n",
    " - Scale each feature in all sets:\n",
    "\n",
    " ##### $$ X_{scaled} = \\frac{X - X_{min}}{X_{max} - {X_{min}}} $$"
   ]
  },
  {
   "cell_type": "code",
   "execution_count": 11,
   "metadata": {},
   "outputs": [],
   "source": [
    "x_train_flat = x_train_flat.astype('float32')\n",
    "x_train_flat /= 255\n",
    "\n",
    "x_valid_flat = x_valid_flat.astype('float32')\n",
    "x_valid_flat /= 255\n",
    "\n",
    "x_test_flat = x_test_flat.astype('float32')\n",
    "x_test_flat /= 255"
   ]
  },
  {
   "attachments": {},
   "cell_type": "markdown",
   "metadata": {},
   "source": [
    "#### Normalizing The Features:\n",
    "\n",
    " - Alternative to Scaling using `sklearn.preprocessing.StandardScaler()`\n",
    "\n",
    " ##### $$ X_{norm} = \\frac{X - \\mathrm{\\mu}}{\\sigma} $$"
   ]
  },
  {
   "cell_type": "code",
   "execution_count": 12,
   "metadata": {},
   "outputs": [],
   "source": [
    "scaler = StandardScaler()\n",
    "x_train_flat2 = scaler.fit_transform(x_train_flat)\n",
    "x_valid_flat2 = scaler.transform(x_valid_flat)\n",
    "x_test_flat2 = scaler.transform(x_test_flat)"
   ]
  },
  {
   "attachments": {},
   "cell_type": "markdown",
   "metadata": {},
   "source": [
    "#### Define Model For 10 Classes:"
   ]
  },
  {
   "cell_type": "code",
   "execution_count": 14,
   "metadata": {},
   "outputs": [
    {
     "name": "stdout",
     "output_type": "stream",
     "text": [
      "Model: \"sequential_1\"\n",
      "_________________________________________________________________\n",
      " Layer (type)                Output Shape              Param #   \n",
      "=================================================================\n",
      " dense_3 (Dense)             (None, 512)               401920    \n",
      "                                                                 \n",
      " dense_4 (Dense)             (None, 512)               262656    \n",
      "                                                                 \n",
      " dense_5 (Dense)             (None, 10)                5130      \n",
      "                                                                 \n",
      "=================================================================\n",
      "Total params: 669,706\n",
      "Trainable params: 669,706\n",
      "Non-trainable params: 0\n",
      "_________________________________________________________________\n"
     ]
    }
   ],
   "source": [
    "model3 = Sequential()\n",
    "model3.add(Dense(input_dim = x_train_flat.shape[1], units=512, activation='tanh')) # Hidden Layer 1\n",
    "model3.add(Dense(units=512, activation='tanh')) # Hidden Layer 2\n",
    "model3.add(Dense(units=len(classes2), activation='softmax')) # Output Layer (10 classes = 10 neurons)\n",
    "model3.summary()"
   ]
  },
  {
   "attachments": {},
   "cell_type": "markdown",
   "metadata": {},
   "source": [
    "#### Compile, Fit & Evaluate Model:"
   ]
  },
  {
   "cell_type": "code",
   "execution_count": 15,
   "metadata": {},
   "outputs": [
    {
     "name": "stdout",
     "output_type": "stream",
     "text": [
      "Epoch 1/50\n",
      "3719/3719 [==============================] - 7s 2ms/step - loss: 0.8820 - accuracy: 0.7883\n",
      "Epoch 2/50\n",
      "3719/3719 [==============================] - 6s 2ms/step - loss: 0.4571 - accuracy: 0.8785\n",
      "Epoch 3/50\n",
      "3719/3719 [==============================] - 6s 2ms/step - loss: 0.3877 - accuracy: 0.8923\n",
      "Epoch 4/50\n",
      "3719/3719 [==============================] - 7s 2ms/step - loss: 0.3550 - accuracy: 0.8995\n",
      "Epoch 5/50\n",
      "3719/3719 [==============================] - 7s 2ms/step - loss: 0.3348 - accuracy: 0.9044\n",
      "Epoch 6/50\n",
      "3719/3719 [==============================] - 7s 2ms/step - loss: 0.3206 - accuracy: 0.9086\n",
      "Epoch 7/50\n",
      "3719/3719 [==============================] - 7s 2ms/step - loss: 0.3097 - accuracy: 0.9118\n",
      "Epoch 8/50\n",
      "3719/3719 [==============================] - 7s 2ms/step - loss: 0.3008 - accuracy: 0.9141\n",
      "Epoch 9/50\n",
      "3719/3719 [==============================] - 7s 2ms/step - loss: 0.2931 - accuracy: 0.9164\n",
      "Epoch 10/50\n",
      "3719/3719 [==============================] - 7s 2ms/step - loss: 0.2866 - accuracy: 0.9184\n",
      "Epoch 11/50\n",
      "3719/3719 [==============================] - 7s 2ms/step - loss: 0.2806 - accuracy: 0.9202\n",
      "Epoch 12/50\n",
      "3719/3719 [==============================] - 7s 2ms/step - loss: 0.2753 - accuracy: 0.9219\n",
      "Epoch 13/50\n",
      "3719/3719 [==============================] - 7s 2ms/step - loss: 0.2703 - accuracy: 0.9235\n",
      "Epoch 14/50\n",
      "3719/3719 [==============================] - 7s 2ms/step - loss: 0.2655 - accuracy: 0.9249\n",
      "Epoch 15/50\n",
      "3719/3719 [==============================] - 7s 2ms/step - loss: 0.2609 - accuracy: 0.9262\n",
      "Epoch 16/50\n",
      "3719/3719 [==============================] - 7s 2ms/step - loss: 0.2566 - accuracy: 0.9275\n",
      "Epoch 17/50\n",
      "3719/3719 [==============================] - 7s 2ms/step - loss: 0.2525 - accuracy: 0.9287\n",
      "Epoch 18/50\n",
      "3719/3719 [==============================] - 7s 2ms/step - loss: 0.2483 - accuracy: 0.9301\n",
      "Epoch 19/50\n",
      "3719/3719 [==============================] - 7s 2ms/step - loss: 0.2443 - accuracy: 0.9313\n",
      "Epoch 20/50\n",
      "3719/3719 [==============================] - 7s 2ms/step - loss: 0.2403 - accuracy: 0.9323\n",
      "Epoch 21/50\n",
      "3719/3719 [==============================] - 6s 2ms/step - loss: 0.2365 - accuracy: 0.9336\n",
      "Epoch 22/50\n",
      "3719/3719 [==============================] - 7s 2ms/step - loss: 0.2328 - accuracy: 0.9346\n",
      "Epoch 23/50\n",
      "3719/3719 [==============================] - 7s 2ms/step - loss: 0.2288 - accuracy: 0.9354\n",
      "Epoch 24/50\n",
      "3719/3719 [==============================] - 7s 2ms/step - loss: 0.2252 - accuracy: 0.9369\n",
      "Epoch 25/50\n",
      "3719/3719 [==============================] - 7s 2ms/step - loss: 0.2213 - accuracy: 0.9377\n",
      "Epoch 26/50\n",
      "3719/3719 [==============================] - 7s 2ms/step - loss: 0.2178 - accuracy: 0.9389\n",
      "Epoch 27/50\n",
      "3719/3719 [==============================] - 7s 2ms/step - loss: 0.2141 - accuracy: 0.9402\n",
      "Epoch 28/50\n",
      "3719/3719 [==============================] - 7s 2ms/step - loss: 0.2106 - accuracy: 0.9409\n",
      "Epoch 29/50\n",
      "3719/3719 [==============================] - 7s 2ms/step - loss: 0.2071 - accuracy: 0.9420\n",
      "Epoch 30/50\n",
      "3719/3719 [==============================] - 7s 2ms/step - loss: 0.2036 - accuracy: 0.9430\n",
      "Epoch 31/50\n",
      "3719/3719 [==============================] - 7s 2ms/step - loss: 0.2001 - accuracy: 0.9445\n",
      "Epoch 32/50\n",
      "3719/3719 [==============================] - 7s 2ms/step - loss: 0.1969 - accuracy: 0.9452\n",
      "Epoch 33/50\n",
      "3719/3719 [==============================] - 7s 2ms/step - loss: 0.1934 - accuracy: 0.9464\n",
      "Epoch 34/50\n",
      "3719/3719 [==============================] - 7s 2ms/step - loss: 0.1902 - accuracy: 0.9469\n",
      "Epoch 35/50\n",
      "3719/3719 [==============================] - 8s 2ms/step - loss: 0.1871 - accuracy: 0.9482\n",
      "Epoch 36/50\n",
      "3719/3719 [==============================] - 8s 2ms/step - loss: 0.1840 - accuracy: 0.9485\n",
      "Epoch 37/50\n",
      "3719/3719 [==============================] - 7s 2ms/step - loss: 0.1809 - accuracy: 0.9493\n",
      "Epoch 38/50\n",
      "3719/3719 [==============================] - 7s 2ms/step - loss: 0.1779 - accuracy: 0.9504\n",
      "Epoch 39/50\n",
      "3719/3719 [==============================] - 7s 2ms/step - loss: 0.1750 - accuracy: 0.9515\n",
      "Epoch 40/50\n",
      "3719/3719 [==============================] - 8s 2ms/step - loss: 0.1721 - accuracy: 0.9522\n",
      "Epoch 41/50\n",
      "3719/3719 [==============================] - 8s 2ms/step - loss: 0.1695 - accuracy: 0.9532\n",
      "Epoch 42/50\n",
      "3719/3719 [==============================] - 8s 2ms/step - loss: 0.1668 - accuracy: 0.9534\n",
      "Epoch 43/50\n",
      "3719/3719 [==============================] - 8s 2ms/step - loss: 0.1640 - accuracy: 0.9542\n",
      "Epoch 44/50\n",
      "3719/3719 [==============================] - 8s 2ms/step - loss: 0.1615 - accuracy: 0.9545\n",
      "Epoch 45/50\n",
      "3719/3719 [==============================] - 8s 2ms/step - loss: 0.1590 - accuracy: 0.9555\n",
      "Epoch 46/50\n",
      "3719/3719 [==============================] - 8s 2ms/step - loss: 0.1565 - accuracy: 0.9563\n",
      "Epoch 47/50\n",
      "3719/3719 [==============================] - 8s 2ms/step - loss: 0.1540 - accuracy: 0.9569\n",
      "Epoch 48/50\n",
      "3719/3719 [==============================] - 7s 2ms/step - loss: 0.1518 - accuracy: 0.9572\n",
      "Epoch 49/50\n",
      "3719/3719 [==============================] - 7s 2ms/step - loss: 0.1495 - accuracy: 0.9578\n",
      "Epoch 50/50\n",
      "3719/3719 [==============================] - 7s 2ms/step - loss: 0.1472 - accuracy: 0.9584\n",
      "16/16 [==============================] - 0s 1ms/step - loss: 0.2169 - accuracy: 0.9460\n",
      "\n",
      "Total Loss On Validation Set: 0.21689333021640778\n",
      "\n",
      "Accuracy Of Validation Set: 0.9459999799728394\n",
      "\n"
     ]
    },
    {
     "data": {
      "image/png": "[encoded data removed]",
      "text/plain": [
       "<Figure size 1200x600 with 2 Axes>"
      ]
     },
     "metadata": {},
     "output_type": "display_data"
    }
   ],
   "source": [
    "opt3 = tf.keras.optimizers.SGD(learning_rate=0.001)\n",
    "model3.compile(loss='categorical_crossentropy', optimizer=opt3, metrics=['accuracy'])\n",
    "\n",
    "# Convert Class Vectors To Binary Class Matrices:\n",
    "y_train_c = to_categorical(y_train_09, len(classes2))\n",
    "y_valid_c = to_categorical(y_valid_09, len(classes2))\n",
    "y_test_c = to_categorical(y_test_09, len(classes2))\n",
    "\n",
    "history3 = model3.fit(x_train_flat, y_train_c, batch_size=16, epochs=50, verbose=1)\n",
    "\n",
    "scoreValid3 = model3.evaluate(x_valid_flat, y_valid_c)\n",
    "print(f'\\nTotal Loss On Validation Set: {scoreValid3[0]}\\n')\n",
    "print(f'Accuracy Of Validation Set: {scoreValid3[1]}\\n')\n",
    "\n",
    "accuracyCurve3 = np.array(history3.history['accuracy'])\n",
    "lossCurve3 = np.array(history3.history['loss'])\n",
    "plotCurve(accuracyCurve3, lossCurve3)"
   ]
  },
  {
   "attachments": {},
   "cell_type": "markdown",
   "metadata": {},
   "source": [
    "#### Predict Classes Of Held Out Samples:"
   ]
  },
  {
   "cell_type": "code",
   "execution_count": 16,
   "metadata": {},
   "outputs": [
    {
     "name": "stdout",
     "output_type": "stream",
     "text": [
      "313/313 [==============================] - 0s 1ms/step\n",
      "\n",
      "The Accuracy Using The Testing Set Is: 95.45 %\n",
      "\n",
      "\n",
      "The Confusion Matrix Using Testing Set Is:\n",
      "\n"
     ]
    },
    {
     "data": {
      "text/html": [
       "<div>\n",
       "<style scoped>\n",
       "    .dataframe tbody tr th:only-of-type {\n",
       "        vertical-align: middle;\n",
       "    }\n",
       "\n",
       "    .dataframe tbody tr th {\n",
       "        vertical-align: top;\n",
       "    }\n",
       "\n",
       "    .dataframe thead th {\n",
       "        text-align: right;\n",
       "    }\n",
       "</style>\n",
       "<table border=\"1\" class=\"dataframe\">\n",
       "  <thead>\n",
       "    <tr style=\"text-align: right;\">\n",
       "      <th></th>\n",
       "      <th>Pred 0's</th>\n",
       "      <th>Pred 1's</th>\n",
       "      <th>Pred 2's</th>\n",
       "      <th>Pred 3's</th>\n",
       "      <th>Pred 4's</th>\n",
       "      <th>Pred 5's</th>\n",
       "      <th>Pred 6's</th>\n",
       "      <th>Pred 7's</th>\n",
       "      <th>Pred 8's</th>\n",
       "      <th>Pred 9's</th>\n",
       "    </tr>\n",
       "  </thead>\n",
       "  <tbody>\n",
       "    <tr>\n",
       "      <th>Act 0's</th>\n",
       "      <td>966</td>\n",
       "      <td>0</td>\n",
       "      <td>6</td>\n",
       "      <td>0</td>\n",
       "      <td>1</td>\n",
       "      <td>9</td>\n",
       "      <td>11</td>\n",
       "      <td>2</td>\n",
       "      <td>3</td>\n",
       "      <td>6</td>\n",
       "    </tr>\n",
       "    <tr>\n",
       "      <th>Act 1's</th>\n",
       "      <td>0</td>\n",
       "      <td>1118</td>\n",
       "      <td>2</td>\n",
       "      <td>0</td>\n",
       "      <td>1</td>\n",
       "      <td>2</td>\n",
       "      <td>3</td>\n",
       "      <td>6</td>\n",
       "      <td>4</td>\n",
       "      <td>6</td>\n",
       "    </tr>\n",
       "    <tr>\n",
       "      <th>Act 2's</th>\n",
       "      <td>1</td>\n",
       "      <td>3</td>\n",
       "      <td>981</td>\n",
       "      <td>9</td>\n",
       "      <td>6</td>\n",
       "      <td>0</td>\n",
       "      <td>4</td>\n",
       "      <td>18</td>\n",
       "      <td>4</td>\n",
       "      <td>2</td>\n",
       "    </tr>\n",
       "    <tr>\n",
       "      <th>Act 3's</th>\n",
       "      <td>2</td>\n",
       "      <td>2</td>\n",
       "      <td>6</td>\n",
       "      <td>966</td>\n",
       "      <td>2</td>\n",
       "      <td>14</td>\n",
       "      <td>1</td>\n",
       "      <td>5</td>\n",
       "      <td>16</td>\n",
       "      <td>12</td>\n",
       "    </tr>\n",
       "    <tr>\n",
       "      <th>Act 4's</th>\n",
       "      <td>0</td>\n",
       "      <td>0</td>\n",
       "      <td>5</td>\n",
       "      <td>0</td>\n",
       "      <td>933</td>\n",
       "      <td>4</td>\n",
       "      <td>5</td>\n",
       "      <td>5</td>\n",
       "      <td>6</td>\n",
       "      <td>25</td>\n",
       "    </tr>\n",
       "    <tr>\n",
       "      <th>Act 5's</th>\n",
       "      <td>4</td>\n",
       "      <td>1</td>\n",
       "      <td>1</td>\n",
       "      <td>8</td>\n",
       "      <td>0</td>\n",
       "      <td>836</td>\n",
       "      <td>9</td>\n",
       "      <td>1</td>\n",
       "      <td>8</td>\n",
       "      <td>5</td>\n",
       "    </tr>\n",
       "    <tr>\n",
       "      <th>Act 6's</th>\n",
       "      <td>4</td>\n",
       "      <td>3</td>\n",
       "      <td>10</td>\n",
       "      <td>1</td>\n",
       "      <td>6</td>\n",
       "      <td>9</td>\n",
       "      <td>921</td>\n",
       "      <td>0</td>\n",
       "      <td>7</td>\n",
       "      <td>1</td>\n",
       "    </tr>\n",
       "    <tr>\n",
       "      <th>Act 7's</th>\n",
       "      <td>1</td>\n",
       "      <td>2</td>\n",
       "      <td>7</td>\n",
       "      <td>10</td>\n",
       "      <td>4</td>\n",
       "      <td>4</td>\n",
       "      <td>1</td>\n",
       "      <td>974</td>\n",
       "      <td>9</td>\n",
       "      <td>13</td>\n",
       "    </tr>\n",
       "    <tr>\n",
       "      <th>Act 8's</th>\n",
       "      <td>2</td>\n",
       "      <td>6</td>\n",
       "      <td>12</td>\n",
       "      <td>13</td>\n",
       "      <td>3</td>\n",
       "      <td>9</td>\n",
       "      <td>3</td>\n",
       "      <td>2</td>\n",
       "      <td>914</td>\n",
       "      <td>3</td>\n",
       "    </tr>\n",
       "    <tr>\n",
       "      <th>Act 9's</th>\n",
       "      <td>0</td>\n",
       "      <td>0</td>\n",
       "      <td>2</td>\n",
       "      <td>3</td>\n",
       "      <td>26</td>\n",
       "      <td>5</td>\n",
       "      <td>0</td>\n",
       "      <td>15</td>\n",
       "      <td>3</td>\n",
       "      <td>936</td>\n",
       "    </tr>\n",
       "  </tbody>\n",
       "</table>\n",
       "</div>"
      ],
      "text/plain": [
       "         Pred 0's  Pred 1's  Pred 2's  Pred 3's  Pred 4's  Pred 5's  Pred 6's  \\\n",
       "Act 0's       966         0         6         0         1         9        11   \n",
       "Act 1's         0      1118         2         0         1         2         3   \n",
       "Act 2's         1         3       981         9         6         0         4   \n",
       "Act 3's         2         2         6       966         2        14         1   \n",
       "Act 4's         0         0         5         0       933         4         5   \n",
       "Act 5's         4         1         1         8         0       836         9   \n",
       "Act 6's         4         3        10         1         6         9       921   \n",
       "Act 7's         1         2         7        10         4         4         1   \n",
       "Act 8's         2         6        12        13         3         9         3   \n",
       "Act 9's         0         0         2         3        26         5         0   \n",
       "\n",
       "         Pred 7's  Pred 8's  Pred 9's  \n",
       "Act 0's         2         3         6  \n",
       "Act 1's         6         4         6  \n",
       "Act 2's        18         4         2  \n",
       "Act 3's         5        16        12  \n",
       "Act 4's         5         6        25  \n",
       "Act 5's         1         8         5  \n",
       "Act 6's         0         7         1  \n",
       "Act 7's       974         9        13  \n",
       "Act 8's         2       914         3  \n",
       "Act 9's        15         3       936  "
      ]
     },
     "metadata": {},
     "output_type": "display_data"
    }
   ],
   "source": [
    "testClass3Prob = model3.predict(x_test_flat)\n",
    "testLabels3 = np.argmax(testClass3Prob, axis = 1)\n",
    "\n",
    "testAccuracy3 = (accuracy_score(testLabels3, y_test_09) * 100)\n",
    "print(f'\\nThe Accuracy Using The Testing Set Is: {testAccuracy3} %\\n')\n",
    "\n",
    "confusionMatrix3 = confusion_matrix(testLabels3, y_test_09)\n",
    "#print(f'The Confusion Matrix Using Testing Set Is:\\n\\n{confusionMatrix3}')\n",
    "\n",
    "colLabels = ['Pred 0\\'s', 'Pred 1\\'s', 'Pred 2\\'s', 'Pred 3\\'s', 'Pred 4\\'s',\n",
    "             'Pred 5\\'s', 'Pred 6\\'s', 'Pred 7\\'s', 'Pred 8\\'s', 'Pred 9\\'s']\n",
    "rowLabels = ['Act 0\\'s', 'Act 1\\'s', 'Act 2\\'s', 'Act 3\\'s', 'Act 4\\'s',\n",
    "             'Act 5\\'s', 'Act 6\\'s', 'Act 7\\'s', 'Act 8\\'s', 'Act 9\\'s']\n",
    "\n",
    "fancyMatrix3 = pd.DataFrame(confusionMatrix3, columns=colLabels, index=rowLabels,)\n",
    "\n",
    "print('\\nThe Confusion Matrix Using Testing Set Is:\\n')\n",
    "\n",
    "display(fancyMatrix3)"
   ]
  },
  {
   "attachments": {},
   "cell_type": "markdown",
   "metadata": {},
   "source": [
    "#### Define Another Model To Demonstrate Checkpoints:"
   ]
  },
  {
   "cell_type": "code",
   "execution_count": 17,
   "metadata": {},
   "outputs": [
    {
     "name": "stdout",
     "output_type": "stream",
     "text": [
      "Model: \"sequential_2\"\n",
      "_________________________________________________________________\n",
      " Layer (type)                Output Shape              Param #   \n",
      "=================================================================\n",
      " dense_6 (Dense)             (None, 512)               401920    \n",
      "                                                                 \n",
      " dense_7 (Dense)             (None, 512)               262656    \n",
      "                                                                 \n",
      " dense_8 (Dense)             (None, 10)                5130      \n",
      "                                                                 \n",
      "=================================================================\n",
      "Total params: 669,706\n",
      "Trainable params: 669,706\n",
      "Non-trainable params: 0\n",
      "_________________________________________________________________\n"
     ]
    }
   ],
   "source": [
    "model4 = Sequential()\n",
    "model4.add(Dense(input_dim = x_train_flat.shape[1], units=512, activation='tanh')) # Hidden Layer 1\n",
    "model4.add(Dense(units=512, activation='tanh')) # Hidden Layer 2\n",
    "model4.add(Dense(units=len(classes2), activation='softmax')) # Output Layer (10 classes = 10 neurons)\n",
    "model4.summary()"
   ]
  },
  {
   "attachments": {},
   "cell_type": "markdown",
   "metadata": {},
   "source": [
    "#### Complile, Fit & Evaluate Saving The Best Model Using Training & Validation Data:\n",
    "\n",
    " - Create a checkpoint to save the best model based on the lowest validation loss.\n",
    " - Send the validation set to the `fit()` function.\n",
    " - Load the best model during testing"
   ]
  },
  {
   "cell_type": "code",
   "execution_count": 18,
   "metadata": {},
   "outputs": [
    {
     "name": "stdout",
     "output_type": "stream",
     "text": [
      "Epoch 1/50\n",
      "3719/3719 [==============================] - 7s 2ms/step - loss: 0.8931 - accuracy: 0.7880 - val_loss: 0.5295 - val_accuracy: 0.8720\n",
      "Epoch 2/50\n",
      "3719/3719 [==============================] - 7s 2ms/step - loss: 0.4616 - accuracy: 0.8773 - val_loss: 0.4249 - val_accuracy: 0.8820\n",
      "Epoch 3/50\n",
      "3719/3719 [==============================] - 7s 2ms/step - loss: 0.3911 - accuracy: 0.8919 - val_loss: 0.3871 - val_accuracy: 0.8860\n",
      "Epoch 4/50\n",
      "3719/3719 [==============================] - 7s 2ms/step - loss: 0.3579 - accuracy: 0.8994 - val_loss: 0.3686 - val_accuracy: 0.8900\n",
      "Epoch 5/50\n",
      "3719/3719 [==============================] - 7s 2ms/step - loss: 0.3375 - accuracy: 0.9042 - val_loss: 0.3529 - val_accuracy: 0.9020\n",
      "Epoch 6/50\n",
      "3719/3719 [==============================] - 7s 2ms/step - loss: 0.3231 - accuracy: 0.9082 - val_loss: 0.3363 - val_accuracy: 0.9060\n",
      "Epoch 7/50\n",
      "3719/3719 [==============================] - 7s 2ms/step - loss: 0.3119 - accuracy: 0.9113 - val_loss: 0.3305 - val_accuracy: 0.9140\n",
      "Epoch 8/50\n",
      "3719/3719 [==============================] - 7s 2ms/step - loss: 0.3031 - accuracy: 0.9139 - val_loss: 0.3261 - val_accuracy: 0.9140\n",
      "Epoch 9/50\n",
      "3719/3719 [==============================] - 7s 2ms/step - loss: 0.2955 - accuracy: 0.9160 - val_loss: 0.3210 - val_accuracy: 0.9080\n",
      "Epoch 10/50\n",
      "3719/3719 [==============================] - 7s 2ms/step - loss: 0.2889 - accuracy: 0.9179 - val_loss: 0.3171 - val_accuracy: 0.9120\n",
      "Epoch 11/50\n",
      "3719/3719 [==============================] - 8s 2ms/step - loss: 0.2829 - accuracy: 0.9199 - val_loss: 0.3163 - val_accuracy: 0.9160\n",
      "Epoch 12/50\n",
      "3719/3719 [==============================] - 7s 2ms/step - loss: 0.2777 - accuracy: 0.9212 - val_loss: 0.3107 - val_accuracy: 0.9160\n",
      "Epoch 13/50\n",
      "3719/3719 [==============================] - 7s 2ms/step - loss: 0.2725 - accuracy: 0.9229 - val_loss: 0.3049 - val_accuracy: 0.9180\n",
      "Epoch 14/50\n",
      "3719/3719 [==============================] - 7s 2ms/step - loss: 0.2677 - accuracy: 0.9241 - val_loss: 0.3020 - val_accuracy: 0.9200\n",
      "Epoch 15/50\n",
      "3719/3719 [==============================] - 7s 2ms/step - loss: 0.2633 - accuracy: 0.9249 - val_loss: 0.3020 - val_accuracy: 0.9220\n",
      "Epoch 16/50\n",
      "3719/3719 [==============================] - 7s 2ms/step - loss: 0.2590 - accuracy: 0.9269 - val_loss: 0.2995 - val_accuracy: 0.9200\n",
      "Epoch 17/50\n",
      "3719/3719 [==============================] - 7s 2ms/step - loss: 0.2549 - accuracy: 0.9282 - val_loss: 0.2971 - val_accuracy: 0.9160\n",
      "Epoch 18/50\n",
      "3719/3719 [==============================] - 8s 2ms/step - loss: 0.2507 - accuracy: 0.9292 - val_loss: 0.2898 - val_accuracy: 0.9220\n",
      "Epoch 19/50\n",
      "3719/3719 [==============================] - 8s 2ms/step - loss: 0.2467 - accuracy: 0.9306 - val_loss: 0.2926 - val_accuracy: 0.9140\n",
      "Epoch 20/50\n",
      "3719/3719 [==============================] - 8s 2ms/step - loss: 0.2429 - accuracy: 0.9314 - val_loss: 0.2878 - val_accuracy: 0.9220\n",
      "Epoch 21/50\n",
      "3719/3719 [==============================] - 8s 2ms/step - loss: 0.2390 - accuracy: 0.9325 - val_loss: 0.2827 - val_accuracy: 0.9240\n",
      "Epoch 22/50\n",
      "3719/3719 [==============================] - 8s 2ms/step - loss: 0.2351 - accuracy: 0.9334 - val_loss: 0.2806 - val_accuracy: 0.9240\n",
      "Epoch 23/50\n",
      "3719/3719 [==============================] - 8s 2ms/step - loss: 0.2312 - accuracy: 0.9344 - val_loss: 0.2756 - val_accuracy: 0.9280\n",
      "Epoch 24/50\n",
      "3719/3719 [==============================] - 7s 2ms/step - loss: 0.2275 - accuracy: 0.9358 - val_loss: 0.2779 - val_accuracy: 0.9240\n",
      "Epoch 25/50\n",
      "3719/3719 [==============================] - 7s 2ms/step - loss: 0.2238 - accuracy: 0.9369 - val_loss: 0.2739 - val_accuracy: 0.9280\n",
      "Epoch 26/50\n",
      "3719/3719 [==============================] - 7s 2ms/step - loss: 0.2200 - accuracy: 0.9380 - val_loss: 0.2717 - val_accuracy: 0.9280\n",
      "Epoch 27/50\n",
      "3719/3719 [==============================] - 7s 2ms/step - loss: 0.2165 - accuracy: 0.9391 - val_loss: 0.2675 - val_accuracy: 0.9260\n",
      "Epoch 28/50\n",
      "3719/3719 [==============================] - 8s 2ms/step - loss: 0.2128 - accuracy: 0.9402 - val_loss: 0.2654 - val_accuracy: 0.9260\n",
      "Epoch 29/50\n",
      "3719/3719 [==============================] - 8s 2ms/step - loss: 0.2093 - accuracy: 0.9411 - val_loss: 0.2640 - val_accuracy: 0.9280\n",
      "Epoch 30/50\n",
      "3719/3719 [==============================] - 8s 2ms/step - loss: 0.2058 - accuracy: 0.9425 - val_loss: 0.2586 - val_accuracy: 0.9320\n",
      "Epoch 31/50\n",
      "3719/3719 [==============================] - 8s 2ms/step - loss: 0.2023 - accuracy: 0.9434 - val_loss: 0.2562 - val_accuracy: 0.9240\n",
      "Epoch 32/50\n",
      "3719/3719 [==============================] - 8s 2ms/step - loss: 0.1989 - accuracy: 0.9442 - val_loss: 0.2538 - val_accuracy: 0.9280\n",
      "Epoch 33/50\n",
      "3719/3719 [==============================] - 8s 2ms/step - loss: 0.1956 - accuracy: 0.9452 - val_loss: 0.2507 - val_accuracy: 0.9260\n",
      "Epoch 34/50\n",
      "3719/3719 [==============================] - 7s 2ms/step - loss: 0.1924 - accuracy: 0.9461 - val_loss: 0.2477 - val_accuracy: 0.9300\n",
      "Epoch 35/50\n",
      "3719/3719 [==============================] - 7s 2ms/step - loss: 0.1891 - accuracy: 0.9470 - val_loss: 0.2467 - val_accuracy: 0.9300\n",
      "Epoch 36/50\n",
      "3719/3719 [==============================] - 7s 2ms/step - loss: 0.1860 - accuracy: 0.9479 - val_loss: 0.2439 - val_accuracy: 0.9320\n",
      "Epoch 37/50\n",
      "3719/3719 [==============================] - 8s 2ms/step - loss: 0.1829 - accuracy: 0.9491 - val_loss: 0.2420 - val_accuracy: 0.9280\n",
      "Epoch 38/50\n",
      "3719/3719 [==============================] - 8s 2ms/step - loss: 0.1800 - accuracy: 0.9496 - val_loss: 0.2393 - val_accuracy: 0.9380\n",
      "Epoch 39/50\n",
      "3719/3719 [==============================] - 8s 2ms/step - loss: 0.1769 - accuracy: 0.9507 - val_loss: 0.2372 - val_accuracy: 0.9320\n",
      "Epoch 40/50\n",
      "3719/3719 [==============================] - 8s 2ms/step - loss: 0.1742 - accuracy: 0.9514 - val_loss: 0.2350 - val_accuracy: 0.9340\n",
      "Epoch 41/50\n",
      "3719/3719 [==============================] - 8s 2ms/step - loss: 0.1714 - accuracy: 0.9515 - val_loss: 0.2321 - val_accuracy: 0.9300\n",
      "Epoch 42/50\n",
      "3719/3719 [==============================] - 8s 2ms/step - loss: 0.1688 - accuracy: 0.9526 - val_loss: 0.2276 - val_accuracy: 0.9380\n",
      "Epoch 43/50\n",
      "3719/3719 [==============================] - 8s 2ms/step - loss: 0.1660 - accuracy: 0.9531 - val_loss: 0.2283 - val_accuracy: 0.9360\n",
      "Epoch 44/50\n",
      "3719/3719 [==============================] - 8s 2ms/step - loss: 0.1634 - accuracy: 0.9542 - val_loss: 0.2217 - val_accuracy: 0.9360\n",
      "Epoch 45/50\n",
      "3719/3719 [==============================] - 7s 2ms/step - loss: 0.1609 - accuracy: 0.9545 - val_loss: 0.2217 - val_accuracy: 0.9380\n",
      "Epoch 46/50\n",
      "3719/3719 [==============================] - 7s 2ms/step - loss: 0.1586 - accuracy: 0.9553 - val_loss: 0.2191 - val_accuracy: 0.9400\n",
      "Epoch 47/50\n",
      "3719/3719 [==============================] - 7s 2ms/step - loss: 0.1561 - accuracy: 0.9562 - val_loss: 0.2189 - val_accuracy: 0.9360\n",
      "Epoch 48/50\n",
      "3719/3719 [==============================] - 8s 2ms/step - loss: 0.1539 - accuracy: 0.9569 - val_loss: 0.2182 - val_accuracy: 0.9420\n",
      "Epoch 49/50\n",
      "3719/3719 [==============================] - 8s 2ms/step - loss: 0.1517 - accuracy: 0.9572 - val_loss: 0.2129 - val_accuracy: 0.9380\n",
      "Epoch 50/50\n",
      "3719/3719 [==============================] - 8s 2ms/step - loss: 0.1493 - accuracy: 0.9580 - val_loss: 0.2140 - val_accuracy: 0.9400\n",
      "16/16 [==============================] - 0s 1ms/step - loss: 0.2129 - accuracy: 0.9380\n",
      "\n",
      "Total Loss On Validation Set: 0.21287837624549866\n",
      "\n",
      "Accuracy Of Validation Set: 0.9380000233650208\n",
      "\n"
     ]
    },
    {
     "data": {
      "image/png": "[encoded data removed]",
      "text/plain": [
       "<Figure size 1200x600 with 2 Axes>"
      ]
     },
     "metadata": {},
     "output_type": "display_data"
    }
   ],
   "source": [
    "savePath = '../assets/Lecture6/model4_mnist.h5'\n",
    "callbackSave = ModelCheckpoint(savePath, monitor='val_loss', verbose=0, save_best_only=True, save_freq='epoch')\n",
    "\n",
    "opt4 = tf.keras.optimizers.SGD(learning_rate=0.001)\n",
    "model4.compile(loss='categorical_crossentropy', optimizer=opt4, metrics=['accuracy'])\n",
    "\n",
    "history4 = model4.fit(x_train_flat, y_train_c, batch_size=16, epochs=50, \n",
    "            verbose=1, validation_data=(x_valid_flat, y_valid_c), callbacks=[callbackSave])\n",
    "\n",
    "model4 = load_model(savePath)\n",
    "\n",
    "scoreValid4 = model4.evaluate(x_valid_flat, y_valid_c)\n",
    "print(f'\\nTotal Loss On Validation Set: {scoreValid4[0]}\\n')\n",
    "print(f'Accuracy Of Validation Set: {scoreValid4[1]}\\n')\n",
    "\n",
    "accuracyCurve4 = np.array(history4.history['accuracy'])\n",
    "lossCurve4 = np.array(history4.history['loss'])\n",
    "plotCurve(accuracyCurve4, lossCurve4)"
   ]
  },
  {
   "attachments": {},
   "cell_type": "markdown",
   "metadata": {},
   "source": [
    "#### Evaluate The Model On The Test Data:"
   ]
  },
  {
   "cell_type": "code",
   "execution_count": 19,
   "metadata": {},
   "outputs": [
    {
     "name": "stdout",
     "output_type": "stream",
     "text": [
      "313/313 [==============================] - 0s 1ms/step\n",
      "\n",
      "The Accuracy Using The Testing Set = 95.37 %\n",
      "\n",
      "The Confusion Matrix Using Testing Set Is:\n",
      "\n"
     ]
    },
    {
     "data": {
      "text/html": [
       "<div>\n",
       "<style scoped>\n",
       "    .dataframe tbody tr th:only-of-type {\n",
       "        vertical-align: middle;\n",
       "    }\n",
       "\n",
       "    .dataframe tbody tr th {\n",
       "        vertical-align: top;\n",
       "    }\n",
       "\n",
       "    .dataframe thead th {\n",
       "        text-align: right;\n",
       "    }\n",
       "</style>\n",
       "<table border=\"1\" class=\"dataframe\">\n",
       "  <thead>\n",
       "    <tr style=\"text-align: right;\">\n",
       "      <th></th>\n",
       "      <th>Pred 0's</th>\n",
       "      <th>Pred 1's</th>\n",
       "      <th>Pred 2's</th>\n",
       "      <th>Pred 3's</th>\n",
       "      <th>Pred 4's</th>\n",
       "      <th>Pred 5's</th>\n",
       "      <th>Pred 6's</th>\n",
       "      <th>Pred 7's</th>\n",
       "      <th>Pred 8's</th>\n",
       "      <th>Pred 9's</th>\n",
       "    </tr>\n",
       "  </thead>\n",
       "  <tbody>\n",
       "    <tr>\n",
       "      <th>Act 0's</th>\n",
       "      <td>964</td>\n",
       "      <td>0</td>\n",
       "      <td>7</td>\n",
       "      <td>0</td>\n",
       "      <td>1</td>\n",
       "      <td>10</td>\n",
       "      <td>10</td>\n",
       "      <td>2</td>\n",
       "      <td>4</td>\n",
       "      <td>7</td>\n",
       "    </tr>\n",
       "    <tr>\n",
       "      <th>Act 1's</th>\n",
       "      <td>0</td>\n",
       "      <td>1121</td>\n",
       "      <td>3</td>\n",
       "      <td>1</td>\n",
       "      <td>1</td>\n",
       "      <td>2</td>\n",
       "      <td>3</td>\n",
       "      <td>7</td>\n",
       "      <td>4</td>\n",
       "      <td>7</td>\n",
       "    </tr>\n",
       "    <tr>\n",
       "      <th>Act 2's</th>\n",
       "      <td>1</td>\n",
       "      <td>3</td>\n",
       "      <td>976</td>\n",
       "      <td>9</td>\n",
       "      <td>7</td>\n",
       "      <td>2</td>\n",
       "      <td>3</td>\n",
       "      <td>20</td>\n",
       "      <td>3</td>\n",
       "      <td>1</td>\n",
       "    </tr>\n",
       "    <tr>\n",
       "      <th>Act 3's</th>\n",
       "      <td>3</td>\n",
       "      <td>1</td>\n",
       "      <td>8</td>\n",
       "      <td>968</td>\n",
       "      <td>1</td>\n",
       "      <td>19</td>\n",
       "      <td>1</td>\n",
       "      <td>5</td>\n",
       "      <td>16</td>\n",
       "      <td>9</td>\n",
       "    </tr>\n",
       "    <tr>\n",
       "      <th>Act 4's</th>\n",
       "      <td>0</td>\n",
       "      <td>0</td>\n",
       "      <td>5</td>\n",
       "      <td>0</td>\n",
       "      <td>933</td>\n",
       "      <td>5</td>\n",
       "      <td>6</td>\n",
       "      <td>4</td>\n",
       "      <td>7</td>\n",
       "      <td>21</td>\n",
       "    </tr>\n",
       "    <tr>\n",
       "      <th>Act 5's</th>\n",
       "      <td>4</td>\n",
       "      <td>1</td>\n",
       "      <td>1</td>\n",
       "      <td>9</td>\n",
       "      <td>0</td>\n",
       "      <td>829</td>\n",
       "      <td>12</td>\n",
       "      <td>1</td>\n",
       "      <td>8</td>\n",
       "      <td>4</td>\n",
       "    </tr>\n",
       "    <tr>\n",
       "      <th>Act 6's</th>\n",
       "      <td>5</td>\n",
       "      <td>3</td>\n",
       "      <td>10</td>\n",
       "      <td>0</td>\n",
       "      <td>6</td>\n",
       "      <td>9</td>\n",
       "      <td>917</td>\n",
       "      <td>0</td>\n",
       "      <td>6</td>\n",
       "      <td>1</td>\n",
       "    </tr>\n",
       "    <tr>\n",
       "      <th>Act 7's</th>\n",
       "      <td>1</td>\n",
       "      <td>2</td>\n",
       "      <td>6</td>\n",
       "      <td>11</td>\n",
       "      <td>3</td>\n",
       "      <td>1</td>\n",
       "      <td>2</td>\n",
       "      <td>969</td>\n",
       "      <td>7</td>\n",
       "      <td>12</td>\n",
       "    </tr>\n",
       "    <tr>\n",
       "      <th>Act 8's</th>\n",
       "      <td>2</td>\n",
       "      <td>4</td>\n",
       "      <td>14</td>\n",
       "      <td>8</td>\n",
       "      <td>2</td>\n",
       "      <td>10</td>\n",
       "      <td>4</td>\n",
       "      <td>2</td>\n",
       "      <td>918</td>\n",
       "      <td>5</td>\n",
       "    </tr>\n",
       "    <tr>\n",
       "      <th>Act 9's</th>\n",
       "      <td>0</td>\n",
       "      <td>0</td>\n",
       "      <td>2</td>\n",
       "      <td>4</td>\n",
       "      <td>28</td>\n",
       "      <td>5</td>\n",
       "      <td>0</td>\n",
       "      <td>18</td>\n",
       "      <td>1</td>\n",
       "      <td>942</td>\n",
       "    </tr>\n",
       "  </tbody>\n",
       "</table>\n",
       "</div>"
      ],
      "text/plain": [
       "         Pred 0's  Pred 1's  Pred 2's  Pred 3's  Pred 4's  Pred 5's  Pred 6's  \\\n",
       "Act 0's       964         0         7         0         1        10        10   \n",
       "Act 1's         0      1121         3         1         1         2         3   \n",
       "Act 2's         1         3       976         9         7         2         3   \n",
       "Act 3's         3         1         8       968         1        19         1   \n",
       "Act 4's         0         0         5         0       933         5         6   \n",
       "Act 5's         4         1         1         9         0       829        12   \n",
       "Act 6's         5         3        10         0         6         9       917   \n",
       "Act 7's         1         2         6        11         3         1         2   \n",
       "Act 8's         2         4        14         8         2        10         4   \n",
       "Act 9's         0         0         2         4        28         5         0   \n",
       "\n",
       "         Pred 7's  Pred 8's  Pred 9's  \n",
       "Act 0's         2         4         7  \n",
       "Act 1's         7         4         7  \n",
       "Act 2's        20         3         1  \n",
       "Act 3's         5        16         9  \n",
       "Act 4's         4         7        21  \n",
       "Act 5's         1         8         4  \n",
       "Act 6's         0         6         1  \n",
       "Act 7's       969         7        12  \n",
       "Act 8's         2       918         5  \n",
       "Act 9's        18         1       942  "
      ]
     },
     "metadata": {},
     "output_type": "display_data"
    }
   ],
   "source": [
    "testClass4Prob = model4.predict(x_test_flat)\n",
    "testLabels4 = np.argmax(testClass4Prob, axis=1)\n",
    "\n",
    "testAccuracy4 = (accuracy_score(testLabels4, y_test_09) * 100)\n",
    "print(f'\\nThe Accuracy Using The Testing Set = {testAccuracy4} %')\n",
    "\n",
    "confusionMatrix4 = confusion_matrix(testLabels4, y_test_09)\n",
    "# print(f'The Confusion Matrix Using Testing Set Is:\\n\\n{confusionMatrix4}')\n",
    "\n",
    "fancyMatrix4 = pd.DataFrame(confusionMatrix4, columns=colLabels, index=rowLabels,)\n",
    "\n",
    "print('\\nThe Confusion Matrix Using Testing Set Is:\\n')\n",
    "\n",
    "display(fancyMatrix4)"
   ]
  }
 ],
 "metadata": {
  "kernelspec": {
   "display_name": "base",
   "language": "python",
   "name": "python3"
  },
  "language_info": {
   "codemirror_mode": {
    "name": "ipython",
    "version": 3
   },
   "file_extension": ".py",
   "mimetype": "text/x-python",
   "name": "python",
   "nbconvert_exporter": "python",
   "pygments_lexer": "ipython3",
   "version": "3.9.13"
  },
  "orig_nbformat": 4
 },
 "nbformat": 4,
 "nbformat_minor": 2
}
