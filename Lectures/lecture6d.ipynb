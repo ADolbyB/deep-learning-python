{
 "cells": [
  {
   "attachments": {},
   "cell_type": "markdown",
   "metadata": {},
   "source": [
    "# Lecture 6d: Neural Network Learning Part 4\n",
    "\n",
    "3/24/2023\n",
    "\n",
    "## Using Keras Library:\n",
    " \n",
    " - Brain Tumor Detection\n",
    "    - Brain Tumor Dataset Overview:\n",
    "        The 'Brain Tumor Dataset' is a publicly available dataset with 3762 images of\n",
    "        MRI brain scans with and without brain tumors. The goal of the dataset is to\n",
    "        determine if a brain scan image shows a tumor or not.\n",
    "        Source: https://www.kaggle.com/jakeshbohaju/brain-tumor"
   ]
  },
  {
   "attachments": {},
   "cell_type": "markdown",
   "metadata": {},
   "source": [
    "#### Class/labels: whether the image of the brain has a tumor (1) or not (0)\n",
    "#### Features/attributes:\n",
    " - Mean: average of pixel values\n",
    " - Variance: width of histogram and how much gray levels deviate from the mean\n",
    " - Standard Deviation: average amount of variability in pixel values\n",
    " - Entropy: randomness of grayscale values\n",
    " - Skewness: quantifies histogram asymmetry around the mean\n",
    " - Kurtosis: quantifies sharpness of the histogram\n",
    " - Contrast: measures local level variations\n",
    " - Energy: intensity level of each pixel\n",
    " - ASM: measures image smoothness\n",
    " - Homogeneity: quantifies how low-contrast an image is\n",
    " - Dissimilarity: indicates the difference between pixels\n",
    " - Correlation: measures correlation between pixels in different directions\n",
    " - Coarseness: degree of microtexture in an image"
   ]
  },
  {
   "attachments": {},
   "cell_type": "markdown",
   "metadata": {},
   "source": [
    "#### Import Libraries:"
   ]
  },
  {
   "cell_type": "code",
   "execution_count": 25,
   "metadata": {},
   "outputs": [],
   "source": [
    "import numpy as np\n",
    "import pandas as pd\n",
    "import tensorflow as tf\n",
    "import matplotlib.pyplot as plt\n",
    "from random import randint\n",
    "from keras.models import Sequential\n",
    "from keras.layers import Dense\n",
    "from keras.utils.np_utils import to_categorical # Convert Class Vectors to Binary Class Matrices\n",
    "from sklearn.metrics import accuracy_score, confusion_matrix\n",
    "from sklearn.preprocessing import MinMaxScaler"
   ]
  },
  {
   "attachments": {},
   "cell_type": "markdown",
   "metadata": {},
   "source": [
    "#### Import Training & Testing Data:"
   ]
  },
  {
   "cell_type": "code",
   "execution_count": 29,
   "metadata": {},
   "outputs": [
    {
     "name": "stdout",
     "output_type": "stream",
     "text": [
      "(3762,)\n",
      "Training Labels for Training Data: [0. 0. 1. ... 0. 0. 0.] \n",
      "\n"
     ]
    }
   ],
   "source": [
    "brain_tumor = pd.read_csv('../assets/Lecture6/BT-Training.csv', header=0, index_col=0)\n",
    "brain_tumor_test = pd.read_csv('../assets/Lecture6/BT-Test.csv', header=0, index_col=0)\n",
    "#print(brain_tumor)\n",
    "\n",
    "train_labels = np.loadtxt('../assets/Lecture6/BT-Training.csv', delimiter=',', skiprows=1, usecols=1)\n",
    "print(train_labels.shape)\n",
    "print(f'Training Labels for Training Data: {train_labels}', '\\n')\n",
    "\n",
    "#test_labels = np.loadtxt('../assets/Lecture6/BT-Test.csv', delimiter=',', skiprows=1, usecols=1)\n",
    "#print(test_labels.shape)\n",
    "#print(f'Training Labels for Training Data: {test_labels}')"
   ]
  },
  {
   "attachments": {},
   "cell_type": "markdown",
   "metadata": {},
   "source": [
    "#### Scale Data Values To Range $ [0, 1] $"
   ]
  },
  {
   "cell_type": "code",
   "execution_count": null,
   "metadata": {},
   "outputs": [],
   "source": [
    "scaler = MinMaxScaler()\n",
    "train_data = scaler.fit_transform(brain_tumor)\n",
    "test_data = scaler.transform(brain_tumor_test)"
   ]
  },
  {
   "cell_type": "code",
   "execution_count": null,
   "metadata": {},
   "outputs": [],
   "source": []
  }
 ],
 "metadata": {
  "kernelspec": {
   "display_name": "base",
   "language": "python",
   "name": "python3"
  },
  "language_info": {
   "codemirror_mode": {
    "name": "ipython",
    "version": 3
   },
   "file_extension": ".py",
   "mimetype": "text/x-python",
   "name": "python",
   "nbconvert_exporter": "python",
   "pygments_lexer": "ipython3",
   "version": "3.9.13"
  },
  "orig_nbformat": 4
 },
 "nbformat": 4,
 "nbformat_minor": 2
}
