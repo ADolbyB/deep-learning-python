{
 "cells": [
  {
   "attachments": {},
   "cell_type": "markdown",
   "metadata": {},
   "source": [
    "# Lecture 6: Neural Network Learning Part 4\n",
    "\n",
    "3/16/2023\n",
    "\n",
    "## Using Keras Library:\n",
    " - Binary Clasification\n",
    " - Multi Class Classification\n",
    " - Brain Tumor Dataset Classification"
   ]
  },
  {
   "attachments": {},
   "cell_type": "markdown",
   "metadata": {},
   "source": [
    "#### Import Libraries:"
   ]
  },
  {
   "cell_type": "code",
   "execution_count": 2,
   "metadata": {},
   "outputs": [],
   "source": [
    "import numpy as np\n",
    "import tensorflow as tf\n",
    "import matplotlib.pyplot as plt\n",
    "from random import randint\n",
    "from keras.datasets import mnist\n",
    "from keras.models import Sequential, load_model\n",
    "from keras.layers import Dense\n",
    "from keras.callbacks import ModelCheckpoint\n",
    "from keras.utils.np_utils import to_categorical # Convert Class Vectors to Binary Class Matrices\n",
    "from sklearn.metrics import accuracy_score, confusion_matrix, recall_score\n",
    "from sklearn.preprocessing import StandardScaler # For Normalizing Data"
   ]
  },
  {
   "attachments": {},
   "cell_type": "markdown",
   "metadata": {},
   "source": [
    "#### Define Functions For Plotting:"
   ]
  },
  {
   "cell_type": "code",
   "execution_count": 3,
   "metadata": {},
   "outputs": [],
   "source": [
    "# plot data points\n",
    "def plot_fun(features, labels, classes, plotRange):\n",
    "    plt.plot(features[labels[:] == classes[0], 0], features[labels[:] == classes[0], 1], 'rs',\n",
    "             features[labels[:] == classes[1], 0], features[labels[:] == classes[1], 1], 'g^')\n",
    "    plt.axis(plotRange)\n",
    "    plt.title('Raw Data Plot For Both Classes')\n",
    "    plt.xlabel('X_1: Feature 1')\n",
    "    plt.ylabel('X_2: Feature 2')\n",
    "    plt.legend(['Class ' + str(classes[0]), 'Class ' + str(classes[1])])\n",
    "    plt.show()\n",
    "\n",
    "# plot separating line: w1x1 + w2x2 + w0 = 0\n",
    "def plot_fun_thr(features, labels, thresholdParams, learnRate, batchSize, classes):\n",
    "    # plot data points\n",
    "    plt.plot(features[labels[:] == classes[0], 0], features[labels[:] == classes[0], 1], 'rs',\n",
    "             features[labels[:] == classes[1], 0], features[labels[:] == classes[1], 1], 'g^')\n",
    "    plt.axis([-3, 3, -2, 4])\n",
    "    # plot separating line\n",
    "    x1 = np.linspace(-3, 3, 50)\n",
    "    # w1x1 + w2x2 + w0 = 0 => x2 = -(w1x1 + w0) / w2\n",
    "    x2 = -(thresholdParams[0] * x1 + thresholdParams[2]) / thresholdParams[1]\n",
    "    plt.plot(x1, x2, '-b')\n",
    "    plt.title(f'Data Classification:\\nLearn Rate = {learnRate}, Batch Size = {batchSize}')\n",
    "    plt.xlabel('X_1: Feature 1')\n",
    "    plt.ylabel('X_2: Feature 2')\n",
    "    plt.legend(['Class ' + str(classes[0]), 'Class ' + str(classes[1])])\n",
    "    #plt.pause(0.5)\n",
    "    #plt.show()\n",
    "\n",
    "# plot training accuracy and loss\n",
    "def plotCurve(trainingAccuracy, trainingLoss):\n",
    "    epochs = np.arange(trainingLoss.shape[0])\n",
    "    #print(epochs)\n",
    "    plt.figure(figsize = [12, 6])\n",
    "    plt.subplot(1, 2, 1)\n",
    "    plt.plot(epochs, trainingAccuracy)\n",
    "    #plt.axis([-1, 2, -1, 2])\n",
    "    plt.xlabel('Epoch')\n",
    "    plt.ylabel('Accuracy')\n",
    "    plt.title('Training Accuracy')\n",
    "\n",
    "    plt.subplot(1, 2, 2)\n",
    "    plt.plot(epochs, trainingLoss)\n",
    "    plt.xlabel('Epoch')\n",
    "    plt.ylabel('Binary CrossEntropy Loss')\n",
    "    plt.title('Training Loss')\n",
    "    plt.show()\n",
    "\n",
    "# Plot MNIST Images in subplots\n",
    "def img_plt(img, label):\n",
    "    plt.figure(figsize=(12, 5.5))\n",
    "    for i in range (1, 11):\n",
    "        plt.subplot(2, 5, i)\n",
    "        plt.imshow(img[i - 1, :, :], cmap = 'gray')\n",
    "        plt.title('Label: ' + str(label[i - 1]))\n",
    "    plt.show()\n",
    "\n",
    "# Plot Features of MNIST data\n",
    "def feat_plot(features, labels, classes, title):\n",
    "    for class_i in classes:\n",
    "        plt.plot(features[labels[:] == classes[class_i], 0],\n",
    "                 features[labels[:] == classes[class_i], 1], 'o', markersize = 4)\n",
    "        # plt.axis([-2, 2, -2, 2])\n",
    "        plt.xlabel('X: Feature 1')\n",
    "        plt.ylabel('Y: Feature 2')\n",
    "        plt.title(title)\n",
    "        plt.legend(['Class ' + str(classes[class_i]) for class_i in classes])\n",
    "    plt.show()"
   ]
  },
  {
   "attachments": {},
   "cell_type": "markdown",
   "metadata": {},
   "source": [
    "#### Define Function For Feature Extraction From MNIST Images:"
   ]
  },
  {
   "cell_type": "code",
   "execution_count": 4,
   "metadata": {},
   "outputs": [],
   "source": [
    "def feat_extract_bin(images):\n",
    "    # Divide Each Image into 4 quadrants\n",
    "    features = np.zeros((images.shape[0], 4))\n",
    "    \n",
    "    features_temp = np.sum(images[:, 0:int(images.shape[1] / 2), 0:int(images.shape[2] / 2)], axis = 2) # Quadrant 0\n",
    "    features[:,0] = np.sum(features_temp, axis = 1) / (14*14) # Average Pixel Values\n",
    "    \n",
    "    features_temp = np.sum(images[:, 0:int(images.shape[1] / 2), int(images.shape[2] / 2):], axis = 2) # Quadrant 1\n",
    "    features[:,1] = np.sum(features_temp, axis = 1) / (14*14) # Average Pixel Values\n",
    "    \n",
    "    features_temp = np.sum(images[:, int(images.shape[1] / 2):, 0:int(images.shape[2] / 2)], axis = 2) # Quadrant 2\n",
    "    features[:,2] = np.sum(features_temp, axis = 1) / (14*14) # Average Pixel Values\n",
    "    \n",
    "    features_temp = np.sum(images[:, int(images.shape[1] / 2):, int(images.shape[2] / 2):], axis = 2) # Quadrant 3\n",
    "    features[:,3] = np.sum(features_temp, axis = 1) / (14*14) # Average Pixel Values\n",
    "    return features\n",
    "\n",
    "def feat_extract_mult(images):\n",
    "    width = images.shape[1]\n",
    "    height = images.shape[2]\n",
    "    features = np.zeros(images.shape[0], 4)\n",
    "\n",
    "    features_temp = np.sum(images[:, 0:int(width / 2), 0:int(height / 2)], axis = 2) # Quadrant 0\n",
    "    features[:,0] = np.sum(features_temp, axis = 1) / (width * height / 4) # Average Pixel Values\n",
    "    \n",
    "    features_temp = np.sum(images[:, 0:int(width / 2), int(height / 2):], axis = 2) # Quadrant 1\n",
    "    features[:,1] = np.sum(features_temp, axis = 1) / (width * height / 4) # Average Pixel Values\n",
    "    \n",
    "    features_temp = np.sum(images[:, int(width / 2):, 0:int(height / 2)], axis = 2) # Quadrant 2\n",
    "    features[:,2] = np.sum(features_temp, axis = 1) / (width * height / 4) # Average Pixel Values\n",
    "    \n",
    "    features_temp = np.sum(images[:, int(images.shape[1] / 2):, int(images.shape[2] / 2):], axis = 2) # Quadrant 3\n",
    "    features[:,3] = np.sum(features_temp, axis = 1) / (width * height / 4) # Average Pixel Values\n",
    "    return features"
   ]
  },
  {
   "attachments": {},
   "cell_type": "markdown",
   "metadata": {},
   "source": [
    "## Keras For Binary Classification:"
   ]
  },
  {
   "attachments": {},
   "cell_type": "markdown",
   "metadata": {},
   "source": [
    "#### Load MNIST Dataset & Split Into Training & Testing Sets:"
   ]
  },
  {
   "cell_type": "code",
   "execution_count": 5,
   "metadata": {},
   "outputs": [
    {
     "name": "stdout",
     "output_type": "stream",
     "text": [
      "The number of Training Images = 60000\n",
      "The number of Training Labels = 60000\n",
      "The size of each Training Image is: 28 by 28 pixels \n",
      "\n",
      "The number of Testing Images = 10000\n",
      "The number of Testing Labels = 10000\n",
      "The size of each Testing Image is: 28 by 28 pixels\n"
     ]
    }
   ],
   "source": [
    "# Load Data and Split to Training and Testing Sets:\n",
    "(x_train, y_train), (x_test, y_test) = mnist.load_data()\n",
    "\n",
    "#print(x_train.shape) # (60000, 28, 28)\n",
    "#print(y_train.shape) # (60000,)\n",
    "#print(x_test.shape) # (10000, 28, 28)\n",
    "#print(y_test.shape) # (10000,)\n",
    "\n",
    "print('The number of Training Images =', x_train.shape[0])\n",
    "print('The number of Training Labels =', y_train.shape[0])\n",
    "print('The size of each Training Image is:', x_train.shape[1], 'by', x_train.shape[2], 'pixels \\n')\n",
    "print('The number of Testing Images =', x_test.shape[0])\n",
    "print('The number of Testing Labels =', y_test.shape[0])\n",
    "print('The size of each Testing Image is:', x_test.shape[1], 'by', x_test.shape[2], 'pixels')"
   ]
  },
  {
   "attachments": {},
   "cell_type": "markdown",
   "metadata": {},
   "source": [
    "#### Plot Digits 0 - 9 From The Training Set:\n",
    "\n",
    " - For Each Digit, Select A Random Sample."
   ]
  },
  {
   "cell_type": "code",
   "execution_count": 6,
   "metadata": {},
   "outputs": [
    {
     "data": {
      "image/png": "[encoded data removed]",
      "text/plain": [
       "<Figure size 1200x550 with 10 Axes>"
      ]
     },
     "metadata": {},
     "output_type": "display_data"
    }
   ],
   "source": [
    "# Select 10 images from the training set\n",
    "x_train_rnd = np.zeros((10, 28, 28))\n",
    "y_train_rnd = np.arange(10)\n",
    "\n",
    "for digit in range(10): # finds 10 images from the set\n",
    "    x_train_d = x_train[y_train == digit,:,:]\n",
    "    #x_train_rnd[digit,:,:] = x_train_d[0,:,:] # Select FIRST Digits From Set\n",
    "    x_train_rnd[digit,:,:] = x_train_d[randint(0, x_train_d.shape[0]),:,:] # Select RANDOM Digits From Set\n",
    "\n",
    "img_plt(x_train_rnd, y_train_rnd) # plot the images"
   ]
  },
  {
   "attachments": {},
   "cell_type": "markdown",
   "metadata": {},
   "source": [
    "#### Check Training and Test Sets:"
   ]
  },
  {
   "cell_type": "code",
   "execution_count": 7,
   "metadata": {},
   "outputs": [
    {
     "name": "stdout",
     "output_type": "stream",
     "text": [
      "Total # of 0's and 1's in Training Set should be: 5923 + 6742 = 12665\n",
      "\n",
      "Total # of 0's and 1's in Test Set should be: 980 + 1135 = 2115\n",
      "\n"
     ]
    }
   ],
   "source": [
    "# Check Training Data Set for correct amount of images:\n",
    "x_train_TEST1 = x_train[y_train == 0] # Select all Zeros in Training Set\n",
    "x_train_TEST2 = x_train[y_train == 1] # Select all Ones in Training Set\n",
    "#print(x_train_TEST1.shape)\n",
    "#print(x_train_TEST2.shape)\n",
    "total1 = x_train_TEST1.shape[0] + x_train_TEST2.shape[0]\n",
    "print(f'Total # of 0\\'s and 1\\'s in Training Set should be: {x_train_TEST1.shape[0]} + {x_train_TEST2.shape[0]} = {total1}\\n')\n",
    "\n",
    "# Check Test Data Set for correct amount of images:\n",
    "x_test_TEST1 = x_test[y_test == 0] # Select all Zeros in Testing Set\n",
    "x_test_TEST2 = x_test[y_test == 1] # Select all Ones in Testing Set\n",
    "#print(x_test_TEST1.shape)\n",
    "#print(x_test_TEST2.shape)\n",
    "total2 = x_test_TEST1.shape[0] + x_test_TEST2.shape[0]\n",
    "print(f'Total # of 0\\'s and 1\\'s in Test Set should be: {x_test_TEST1.shape[0]} + {x_test_TEST2.shape[0]} = {total2}\\n')"
   ]
  },
  {
   "attachments": {},
   "cell_type": "markdown",
   "metadata": {},
   "source": [
    "#### Select 0's and 1's From Training & Testing Sets:"
   ]
  },
  {
   "cell_type": "code",
   "execution_count": 8,
   "metadata": {},
   "outputs": [
    {
     "name": "stdout",
     "output_type": "stream",
     "text": [
      "Total Number of 0's and 1's in 'x_train_01' is: 12665\n",
      "\n",
      "Total Number of 0's and 1's in 'x_test_01' is: 2115\n",
      "\n"
     ]
    }
   ],
   "source": [
    "## Actual Test and Training Set Declarations:\n",
    "x_train_01 = x_train[np.logical_or(y_train == 1, y_train == 0),:,:] # Select ALL 1's and 0's from the Training Set.\n",
    "y_train_01 = y_train[np.logical_or(y_train == 1, y_train == 0)] # Get labels for the digits.\n",
    "#print(x_train_01.shape) # debug\n",
    "#print(y_train_01.shape) # debug\n",
    "print(f'Total Number of 0\\'s and 1\\'s in \\'x_train_01\\' is: {x_train_01.shape[0]}\\n')\n",
    "\n",
    "x_test_01 = x_test[np.logical_or(y_test == 1, y_test == 0),:,:] # Select ALL 8's and 0's from the Testing Set.\n",
    "y_test_01 = y_test[np.logical_or(y_test == 1, y_test == 0)]\n",
    "#print(x_test_01.shape) # debug\n",
    "#print(y_test_01.shape) # debug\n",
    "print(f'Total Number of 0\\'s and 1\\'s in \\'x_test_01\\' is: {x_test_01.shape[0]}\\n')"
   ]
  },
  {
   "attachments": {},
   "cell_type": "markdown",
   "metadata": {},
   "source": [
    "#### Divide Training Set Into Training and Validation Sets\n",
    "\n",
    " - Create Shuffled Array Indices.\n",
    " - Shuffle Training and Testing Data.\n",
    " - Pull 1st 500 Images from Training Set and Designate as Validation Set.\n",
    "    - The Remainder Of The Training Set is the New Training Set."
   ]
  },
  {
   "cell_type": "code",
   "execution_count": 9,
   "metadata": {},
   "outputs": [
    {
     "name": "stdout",
     "output_type": "stream",
     "text": [
      "(500, 28, 28)\n",
      "(500,) \n",
      "\n",
      "(12165, 28, 28)\n",
      "(12165,) \n",
      "\n",
      "(2115, 28, 28)\n",
      "(2115,)\n"
     ]
    }
   ],
   "source": [
    "# create array with 11774 indices for TRAINING:\n",
    "train_indices = np.arange(0, x_train_01.shape[0])\n",
    "#print(train_indices)\n",
    "\n",
    "# create array with 1954 indices for TESTING:\n",
    "test_indices = np.arange(0, x_test_01.shape[0])\n",
    "#print(test_indices, '\\n')\n",
    "\n",
    "# shuffle the indices of the training array\n",
    "shuffled_indices_train = np.random.permutation(train_indices)\n",
    "#print(shuffled_indices_train)\n",
    "\n",
    "# shuffle the indices of the testing array\n",
    "shuffled_indices_test = np.random.permutation(test_indices)\n",
    "#print(shuffled_indices_test, '\\n')\n",
    "\n",
    "# create arrays of SHUFFLED TRAINING data\n",
    "x_shuffled_all_train = x_train_01[shuffled_indices_train,:,:]\n",
    "y_shuffled_all_train = y_train_01[shuffled_indices_train]\n",
    "#print(x_shuffled_all_train.shape)\n",
    "#print(y_shuffled_all_train.shape, '\\n')\n",
    "\n",
    "# create arrays of SHUFFLED TESTING data\n",
    "x_shuffled_all_test = x_test_01[shuffled_indices_test,:,:]\n",
    "y_shuffled_all_test = y_test_01[shuffled_indices_test]\n",
    "#print(x_shuffled_all_test.shape)\n",
    "#print(y_shuffled_all_test.shape, '\\n')\n",
    "\n",
    "# create validation set of 500 random images FROM SHUFFLED training set\n",
    "x_valid_01 = x_shuffled_all_train[0:500,:,:]\n",
    "y_valid_01 = y_shuffled_all_train[0:500]\n",
    "print(x_valid_01.shape)\n",
    "print(y_valid_01.shape, '\\n')\n",
    "\n",
    "# pull the rest of the images (11774 - 500 = 11274) FROM SHUFFLED training set\n",
    "x_train_01 = x_shuffled_all_train[500:,:,:]\n",
    "y_train_01 = y_shuffled_all_train[500:]\n",
    "print(x_train_01.shape)\n",
    "print(y_train_01.shape, '\\n')\n",
    "\n",
    "# SHUFFLE the TESTING Set\n",
    "x_test_01 = x_shuffled_all_test[:]\n",
    "y_test_01 = y_shuffled_all_test[:]\n",
    "print(x_test_01.shape)\n",
    "print(y_test_01.shape)"
   ]
  },
  {
   "attachments": {},
   "cell_type": "markdown",
   "metadata": {},
   "source": [
    "#### Check Number Of Images In Training, Testing and Validation Sets:"
   ]
  },
  {
   "cell_type": "code",
   "execution_count": 10,
   "metadata": {},
   "outputs": [
    {
     "name": "stdout",
     "output_type": "stream",
     "text": [
      "The number of images in 'x_train_01' Training Set = 12165\n",
      "The number of labels in 'y_train_01' Training Set = 12165\n",
      "\n",
      "The number of images in 'x_valid_01' Validation Set = 500\n",
      "The number of labels in 'y_valid_01' Validation Set = 500\n",
      "\n",
      "The number of images in 'x_test_01' Testing Set = 2115\n",
      "The number of labels in 'y_test_01' Testing Set = 2115\n"
     ]
    }
   ],
   "source": [
    "print(f'The number of images in \\'x_train_01\\' Training Set = {x_train_01.shape[0]}')\n",
    "print(f'The number of labels in \\'y_train_01\\' Training Set = {y_train_01.shape[0]}\\n')\n",
    "\n",
    "print(f'The number of images in \\'x_valid_01\\' Validation Set = {x_valid_01.shape[0]}')\n",
    "print(f'The number of labels in \\'y_valid_01\\' Validation Set = {y_valid_01.shape[0]}\\n')\n",
    "\n",
    "print(f'The number of images in \\'x_test_01\\' Testing Set = {x_test_01.shape[0]}')\n",
    "print(f'The number of labels in \\'y_test_01\\' Testing Set = {y_test_01.shape[0]}')"
   ]
  },
  {
   "attachments": {},
   "cell_type": "markdown",
   "metadata": {},
   "source": [
    "#### Plot 10 Images From The Validation Set:"
   ]
  },
  {
   "cell_type": "code",
   "execution_count": 11,
   "metadata": {},
   "outputs": [
    {
     "data": {
      "image/png": "[encoded data removed]",
      "text/plain": [
       "<Figure size 1200x550 with 10 Axes>"
      ]
     },
     "metadata": {},
     "output_type": "display_data"
    }
   ],
   "source": [
    "img_plt(x_valid_01[0:10,:,:], y_valid_01[0:10]) # Select First 10 images from the set"
   ]
  },
  {
   "attachments": {},
   "cell_type": "markdown",
   "metadata": {},
   "source": [
    "#### Extract Features And Calculate Average of Each Image Quadrant:"
   ]
  },
  {
   "cell_type": "code",
   "execution_count": 12,
   "metadata": {},
   "outputs": [],
   "source": [
    "feature_train = feat_extract_bin(x_train_01)\n",
    "feature_valid = feat_extract_bin(x_valid_01)\n",
    "feature_test = feat_extract_bin(x_test_01)\n",
    "classes = [0, 1]"
   ]
  },
  {
   "attachments": {},
   "cell_type": "markdown",
   "metadata": {},
   "source": [
    "#### Plot Features of 500 Training Images:"
   ]
  },
  {
   "cell_type": "code",
   "execution_count": 13,
   "metadata": {},
   "outputs": [
    {
     "data": {
      "image/png": "[encoded data removed]",
      "text/plain": [
       "<Figure size 640x480 with 1 Axes>"
      ]
     },
     "metadata": {},
     "output_type": "display_data"
    },
    {
     "data": {
      "image/png": "[encoded data removed]",
      "text/plain": [
       "<Figure size 640x480 with 1 Axes>"
      ]
     },
     "metadata": {},
     "output_type": "display_data"
    }
   ],
   "source": [
    "feat_plot(feature_train[0:500, 0:2], y_train_01[0:500], classes, 'Digit Features: Quadrants 0(X) and 1(Y)')\n",
    "feat_plot(feature_train[0:500, 2:4], y_train_01[0:500], classes, 'Digit Features: Quadrants 2(X) and 3(Y)')"
   ]
  },
  {
   "attachments": {},
   "cell_type": "markdown",
   "metadata": {},
   "source": [
    "#### Define The Model:"
   ]
  },
  {
   "cell_type": "code",
   "execution_count": 15,
   "metadata": {},
   "outputs": [
    {
     "name": "stdout",
     "output_type": "stream",
     "text": [
      "Model: \"sequential_1\"\n",
      "_________________________________________________________________\n",
      " Layer (type)                Output Shape              Param #   \n",
      "=================================================================\n",
      " dense_2 (Dense)             (None, 128)               640       \n",
      "                                                                 \n",
      " dense_3 (Dense)             (None, 1)                 129       \n",
      "                                                                 \n",
      "=================================================================\n",
      "Total params: 769\n",
      "Trainable params: 769\n",
      "Non-trainable params: 0\n",
      "_________________________________________________________________\n"
     ]
    }
   ],
   "source": [
    "model1 = Sequential()\n",
    "model1.add(Dense(input_dim = 4, units = 128, activation = 'tanh')) # Hidden Layers\n",
    "model1.add(Dense(units = 1, activation = 'sigmoid')) # Ouput Layer\n",
    "model1.summary()"
   ]
  },
  {
   "attachments": {},
   "cell_type": "markdown",
   "metadata": {},
   "source": [
    "#### Compile, Fit and Evaluate Model:"
   ]
  },
  {
   "cell_type": "code",
   "execution_count": 16,
   "metadata": {},
   "outputs": [
    {
     "name": "stdout",
     "output_type": "stream",
     "text": [
      "Epoch 1/35\n",
      "381/381 [==============================] - 1s 1ms/step - loss: 0.6223 - accuracy: 0.7266\n",
      "Epoch 2/35\n",
      "381/381 [==============================] - 0s 1ms/step - loss: 0.4631 - accuracy: 0.8229\n",
      "Epoch 3/35\n",
      "381/381 [==============================] - 0s 1ms/step - loss: 0.3900 - accuracy: 0.8645\n",
      "Epoch 4/35\n",
      "381/381 [==============================] - 0s 1ms/step - loss: 0.3391 - accuracy: 0.8884\n",
      "Epoch 5/35\n",
      "381/381 [==============================] - 0s 1ms/step - loss: 0.3086 - accuracy: 0.9037\n",
      "Epoch 6/35\n",
      "381/381 [==============================] - 0s 1ms/step - loss: 0.2868 - accuracy: 0.9165\n",
      "Epoch 7/35\n",
      "381/381 [==============================] - 0s 1ms/step - loss: 0.2692 - accuracy: 0.9292\n",
      "Epoch 8/35\n",
      "381/381 [==============================] - 0s 1ms/step - loss: 0.2552 - accuracy: 0.9374\n",
      "Epoch 9/35\n",
      "381/381 [==============================] - 0s 1ms/step - loss: 0.2437 - accuracy: 0.9426\n",
      "Epoch 10/35\n",
      "381/381 [==============================] - 0s 1ms/step - loss: 0.2339 - accuracy: 0.9447\n",
      "Epoch 11/35\n",
      "381/381 [==============================] - 0s 1ms/step - loss: 0.2256 - accuracy: 0.9465\n",
      "Epoch 12/35\n",
      "381/381 [==============================] - 0s 1ms/step - loss: 0.2184 - accuracy: 0.9469\n",
      "Epoch 13/35\n",
      "381/381 [==============================] - 0s 1ms/step - loss: 0.2121 - accuracy: 0.9486\n",
      "Epoch 14/35\n",
      "381/381 [==============================] - 0s 1ms/step - loss: 0.2065 - accuracy: 0.9486\n",
      "Epoch 15/35\n",
      "381/381 [==============================] - 0s 1ms/step - loss: 0.2015 - accuracy: 0.9494\n",
      "Epoch 16/35\n",
      "381/381 [==============================] - 0s 1ms/step - loss: 0.1970 - accuracy: 0.9496\n",
      "Epoch 17/35\n",
      "381/381 [==============================] - 0s 1ms/step - loss: 0.1929 - accuracy: 0.9502\n",
      "Epoch 18/35\n",
      "381/381 [==============================] - 0s 1ms/step - loss: 0.1892 - accuracy: 0.9503\n",
      "Epoch 19/35\n",
      "381/381 [==============================] - 0s 1ms/step - loss: 0.1858 - accuracy: 0.9509\n",
      "Epoch 20/35\n",
      "381/381 [==============================] - 0s 1ms/step - loss: 0.1826 - accuracy: 0.9517\n",
      "Epoch 21/35\n",
      "381/381 [==============================] - 0s 1ms/step - loss: 0.1797 - accuracy: 0.9521\n",
      "Epoch 22/35\n",
      "381/381 [==============================] - 0s 1ms/step - loss: 0.1771 - accuracy: 0.9522\n",
      "Epoch 23/35\n",
      "381/381 [==============================] - 0s 1ms/step - loss: 0.1746 - accuracy: 0.9527\n",
      "Epoch 24/35\n",
      "381/381 [==============================] - 0s 1ms/step - loss: 0.1723 - accuracy: 0.9528\n",
      "Epoch 25/35\n",
      "381/381 [==============================] - 0s 1ms/step - loss: 0.1702 - accuracy: 0.9531\n",
      "Epoch 26/35\n",
      "381/381 [==============================] - 0s 1ms/step - loss: 0.1682 - accuracy: 0.9536\n",
      "Epoch 27/35\n",
      "381/381 [==============================] - 0s 1ms/step - loss: 0.1664 - accuracy: 0.9535\n",
      "Epoch 28/35\n",
      "381/381 [==============================] - 0s 1ms/step - loss: 0.1646 - accuracy: 0.9538\n",
      "Epoch 29/35\n",
      "381/381 [==============================] - 0s 1ms/step - loss: 0.1629 - accuracy: 0.9540\n",
      "Epoch 30/35\n",
      "381/381 [==============================] - 0s 1ms/step - loss: 0.1614 - accuracy: 0.9543\n",
      "Epoch 31/35\n",
      "381/381 [==============================] - 0s 1ms/step - loss: 0.1599 - accuracy: 0.9541\n",
      "Epoch 32/35\n",
      "381/381 [==============================] - 0s 1ms/step - loss: 0.1585 - accuracy: 0.9542\n",
      "Epoch 33/35\n",
      "381/381 [==============================] - 0s 1ms/step - loss: 0.1571 - accuracy: 0.9545\n",
      "Epoch 34/35\n",
      "381/381 [==============================] - 0s 1ms/step - loss: 0.1558 - accuracy: 0.9546\n",
      "Epoch 35/35\n",
      "381/381 [==============================] - 0s 1ms/step - loss: 0.1546 - accuracy: 0.9546\n"
     ]
    }
   ],
   "source": [
    "# Stochastic Gradient Descent\n",
    "opt = tf.keras.optimizers.SGD(learning_rate = 0.0001) # try 0.001, 0.01\n",
    "\n",
    "model1.compile(loss = 'binary_crossentropy', optimizer = opt, metrics = ['accuracy'])\n",
    "\n",
    "# Try batch_size = 16 & epochs = 5\n",
    "history1 = model1.fit(feature_train, y_train_01, batch_size=32, epochs=35, verbose=1)"
   ]
  },
  {
   "attachments": {},
   "cell_type": "markdown",
   "metadata": {},
   "source": [
    "#### Plot The Accuracy and Training Loss:"
   ]
  },
  {
   "cell_type": "code",
   "execution_count": 17,
   "metadata": {},
   "outputs": [
    {
     "data": {
      "image/png": "[encoded data removed]",
      "text/plain": [
       "<Figure size 1200x600 with 2 Axes>"
      ]
     },
     "metadata": {},
     "output_type": "display_data"
    }
   ],
   "source": [
    "accuracyCurve = np.array(history1.history['accuracy'])\n",
    "lossCurve = np.array(history1.history['loss'])\n",
    "\n",
    "plotCurve(accuracyCurve, lossCurve)"
   ]
  },
  {
   "attachments": {},
   "cell_type": "markdown",
   "metadata": {},
   "source": [
    "#### Calculate Evaluation Metrics:"
   ]
  },
  {
   "cell_type": "code",
   "execution_count": 18,
   "metadata": {},
   "outputs": [
    {
     "name": "stdout",
     "output_type": "stream",
     "text": [
      "67/67 [==============================] - 0s 1ms/step\n",
      "Accuracy Using Testing Set:  0.966903073286052 \n",
      "\n",
      "The Confusion Matrix Using Testing Set: \n",
      " [[ 963   53]\n",
      " [  17 1082]] \n",
      "\n",
      "The Sensitivity Using The Testing Set = 98.45 %\n",
      "The Specificity Using Testing Set = 94.78 %\n"
     ]
    }
   ],
   "source": [
    "# Predict Class of Held-Out Samples:\n",
    "\n",
    "testClass1Prob = model1.predict(feature_test)\n",
    "testLabels1 = np.uint8(testClass1Prob > 0.5)\n",
    "\n",
    "testAccuracy1 = accuracy_score(testLabels1, y_test_01)\n",
    "print('Accuracy Using Testing Set: ', testAccuracy1, '\\n')\n",
    "\n",
    "confusionMatrix1 = confusion_matrix(testLabels1, y_test_01)\n",
    "print('The Confusion Matrix Using Testing Set: \\n', confusionMatrix1, '\\n')\n",
    "\n",
    "sensitivity = (confusionMatrix1[1,1] / (confusionMatrix1[1,0] + confusionMatrix1[1,1])) * 100\n",
    "print(f'The Sensitivity Using The Testing Set = {sensitivity:0.2f} %')\n",
    "\n",
    "specificity = (confusionMatrix1[0,0] / (confusionMatrix1[0,0] + confusionMatrix1[0,1])) * 100\n",
    "print(f'The Specificity Using Testing Set = {specificity:0.2f} %')"
   ]
  },
  {
   "attachments": {},
   "cell_type": "markdown",
   "metadata": {},
   "source": [
    "## Keras For Multiclass Classification:"
   ]
  },
  {
   "attachments": {},
   "cell_type": "markdown",
   "metadata": {},
   "source": [
    "### Select MNIST Digits 0, 1 and 2:\n",
    "\n",
    " - Define Digit Classes\n",
    " - Create an array of the images\n",
    " - Create a 2nd array of labels for the images"
   ]
  },
  {
   "cell_type": "code",
   "execution_count": null,
   "metadata": {},
   "outputs": [],
   "source": [
    "classes1 = [0, 1, 2]\n",
    "x_train_012 = x_train[np.logical_or.reduce((y_train == 0, y_train == 1, y_train == 2)), 0:28, 0:28]\n",
    "y_train_012 = x_train[np.logical_or.reduce((y_train == 0, y_train == 1, y_train == 2))]"
   ]
  },
  {
   "cell_type": "markdown",
   "metadata": {},
   "source": [
    "#### Plot Features of 500 Training Images:"
   ]
  },
  {
   "cell_type": "code",
   "execution_count": null,
   "metadata": {},
   "outputs": [],
   "source": [
    "feat_plot(feature_train[1:500, 0:2], y_train_012[1:500], classes1)\n",
    "feat_plot(feature_train[1:500, 2:4], y_train_012[1:500], classes1)"
   ]
  },
  {
   "attachments": {},
   "cell_type": "markdown",
   "metadata": {},
   "source": [
    "#### Define Model For Multiclass Classification:\n",
    " \n",
    " - Hidden Layer 1: 4 features (1 per image quadrant).\n",
    " - Hidden Layer 2: 16 neurons.\n",
    " - Output Layer: 3 neurons (1 per class).\n",
    "     - Softmax is used for multiclass classification.\n",
    "     - Output of Softmax is a vector of probabilities according to class identification: \n",
    "$$\n",
    "  P(x_n) = \n",
    "  \\begin{bmatrix}\n",
    "    P(x_0)\\\\\n",
    "    P(x_1)\\\\\n",
    "    P(x_2)\n",
    "  \\end{bmatrix}\n",
    "$$"
   ]
  },
  {
   "cell_type": "code",
   "execution_count": null,
   "metadata": {},
   "outputs": [],
   "source": [
    "model2 = Sequential()\n",
    "model2.add(Dense(input_dim = 4, units = 256, activation = 'tanh')) # Hidden Layer 1 (also try 'relu' activation)\n",
    "model2.add(Dense(units = 16, activation = 'tanh')) # Hidden Layer 2 (also try 'relu' activation)\n",
    "model2.add(Dense(units = len(classes1), activation = 'softmax')) # Output Layer\n",
    "model2.summary()"
   ]
  },
  {
   "attachments": {},
   "cell_type": "markdown",
   "metadata": {},
   "source": [
    "#### Compile, Fit and Evaluate The Model:"
   ]
  },
  {
   "cell_type": "code",
   "execution_count": null,
   "metadata": {},
   "outputs": [],
   "source": [
    "y_train_012_c = to_categorical(y_train_012, len(classes1))\n",
    "y_val_012_c = to_categorical(y_val_012, len(classes1))\n",
    "y_test_012_c = to_categorical(y_test_012, len(classes1))\n",
    "\n",
    "opt2 = tf.keras.optimizers.SGD(learning_rate = 0.001) # Stochastic Gradient Descent\n",
    "model2.compile(loss='categorical_crossentropy', optimizer=opt, metrics=['accuracy'])\n",
    "\n",
    "history2 = model2.fit(feature_train, y_train_012_c, batch_size=16, epochs=50, verbose=1)\n",
    "\n",
    "scoreTrain = model2.evaluate(feature_train, y_test_012_c)\n",
    "print('Total Loss From Training Set: ', scoreTrain[0])\n",
    "print('Accuracy of Training Set: ', scoreTrain[1])\n",
    "\n",
    "scoreValid2 = model2.evaluate(feature_val, y_val_012_c)\n",
    "print('Total Loss From Training Set: ', scoreValid2[0])\n",
    "print('Accuracy of Training Set: ', scoreValid2[1])"
   ]
  },
  {
   "attachments": {},
   "cell_type": "markdown",
   "metadata": {},
   "source": [
    "#### Plot Training Accuracy and Loss:"
   ]
  },
  {
   "cell_type": "code",
   "execution_count": null,
   "metadata": {},
   "outputs": [],
   "source": [
    "plt.figure(figsize=[9, 5])\n",
    "accuracyCurve2 = np.array(history2.history['accuracy'])\n",
    "lossCurve2 = np.array(history2.history['loss'])\n",
    "plotCurve(accuracyCurve2, lossCurve2)"
   ]
  },
  {
   "attachments": {},
   "cell_type": "markdown",
   "metadata": {},
   "source": [
    "#### Predict Class Of Held Out Samples & Calculate Evaluation Metrics:\n",
    "\n",
    " - np.argmax: determine highest value of each row (image) per column (class)\n",
    "     - This will predict which class each image belongs to."
   ]
  },
  {
   "cell_type": "code",
   "execution_count": null,
   "metadata": {},
   "outputs": [],
   "source": [
    "testClass2Prob = model2.predict(feature_test)\n",
    "testLabels2 = np.argmax(testClass2Prob, axis = 1)\n",
    "\n",
    "testAccuracy2 = accuracy_score(testLabels2, y_test_012)\n",
    "print('The Accuracy Using The Test Set = ', testAccuracy2)\n",
    "\n",
    "confusionMatrix2 = confusion_matrix(testLabels2, y_test_012)\n",
    "print('The Confustion Matrix Using Testing Set Is: \\n', confusionMatrix2)"
   ]
  },
  {
   "attachments": {},
   "cell_type": "markdown",
   "metadata": {},
   "source": [
    "### Select MNIST Digits 0 - 9:\n",
    "\n",
    " - Each individual MNIST image is $ 28 \\times 28 $ pixels"
   ]
  },
  {
   "attachments": {},
   "cell_type": "markdown",
   "metadata": {},
   "source": [
    "#### Create 10 Classes for Digits 0 - 9:"
   ]
  },
  {
   "cell_type": "code",
   "execution_count": null,
   "metadata": {},
   "outputs": [],
   "source": [
    "classes2 = np.arange(10)\n",
    "print(classes2)"
   ]
  },
  {
   "attachments": {},
   "cell_type": "markdown",
   "metadata": {},
   "source": [
    "#### Flatten The Images:\n",
    "\n",
    " - This takes the $ 28 \\times 28 $ 2-D image and makes it into a 784 index 1-D vector"
   ]
  },
  {
   "cell_type": "code",
   "execution_count": null,
   "metadata": {},
   "outputs": [],
   "source": [
    "x_train_flat = np.reshape(x_train, (x_train.shape[0], x_train.shape[1] * x_train.shape[2]))\n",
    "x_valid_flat = np.reshape(x_val, (x_val.shape[0], x_val.shape[1] * x_val.shape[2]))\n",
    "x_test_flat = np.reshape(x_test, (x_test.shape[0], x_test.shape[1] * x_test.shape[2]))"
   ]
  },
  {
   "attachments": {},
   "cell_type": "markdown",
   "metadata": {},
   "source": [
    "#### Scaling Each Pixel Value In The Range $ [0, 1] $:\n",
    "\n",
    " - Each original image contains pixel values $ [0, 255] $\n",
    " - Calculate min and max of each feature based on the training set.\n",
    " - Scale each feature in all sets:\n",
    "\n",
    " ##### $$ X_{scaled} = \\frac{X - X_{min}}{X_{max} - {X_{min}}} $$"
   ]
  },
  {
   "cell_type": "code",
   "execution_count": null,
   "metadata": {},
   "outputs": [],
   "source": [
    "x_train_flat = x_train_flat.astype('float32')\n",
    "x_train_flat /= 255\n",
    "\n",
    "x_val_flat = x_val_flat.astype('float32')\n",
    "x_val_flat /= 255\n",
    "\n",
    "x_test_flat = x_test_flat.astype('float32')\n",
    "x_test_flat /= 255"
   ]
  },
  {
   "attachments": {},
   "cell_type": "markdown",
   "metadata": {},
   "source": [
    "#### Normalizing The Features:\n",
    "\n",
    " - Alternative to Scaling using `sklearn StandardScaler()`\n",
    "\n",
    " ##### $$ X_{norm} = \\frac{X - \\mathrm{\\mu}}{\\sigma} $$"
   ]
  },
  {
   "cell_type": "code",
   "execution_count": null,
   "metadata": {},
   "outputs": [],
   "source": [
    "standard = StandardScaler()\n",
    "# see slides update"
   ]
  },
  {
   "attachments": {},
   "cell_type": "markdown",
   "metadata": {},
   "source": [
    "#### Define Model For 10 Classes:"
   ]
  },
  {
   "cell_type": "code",
   "execution_count": null,
   "metadata": {},
   "outputs": [],
   "source": [
    "model3 = Sequential()\n",
    "model3.add(Dense(input_dim = x_train_flat.shape[1], units=512, activation='tanh')) # Hidden Layer 1\n",
    "model3.add(Dense(units=512, activation='tanh')) # Hidden Layer 2\n",
    "model3.add(Dense(units=len(classes2), activation='softmax')) # Output Layer (10 classes = 10 neurons)\n",
    "model3.summary()"
   ]
  },
  {
   "attachments": {},
   "cell_type": "markdown",
   "metadata": {},
   "source": [
    "#### Compile, Fit & Evaluate Model:"
   ]
  },
  {
   "cell_type": "code",
   "execution_count": null,
   "metadata": {},
   "outputs": [],
   "source": [
    "opt3 = tf.keras.optimizers.SGD(learning_rate=0.001)\n",
    "model3.compile(loss='categorical_crossentropy', optimizer=opt, metrics=['accuracy'])\n",
    "\n",
    "# Convert Class Vectors To Binary Class Matrices:\n",
    "y_train_c = to_categorical(y_train, len(classes2))\n",
    "y_val_c = to_categorical(y_val, len(classes2))\n",
    "y_test_c = to_categorical(y_test, len(classes2))\n",
    "\n",
    "history3 = model3.fit(x_train_flat, y_train_c, batch_size=16, epochs=50, verbose=1)\n",
    "\n",
    "scoreValid3 = model3.evaluate(x_val_flat, y_val_c)\n",
    "print('Total Loss On Validation Set: ', scoreValid3[0])\n",
    "print('Accuracy Of Validation Set: ', scoreValid3[1])\n",
    "\n",
    "plt.figure(figsize=[9, 5])\n",
    "accuracyCurve3 = np.array(history3.history['accuracy'])\n",
    "lossCurve3 = np.array(history3.history['loss'])\n",
    "plotCurve(accuracyCurve3, lossCurve3)"
   ]
  },
  {
   "attachments": {},
   "cell_type": "markdown",
   "metadata": {},
   "source": [
    "#### Predict Classes Of Held Out Samples:"
   ]
  },
  {
   "cell_type": "code",
   "execution_count": null,
   "metadata": {},
   "outputs": [],
   "source": [
    "testClass3Prob = model3.predict(x_test_flat)\n",
    "testLabels3 = np.argmax(testClass3Prob, axis = 1)\n",
    "\n",
    "testAccuracy3 = accuracy_score(testLabels3, y_test)\n",
    "print('The Accuracy Using The Testing Set Is: ', testAccuracy3)\n",
    "\n",
    "confusionMatrix3 = confusion_matrix(testLabels3, y_test)\n",
    "print('The Confusion Matrix Using Testing Set Is: \\n', confusionMatrix3)"
   ]
  },
  {
   "attachments": {},
   "cell_type": "markdown",
   "metadata": {},
   "source": [
    "#### Saving The Best Model:\n",
    "\n",
    " - Create a checkpoint to save the best model based on the lowest validation loss.\n",
    " - Send the validation set to the `fit()` function.\n",
    " - Load the best model during testing"
   ]
  },
  {
   "cell_type": "code",
   "execution_count": null,
   "metadata": {},
   "outputs": [],
   "source": [
    "savePath = '../assets/Lecture6/model3_mnist.h5'\n",
    "callbackSave = ModelCheckpoint(savePath, monitor='val_loss', verbose=0, save_best_only=True, period=1)\n",
    "\n",
    "history3a = model3.fit(x_train_flat, y_train_c, batch_size=16, epochs=50, \n",
    "            verbose=1, validation_data=(x_val_flat, y_val_c), callbacks=[callbackSave])\n",
    "\n",
    "model3a = load_model(savePath)\n",
    "testClass3AProb = model3a.predict(x_test_flat)\n",
    "testLabels3a = np.argmax(testClass3AProb, axis=1)\n",
    "\n",
    "testAccuracy3a = accuracy_score(testLabels3a, y_test)\n",
    "print('The Accuracy Using The Testing Set = ', testAccuracy3a)"
   ]
  }
 ],
 "metadata": {
  "kernelspec": {
   "display_name": "base",
   "language": "python",
   "name": "python3"
  },
  "language_info": {
   "codemirror_mode": {
    "name": "ipython",
    "version": 3
   },
   "file_extension": ".py",
   "mimetype": "text/x-python",
   "name": "python",
   "nbconvert_exporter": "python",
   "pygments_lexer": "ipython3",
   "version": "3.9.13"
  },
  "orig_nbformat": 4
 },
 "nbformat": 4,
 "nbformat_minor": 2
}
