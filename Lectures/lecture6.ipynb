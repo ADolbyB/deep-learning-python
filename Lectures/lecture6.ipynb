{
 "cells": [
  {
   "attachments": {},
   "cell_type": "markdown",
   "metadata": {},
   "source": [
    "# Lecture 6: Neural Network Learning Part 4\n",
    "\n",
    "3/16/2023\n",
    "\n",
    "## Using Keras Library:\n",
    " - Binary Clasification\n",
    " - Multi Class Classification\n",
    " - Brain Tumor Dataset Classification"
   ]
  },
  {
   "attachments": {},
   "cell_type": "markdown",
   "metadata": {},
   "source": [
    "#### Import Libraries:"
   ]
  },
  {
   "cell_type": "code",
   "execution_count": 2,
   "metadata": {},
   "outputs": [],
   "source": [
    "import numpy as np\n",
    "import tensorflow as tf\n",
    "import matplotlib.pyplot as plt\n",
    "from random import randint\n",
    "from keras.models import Sequential, load_model\n",
    "from keras.layers import Dense\n",
    "from keras.datasets import \n",
    "from keras.callbacks import ModelCheckpoint\n",
    "from keras.utils.np_utils import to_categorical # Convert Class Vectors to Binary Class Matrices\n",
    "from sklearn.metrics import accuracy_score, confusion_matrix, recall_score"
   ]
  },
  {
   "attachments": {},
   "cell_type": "markdown",
   "metadata": {},
   "source": [
    "#### Define Functions For Plotting:"
   ]
  },
  {
   "cell_type": "code",
   "execution_count": 3,
   "metadata": {},
   "outputs": [],
   "source": [
    "# plot data points\n",
    "def plot_fun(features, labels, classes, plotRange):\n",
    "    plt.plot(features[labels[:] == classes[0], 0], features[labels[:] == classes[0], 1], 'rs',\n",
    "             features[labels[:] == classes[1], 0], features[labels[:] == classes[1], 1], 'g^')\n",
    "    plt.axis(plotRange)\n",
    "    plt.title('Raw Data Plot For Both Classes')\n",
    "    plt.xlabel('X_1: Feature 1')\n",
    "    plt.ylabel('X_2: Feature 2')\n",
    "    plt.legend(['Class ' + str(classes[0]), 'Class ' + str(classes[1])])\n",
    "    plt.show()\n",
    "\n",
    "# plot separating line: w1x1 + w2x2 + w0 = 0\n",
    "def plot_fun_thr(features, labels, thresholdParams, learnRate, batchSize, classes):\n",
    "    # plot data points\n",
    "    plt.plot(features[labels[:] == classes[0], 0], features[labels[:] == classes[0], 1], 'rs',\n",
    "             features[labels[:] == classes[1], 0], features[labels[:] == classes[1], 1], 'g^')\n",
    "    plt.axis([-3, 3, -2, 4])\n",
    "    # plot separating line\n",
    "    x1 = np.linspace(-3, 3, 50)\n",
    "    # w1x1 + w2x2 + w0 = 0 => x2 = -(w1x1 + w0) / w2\n",
    "    x2 = -(thresholdParams[0] * x1 + thresholdParams[2]) / thresholdParams[1]\n",
    "    plt.plot(x1, x2, '-b')\n",
    "    plt.title(f'Data Classification:\\nLearn Rate = {learnRate}, Batch Size = {batchSize}')\n",
    "    plt.xlabel('X_1: Feature 1')\n",
    "    plt.ylabel('X_2: Feature 2')\n",
    "    plt.legend(['Class ' + str(classes[0]), 'Class ' + str(classes[1])])\n",
    "    #plt.pause(0.5)\n",
    "    #plt.show()\n",
    "\n",
    "# plot training accuracy and loss\n",
    "def plotCurve(trainingAccuracy, trainingLoss):\n",
    "    epochs = np.arange(trainingLoss.shape[0])\n",
    "    #print(epochs)\n",
    "    plt.figure(figsize = [12, 6])\n",
    "    plt.subplot(1, 2, 1)\n",
    "    plt.plot(epochs, trainingAccuracy)\n",
    "    #plt.axis([-1, 2, -1, 2])\n",
    "    plt.xlabel('Epoch')\n",
    "    plt.ylabel('Accuracy')\n",
    "    plt.title('Training Accuracy')\n",
    "\n",
    "    plt.subplot(1, 2, 2)\n",
    "    plt.plot(epochs, trainingLoss)\n",
    "    plt.xlabel('Epoch')\n",
    "    plt.ylabel('Binary CrossEntropy Loss')\n",
    "    plt.title('Training Loss')\n",
    "    plt.show()\n",
    "\n",
    "# Plot MNIST Images in subplots\n",
    "def img_plt(img, label):\n",
    "    plt.figure(figsize=(12, 5.5))\n",
    "    for i in range (1, 11):\n",
    "        plt.subplot(2, 5, i)\n",
    "        plt.imshow(img[i - 1, :, :], cmap = 'gray')\n",
    "        plt.title('Label: ' + str(label[i - 1]))\n",
    "    plt.show()\n",
    "\n",
    "# Plot Features of MNIST data\n",
    "def feat_plot(features, labels, classes):\n",
    "    for class_i in classes:\n",
    "        plt.plot(features[labels[:] == classes[class_i], 0], features[labels[:] == classes[class_i], 1], 'o', markersize = 5)\n",
    "        # plt.axis([-2, 2, -2, 2])\n",
    "        plt.xlabel('X: Feature 1')\n",
    "        plt.ylabel('Y: Feature 2')\n",
    "        plt.legend(['Class ' + str(classes[class_i]) for class_i in classes])\n",
    "        plt.show()"
   ]
  },
  {
   "attachments": {},
   "cell_type": "markdown",
   "metadata": {},
   "source": [
    "#### Define Function For Feature Extraction From MNIST Images:"
   ]
  },
  {
   "cell_type": "code",
   "execution_count": 4,
   "metadata": {},
   "outputs": [],
   "source": [
    "def feat_extract_bin(images):\n",
    "    # Divide Each Image into 4 quadrants\n",
    "    features = np.zeros((images.shape[0], 4))\n",
    "    \n",
    "    features_temp = np.sum(images[:, 0:int(images.shape[1] / 2), 0:int(images.shape[2] / 2)], axis = 2) # Quadrant 0\n",
    "    features[:,0] = np.sum(features_temp, axis = 1) / (14*14) # Average Pixel Values\n",
    "    \n",
    "    features_temp = np.sum(images[:, 0:int(images.shape[1] / 2), int(images.shape[2] / 2):], axis = 2) # Quadrant 1\n",
    "    features[:,1] = np.sum(features_temp, axis = 1) / (14*14) # Average Pixel Values\n",
    "    \n",
    "    features_temp = np.sum(images[:, int(images.shape[1] / 2):, 0:int(images.shape[2] / 2)], axis = 2) # Quadrant 2\n",
    "    features[:,2] = np.sum(features_temp, axis = 1) / (14*14) # Average Pixel Values\n",
    "    \n",
    "    features_temp = np.sum(images[:, int(images.shape[1] / 2):, int(images.shape[2] / 2):], axis = 2) # Quadrant 3\n",
    "    features[:,3] = np.sum(features_temp, axis = 1) / (14*14) # Average Pixel Values\n",
    "    return features\n",
    "\n",
    "def feat_extract_mult(images):\n",
    "    width = images.shape[1]\n",
    "    height = images.shape[2]\n",
    "    features = np.zeros(images.shape[0], 4)\n",
    "\n",
    "    features_temp = np.sum(images[:, 0:int(width / 2), 0:int(height / 2)], axis = 2) # Quadrant 0\n",
    "    features[:,0] = np.sum(features_temp, axis = 1) / (width * height / 4) # Average Pixel Values\n",
    "    \n",
    "    features_temp = np.sum(images[:, 0:int(width / 2), int(height / 2):], axis = 2) # Quadrant 1\n",
    "    features[:,1] = np.sum(features_temp, axis = 1) / (width * height / 4) # Average Pixel Values\n",
    "    \n",
    "    features_temp = np.sum(images[:, int(width / 2):, 0:int(height / 2)], axis = 2) # Quadrant 2\n",
    "    features[:,2] = np.sum(features_temp, axis = 1) / (width * height / 4) # Average Pixel Values\n",
    "    \n",
    "    features_temp = np.sum(images[:, int(images.shape[1] / 2):, int(images.shape[2] / 2):], axis = 2) # Quadrant 3\n",
    "    features[:,3] = np.sum(features_temp, axis = 1) / (width * height / 4) # Average Pixel Values\n",
    "    return features"
   ]
  },
  {
   "attachments": {},
   "cell_type": "markdown",
   "metadata": {},
   "source": [
    "## Keras For Binary Classification:"
   ]
  },
  {
   "attachments": {},
   "cell_type": "markdown",
   "metadata": {},
   "source": [
    "#### Load MNIST Dataset & Split Into Training & Testing Sets:"
   ]
  },
  {
   "cell_type": "code",
   "execution_count": 5,
   "metadata": {},
   "outputs": [
    {
     "name": "stdout",
     "output_type": "stream",
     "text": [
      "The number of Training Images = 60000\n",
      "The number of Training Labels = 60000\n",
      "The size of each Training Image is: 28 by 28 pixels \n",
      "\n",
      "The number of Testing Images = 10000\n",
      "The number of Testing Labels = 10000\n",
      "The size of each Testing Image is: 28 by 28 pixels\n"
     ]
    }
   ],
   "source": [
    "# Load Data and Split to Training and Testing Sets:\n",
    "(x_train, y_train), (x_test, y_test) = mnist.load_data()\n",
    "\n",
    "#print(x_train.shape) # (60000, 28, 28)\n",
    "#print(y_train.shape) # (60000,)\n",
    "#print(x_test.shape) # (10000, 28, 28)\n",
    "#print(y_test.shape) # (10000,)\n",
    "\n",
    "print('The number of Training Images =', x_train.shape[0])\n",
    "print('The number of Training Labels =', y_train.shape[0])\n",
    "print('The size of each Training Image is:', x_train.shape[1], 'by', x_train.shape[2], 'pixels \\n')\n",
    "print('The number of Testing Images =', x_test.shape[0])\n",
    "print('The number of Testing Labels =', y_test.shape[0])\n",
    "print('The size of each Testing Image is:', x_test.shape[1], 'by', x_test.shape[2], 'pixels')"
   ]
  },
  {
   "attachments": {},
   "cell_type": "markdown",
   "metadata": {},
   "source": [
    "#### Plot Digits 0 - 9 From The Training Set:\n",
    "\n",
    " - For Each Digit, Select A Random Sample."
   ]
  },
  {
   "cell_type": "code",
   "execution_count": 6,
   "metadata": {},
   "outputs": [
    {
     "data": {
      "image/png": "[encoded data removed]",
      "text/plain": [
       "<Figure size 1200x550 with 10 Axes>"
      ]
     },
     "metadata": {},
     "output_type": "display_data"
    }
   ],
   "source": [
    "# Select 10 images from the training set\n",
    "x_train_rnd = np.zeros((10, 28, 28))\n",
    "y_train_rnd = np.arange(10)\n",
    "\n",
    "for digit in range(10): # finds 10 images from the set\n",
    "    x_train_d = x_train[y_train == digit,:,:]\n",
    "    #x_train_rnd[digit,:,:] = x_train_d[0,:,:] # Select FIRST Digits From Set\n",
    "    x_train_rnd[digit,:,:] = x_train_d[randint(0, x_train_d.shape[0]),:,:] # Select RANDOM Digits From Set\n",
    "\n",
    "img_plt(x_train_rnd, y_train_rnd) # plot the images"
   ]
  },
  {
   "attachments": {},
   "cell_type": "markdown",
   "metadata": {},
   "source": [
    "#### Check Training and Test Sets:"
   ]
  },
  {
   "cell_type": "code",
   "execution_count": 7,
   "metadata": {},
   "outputs": [
    {
     "name": "stdout",
     "output_type": "stream",
     "text": [
      "Total # of 0's and 1's in Training Set should be: 5923 + 6742 = 12665\n",
      "\n",
      "Total # of 0's and 1's in Test Set should be: 980 + 1135 = 2115\n",
      "\n"
     ]
    }
   ],
   "source": [
    "# Check Training Data Set for correct amount of images:\n",
    "x_train_TEST1 = x_train[y_train == 0] # Select all Zeros in Training Set\n",
    "x_train_TEST2 = x_train[y_train == 1] # Select all Ones in Training Set\n",
    "#print(x_train_TEST1.shape)\n",
    "#print(x_train_TEST2.shape)\n",
    "total1 = x_train_TEST1.shape[0] + x_train_TEST2.shape[0]\n",
    "print(f'Total # of 0\\'s and 1\\'s in Training Set should be: {x_train_TEST1.shape[0]} + {x_train_TEST2.shape[0]} = {total1}\\n')\n",
    "\n",
    "# Check Test Data Set for correct amount of images:\n",
    "x_test_TEST1 = x_test[y_test == 0] # Select all Zeros in Testing Set\n",
    "x_test_TEST2 = x_test[y_test == 1] # Select all Ones in Testing Set\n",
    "#print(x_test_TEST1.shape)\n",
    "#print(x_test_TEST2.shape)\n",
    "total2 = x_test_TEST1.shape[0] + x_test_TEST2.shape[0]\n",
    "print(f'Total # of 0\\'s and 1\\'s in Test Set should be: {x_test_TEST1.shape[0]} + {x_test_TEST2.shape[0]} = {total2}\\n')"
   ]
  },
  {
   "attachments": {},
   "cell_type": "markdown",
   "metadata": {},
   "source": [
    "#### Select 0's and 1's From Training & Testing Sets:"
   ]
  },
  {
   "cell_type": "code",
   "execution_count": 8,
   "metadata": {},
   "outputs": [
    {
     "name": "stdout",
     "output_type": "stream",
     "text": [
      "Total Number of 0's and 1's in 'x_train_01' is: 12665\n",
      "\n",
      "Total Number of 0's and 1's in 'x_test_01' is: 2115\n",
      "\n"
     ]
    }
   ],
   "source": [
    "## Actual Test and Training Set Declarations:\n",
    "x_train_01 = x_train[np.logical_or(y_train == 1, y_train == 0),:,:] # Select ALL 1's and 0's from the Training Set.\n",
    "y_train_01 = y_train[np.logical_or(y_train == 1, y_train == 0)] # Get labels for the digits.\n",
    "#print(x_train_01.shape) # debug\n",
    "#print(y_train_01.shape) # debug\n",
    "print(f'Total Number of 0\\'s and 1\\'s in \\'x_train_01\\' is: {x_train_01.shape[0]}\\n')\n",
    "\n",
    "x_test_01 = x_test[np.logical_or(y_test == 1, y_test == 0),:,:] # Select ALL 8's and 0's from the Testing Set.\n",
    "y_test_01 = y_test[np.logical_or(y_test == 1, y_test == 0)]\n",
    "#print(x_test_01.shape) # debug\n",
    "#print(y_test_01.shape) # debug\n",
    "print(f'Total Number of 0\\'s and 1\\'s in \\'x_test_01\\' is: {x_test_01.shape[0]}\\n')"
   ]
  },
  {
   "attachments": {},
   "cell_type": "markdown",
   "metadata": {},
   "source": [
    "#### Define The Model:"
   ]
  },
  {
   "cell_type": "code",
   "execution_count": 10,
   "metadata": {},
   "outputs": [
    {
     "name": "stdout",
     "output_type": "stream",
     "text": [
      "Model: \"sequential_1\"\n",
      "_________________________________________________________________\n",
      " Layer (type)                Output Shape              Param #   \n",
      "=================================================================\n",
      " dense_2 (Dense)             (None, 128)               640       \n",
      "                                                                 \n",
      " dense_3 (Dense)             (None, 1)                 129       \n",
      "                                                                 \n",
      "=================================================================\n",
      "Total params: 769\n",
      "Trainable params: 769\n",
      "Non-trainable params: 0\n",
      "_________________________________________________________________\n"
     ]
    }
   ],
   "source": [
    "model1 = Sequential()\n",
    "model1.add(Dense(input_dim = 4, units = 128, activation = 'tanh')) # Hidden Layers\n",
    "model1.add(Dense(units = 1, activation = 'sigmoid')) # Ouput Layer\n",
    "model1.summary()"
   ]
  },
  {
   "attachments": {},
   "cell_type": "markdown",
   "metadata": {},
   "source": [
    "#### Compile, Fit and Evaluate Model:"
   ]
  },
  {
   "cell_type": "code",
   "execution_count": null,
   "metadata": {},
   "outputs": [],
   "source": [
    "# Stochastic Gradient Descent\n",
    "opt = tf.keras.optimizers.SGD(learning_rate = 0.0001) # try 0.001, 0.01\n",
    "\n",
    "model1.compile(loss = 'binary_crossentropy', optimizer = opt, metrics = ['accuracy'])\n",
    "\n",
    "# Try batch_size = 16 & epochs = 5\n",
    "history1 = model1.fit(feature_train, y_train_01, batch_size=32, epochs=10, verbose=1)"
   ]
  },
  {
   "attachments": {},
   "cell_type": "markdown",
   "metadata": {},
   "source": [
    "#### Plot The Accuracy and Training Loss:"
   ]
  },
  {
   "cell_type": "code",
   "execution_count": null,
   "metadata": {},
   "outputs": [],
   "source": [
    "plt.figure(figsize=[9, 5])\n",
    "accuracyCurve = np.array(history1.history['accuracy'])\n",
    "lossCurve = np.array(history1.history['loss'])\n",
    "plotCurve(accuracyCurve, lossCurve)"
   ]
  },
  {
   "attachments": {},
   "cell_type": "markdown",
   "metadata": {},
   "source": [
    "#### Calculate Evaluation Metrics:"
   ]
  },
  {
   "cell_type": "code",
   "execution_count": null,
   "metadata": {},
   "outputs": [],
   "source": [
    "# Predict Class of Held-Out Samples:\n",
    "\n",
    "testClass1Prob = model1.predict(feature_test)\n",
    "testLabels1 = np.uint8(testClass1Prob > 0.5)\n",
    "\n",
    "testAccuracy1 = accuracy_score(testLabels1, y_test_01)\n",
    "print('Accuracy Using Testing Set: ', testAccuracy1)\n",
    "\n",
    "confusionMatrix1 = confusion_matrix(testLabels1, y_test_01)\n",
    "print('The Confusion Matrix Using Testing Set: \\n', confusionMatrix1)\n",
    "\n",
    "sensitivity = (confusionMatrix1[1,1] / (confusionMatrix1[1,0] + confusionMatrix1[1,1])) * 100\n",
    "print('The Sensitivity Using The Testing Set = %0.2f %' %sensitivity)\n",
    "\n",
    "specificity = (confusionMatrix1[0,0] / (confusionMatrix1[0,0] + confusionMatrix1[0,1])) * 100\n",
    "print('The Specificity Using Testing Set = %0.2f %' %specificity)"
   ]
  },
  {
   "attachments": {},
   "cell_type": "markdown",
   "metadata": {},
   "source": [
    "## Keras For Multiclass Classification:"
   ]
  },
  {
   "attachments": {},
   "cell_type": "markdown",
   "metadata": {},
   "source": [
    "### Select MNIST Digits 0, 1 and 2:\n",
    "\n",
    " - Define Digit Classes\n",
    " - Create an array of the images\n",
    " - Create a 2nd array of labels for the images"
   ]
  },
  {
   "cell_type": "code",
   "execution_count": null,
   "metadata": {},
   "outputs": [],
   "source": [
    "classes1 = [0, 1, 2]\n",
    "x_train_012 = x_train[np.logical_or.reduce((y_train == 0, y_train == 1, y_train == 2)), 0:28, 0:28]\n",
    "y_train_012 = x_train[np.logical_or.reduce((y_train == 0, y_train == 1, y_train == 2))]"
   ]
  },
  {
   "cell_type": "markdown",
   "metadata": {},
   "source": [
    "#### Plot Features of 500 Training Images:"
   ]
  },
  {
   "cell_type": "code",
   "execution_count": null,
   "metadata": {},
   "outputs": [],
   "source": [
    "feat_plot(feature_train[1:500, 0:2], y_train_012[1:500], classes1)\n",
    "feat_plot(feature_train[1:500, 2:4], y_train_012[1:500], classes1)"
   ]
  },
  {
   "attachments": {},
   "cell_type": "markdown",
   "metadata": {},
   "source": [
    "#### Define Model For Multiclass Classification:"
   ]
  },
  {
   "cell_type": "code",
   "execution_count": null,
   "metadata": {},
   "outputs": [],
   "source": [
    "model2 = Sequential()\n",
    "model2.add(Dense(input_dim = 4, units = 256, activation = 'tanh')) # Hidden Layer 1\n",
    "model2.add(Dense(untis = 16, activation = 'tanh')) # Hidden Layer 2\n",
    "model2.add(Dense(units = len(classes1), activation = 'softmax')) # Output Layer\n",
    "model2.summary()"
   ]
  },
  {
   "attachments": {},
   "cell_type": "markdown",
   "metadata": {},
   "source": [
    "#### Compile, Fit and Evaluate The Model:"
   ]
  },
  {
   "cell_type": "code",
   "execution_count": null,
   "metadata": {},
   "outputs": [],
   "source": [
    "y_train_012_c = to_categorical(y_train_012, len(classes1))\n",
    "y_val_012_c = to_categorical(y_val_012, len(classes1))\n",
    "y_test_012_c = to_categorical(y_test_012, len(classes1))\n",
    "\n",
    "opt2 = tf.keras.optimizers.SGD(learning_rate = 0.001) # Stochastic Gradient Descent\n",
    "model2.compile(loss='categorical_crossentropy', optimizer=opt, metrics=['accuracy'])\n",
    "\n",
    "history2 = model2.fit(feature_train, y_train_012_c, batch_size=16, epochs=50, verbose=1)\n",
    "\n",
    "scoreTrain = model2.evaluate(feature_train, y_test_012_c)\n",
    "print('Total Loss From Training Set: ', scoreTrain[0])\n",
    "print('Accuracy of Training Set: ', scoreTrain[1])\n",
    "\n",
    "scoreValid2 = model2.evaluate(feature_val, y_val_012_c)\n",
    "print('Total Loss From Training Set: ', scoreValid2[0])\n",
    "print('Accuracy of Training Set: ', scoreValid2[1])"
   ]
  },
  {
   "attachments": {},
   "cell_type": "markdown",
   "metadata": {},
   "source": [
    "#### Plot Training Accuracy and Loss:"
   ]
  },
  {
   "cell_type": "code",
   "execution_count": null,
   "metadata": {},
   "outputs": [],
   "source": [
    "plt.figure(figsize=[9, 5])\n",
    "accuracyCurve2 = np.array(history2.history['accuracy'])\n",
    "lossCurve2 = np.array(history2.history['loss'])\n",
    "plotCurve(accuracyCurve2, lossCurve2)"
   ]
  },
  {
   "attachments": {},
   "cell_type": "markdown",
   "metadata": {},
   "source": [
    "#### Predict Class Of Held Out Samples & Calculate Evaluation Metrics:"
   ]
  },
  {
   "cell_type": "code",
   "execution_count": null,
   "metadata": {},
   "outputs": [],
   "source": [
    "testClass2Prob = model2.predict(feature_test)\n",
    "testLabels2 = np.argmax(testClass2Prob, axis = 1)\n",
    "\n",
    "testAccuracy2 = accuracy_score(testLabels2, y_test_012)\n",
    "print('The Accuracy Using The Test Set = ', testAccuracy2)\n",
    "\n",
    "confusionMatrix2 = confusion_matrix(testLabels2, y_test_012)\n",
    "print('The Confustion Matrix Using Testing Set Is: \\n', confusionMatrix2)"
   ]
  },
  {
   "attachments": {},
   "cell_type": "markdown",
   "metadata": {},
   "source": [
    "### Select MNIST Digits 0 - 9:\n",
    "\n",
    " - Each individual MNIST image is 28 x 28 pixels"
   ]
  },
  {
   "attachments": {},
   "cell_type": "markdown",
   "metadata": {},
   "source": [
    "#### Create 10 Classes for Digits 0 - 9:"
   ]
  },
  {
   "cell_type": "code",
   "execution_count": 11,
   "metadata": {},
   "outputs": [
    {
     "name": "stdout",
     "output_type": "stream",
     "text": [
      "[0 1 2 3 4 5 6 7 8 9]\n"
     ]
    }
   ],
   "source": [
    "classes2 = np.arange(10)\n",
    "print(classes2)"
   ]
  },
  {
   "attachments": {},
   "cell_type": "markdown",
   "metadata": {},
   "source": [
    "#### Flatten The Images:"
   ]
  },
  {
   "cell_type": "code",
   "execution_count": null,
   "metadata": {},
   "outputs": [],
   "source": [
    "x_train_flat = np.reshape(x_train, (x_train.shape[0], x_train.shape[1] * x_train.shape[2]))\n",
    "x_val_flat = np.reshape(x_val, (x_val.shape[0], x_val.shape[1] * x_val.shape[2]))\n",
    "x_test_flat = np.reshape(x_test, (x_test.shape[0], x_test.shape[1] * x_test.shape[2]))"
   ]
  },
  {
   "attachments": {},
   "cell_type": "markdown",
   "metadata": {},
   "source": [
    "#### Scaling Each Pixel Value In The Range [0, 1]\n",
    "\n",
    " - Calculate min and max of each feature based on the training set.\n",
    " - Scale each feature in all sets:\n",
    "\n",
    " ##### $$ X_{scaled} = \\frac{X - X_{min}}{X_{max} - {X_{min}}} $$"
   ]
  },
  {
   "cell_type": "code",
   "execution_count": null,
   "metadata": {},
   "outputs": [],
   "source": [
    "x_train_flat = x_train_flat.astype('float32')\n",
    "x_train_flat /= 255\n",
    "\n",
    "x_val_flat = x_val_flat.astype('float32')\n",
    "x_val_flat /= 255\n",
    "\n",
    "x_test_flat = x_test_flat.astype('float32')\n",
    "x_test_flat /= 255"
   ]
  },
  {
   "attachments": {},
   "cell_type": "markdown",
   "metadata": {},
   "source": [
    "#### Define Model For 10 Classes:"
   ]
  },
  {
   "cell_type": "code",
   "execution_count": null,
   "metadata": {},
   "outputs": [],
   "source": [
    "model3 = Sequential()\n",
    "model3.add(Dense(input_dim = x_train_flat.shape[1], units=512, activation='tanh')) # Hidden Layer 1\n",
    "model3.add(Dense(units=512, activation='tanh')) # Hidden Layer 2\n",
    "model3.add(Dense(units=len(classes2), activation='softmax')) # Output Layer (10 classes = 10 neurons)\n",
    "model3.summary()"
   ]
  },
  {
   "attachments": {},
   "cell_type": "markdown",
   "metadata": {},
   "source": [
    "#### Compile, Fit & Evaluate Model:"
   ]
  },
  {
   "cell_type": "code",
   "execution_count": null,
   "metadata": {},
   "outputs": [],
   "source": [
    "opt3 = tf.keras.optimizers.SGD(learning_rate=0.001)\n",
    "model3.compile(loss='categorical_crossentropy', optimizer=opt, metrics=['accuracy'])\n",
    "\n",
    "# Convert Class Vectors To Binary Class Matrices:\n",
    "y_train_c = to_categorical(y_train, len(classes2))\n",
    "y_val_c = to_categorical(y_val, len(classes2))\n",
    "y_test_c = to_categorical(y_test, len(classes2))\n",
    "\n",
    "history3 = model3.fit(x_train_flat, y_train_c, batch_size=16, epochs=50, verbose=1)\n",
    "\n",
    "scoreValid3 = model3.evaluate(x_val_flat, y_val_c)\n",
    "print('Total Loss On Validation Set: ', scoreValid3[0])\n",
    "print('Accuracy Of Validation Set: ', scoreValid3[1])\n",
    "\n",
    "plt.figure(figsize=[9, 5])\n",
    "accuracyCurve3 = np.array(history3.history['accuracy'])\n",
    "lossCurve3 = np.array(history3.history['loss'])\n",
    "plotCurve(accuracyCurve3, lossCurve3)"
   ]
  },
  {
   "attachments": {},
   "cell_type": "markdown",
   "metadata": {},
   "source": [
    "#### Predict Classes Of Held Out Samples:"
   ]
  },
  {
   "cell_type": "code",
   "execution_count": null,
   "metadata": {},
   "outputs": [],
   "source": [
    "testClass3Prob = model3.predict(x_test_flat)\n",
    "testLabels3 = np.argmax(testClass3Prob, axis = 1)\n",
    "\n",
    "testAccuracy3 = accuracy_score(testLabels3, y_test)\n",
    "print('The Accuracy Using The Testing Set Is: ', testAccuracy3)\n",
    "\n",
    "confusionMatrix3 = confusion_matrix(testLabels3, y_test)\n",
    "print('The Confusion Matrix Using Testing Set Is: \\n', confusionMatrix3)"
   ]
  },
  {
   "attachments": {},
   "cell_type": "markdown",
   "metadata": {},
   "source": [
    "#### Saving The Best Model:\n",
    "\n",
    " - Create a checkpoint to save the best model based on the lowest validation loss.\n",
    " - Send the validation set to the `fit()` function.\n",
    " - Load the best model during testing"
   ]
  },
  {
   "cell_type": "code",
   "execution_count": null,
   "metadata": {},
   "outputs": [],
   "source": [
    "savePath = '../assets/Lecture6/model3_mnist.h5'\n",
    "callbackSave = ModelCheckpoint(savePath, monitor='val_loss', verbose=0, save_best_only=True, period=1)\n",
    "\n",
    "history3a = model3.fit(x_train_flat, y_train_c, batch_size=16, epochs=50, \n",
    "            verbose=1, validation_data=(x_val_flat, y_val_c), callbacks=[callbackSave])\n",
    "\n",
    "model3a = load_model(savePath)\n",
    "testClass3AProb = model3a.predict(x_test_flat)\n",
    "testLabels3a = np.argmax(testClass3AProb, axis=1)\n",
    "\n",
    "testAccuracy3a = accuracy_score(testLabels3a, y_test)\n",
    "print('The Accuracy Using The Testing Set = ', testAccuracy3a)"
   ]
  }
 ],
 "metadata": {
  "kernelspec": {
   "display_name": "base",
   "language": "python",
   "name": "python3"
  },
  "language_info": {
   "codemirror_mode": {
    "name": "ipython",
    "version": 3
   },
   "file_extension": ".py",
   "mimetype": "text/x-python",
   "name": "python",
   "nbconvert_exporter": "python",
   "pygments_lexer": "ipython3",
   "version": "3.9.13"
  },
  "orig_nbformat": 4
 },
 "nbformat": 4,
 "nbformat_minor": 2
}
