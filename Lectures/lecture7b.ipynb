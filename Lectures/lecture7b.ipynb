{
 "cells": [
  {
   "attachments": {},
   "cell_type": "markdown",
   "metadata": {},
   "source": [
    "# Convolutional Neural Networks Part 2:\n",
    "\n",
    " - Methods To Handle Overfitting"
   ]
  },
  {
   "attachments": {},
   "cell_type": "markdown",
   "metadata": {},
   "source": [
    "### Sources:\n",
    "\n",
    " - https://keras.io/applications/\n",
    " - https://towardsdatascience.com/deep-learning-3-more-on-cnns-handling-overfitting-2bd5d99abe5d\n",
    " - https://machinelearningmastery.com/how-to-use-transfer-learning-when-developing-convolutional-neural-network-models/\n",
    " - https://neurohive.io/en/popular-networks/vgg16/\n",
    " - https://www.dlology.com/blog/one-simple-trick-to-train-keras-model-faster-with-batch-normalization/\n",
    " - https://github.com/Xinyi6/CIFAR10-CNN-by-Keras/blob/master/doc/CIFAR10%20CNN%20use%20Keras.pdf\n",
    " - https://github.com/moritzhambach/Image-Augmentation-in-Keras-CIFAR-10-/blob/master/CNN%20with%20Image%20Augmentation%20(CIFAR10).ipynb"
   ]
  },
  {
   "attachments": {},
   "cell_type": "markdown",
   "metadata": {},
   "source": [
    "#### Turn Off Messages:"
   ]
  },
  {
   "cell_type": "code",
   "execution_count": 1,
   "metadata": {},
   "outputs": [],
   "source": [
    "import os\n",
    "os.environ['TF_CPP_MIN_LOG_LEVEL'] = '3'\n",
    "\n",
    "# Fix: UnknownError: Failed to get convolution algorithm. \n",
    "# This is probably because cuDNN failed to initialize, \n",
    "# so try looking to see if a warning log message was printed above\n",
    "os.environ['TF_FORCE_GPU_ALLOW_GROWTH'] = 'true'"
   ]
  },
  {
   "attachments": {},
   "cell_type": "markdown",
   "metadata": {},
   "source": [
    "#### Check GPU Availibility & Set Memory Limit:"
   ]
  },
  {
   "cell_type": "code",
   "execution_count": 2,
   "metadata": {},
   "outputs": [
    {
     "name": "stdout",
     "output_type": "stream",
     "text": [
      "Num GPUs Available:  1\n"
     ]
    },
    {
     "data": {
      "text/plain": [
       "[PhysicalDevice(name='/physical_device:GPU:0', device_type='GPU')]"
      ]
     },
     "execution_count": 2,
     "metadata": {},
     "output_type": "execute_result"
    }
   ],
   "source": [
    "import tensorflow as tf\n",
    "print(\"Num GPUs Available: \", len(tf.config.list_physical_devices('GPU')))\n",
    "\n",
    "gpus = tf.config.experimental.list_physical_devices('GPU')\n",
    "if gpus:\n",
    "    try:\n",
    "        tf.config.experimental.set_virtual_device_configuration(\n",
    "            gpus[0],[tf.config.experimental.VirtualDeviceConfiguration(memory_limit=2048)]) # Alt: 1792 MB, 2048 MB\n",
    "    except RuntimeError as e:\n",
    "        print(e)\n",
    "\n",
    "tf.config.list_physical_devices('GPU')"
   ]
  },
  {
   "attachments": {},
   "cell_type": "markdown",
   "metadata": {},
   "source": [
    "#### Import Libraries:"
   ]
  },
  {
   "cell_type": "code",
   "execution_count": 3,
   "metadata": {},
   "outputs": [],
   "source": [
    "import matplotlib.pyplot as plt\n",
    "import numpy as np\n",
    "import pandas as pd\n",
    "from random import randint\n",
    "from tensorflow.keras import layers, regularizers\n",
    "from keras.models import Sequential, load_model\n",
    "from keras.datasets import cifar10\n",
    "from keras.callbacks import ModelCheckpoint\n",
    "from keras.utils import to_categorical\n",
    "from keras.applications.vgg16 import preprocess_input\n",
    "from keras.layers import Dense, Conv2D, Flatten, Dropout, Activation, MaxPooling2D, BatchNormalization\n",
    "from keras.preprocessing.image import ImageDataGenerator\n",
    "from sklearn.metrics import accuracy_score, confusion_matrix, recall_score"
   ]
  },
  {
   "attachments": {},
   "cell_type": "markdown",
   "metadata": {},
   "source": [
    "#### Define Functions For Plotting:"
   ]
  },
  {
   "cell_type": "code",
   "execution_count": 4,
   "metadata": {},
   "outputs": [],
   "source": [
    "# plot training accuracy and loss\n",
    "def plotCurve(trainingAccuracy, trainingLoss):\n",
    "    epochs = np.arange(trainingLoss.shape[0])\n",
    "    #print(epochs)\n",
    "    plt.figure(figsize = [12, 6])\n",
    "    plt.subplot(1, 2, 1)\n",
    "    plt.plot(epochs, trainingAccuracy)\n",
    "    #plt.axis([-1, 2, -1, 2])\n",
    "    plt.xlabel('Epoch')\n",
    "    plt.ylabel('Accuracy')\n",
    "    plt.title('Training Accuracy')\n",
    "\n",
    "    plt.subplot(1, 2, 2)\n",
    "    plt.plot(epochs, trainingLoss)\n",
    "    plt.xlabel('Epoch')\n",
    "    plt.ylabel('Binary CrossEntropy Loss')\n",
    "    plt.title('Training Loss')\n",
    "    plt.show()\n",
    "\n",
    "def accuracyFunc(labelsActual, labelsPred):\n",
    "    accuracy = (np.sum(labelsActual == labelsPred) / len(labelsActual)) * 100\n",
    "    return accuracy\n",
    "\n",
    "# Plot Features of CIFAR-10 data\n",
    "def feat_plot(features, labels, classes, title):\n",
    "    for class_i in classes:\n",
    "        plt.plot(features[labels[:] == classes[class_i], 0],\n",
    "                 features[labels[:] == classes[class_i], 1], 'o', markersize = 5)\n",
    "        # plt.axis([-2, 2, -2, 2])\n",
    "        plt.xlabel('X: Feature 1')\n",
    "        plt.ylabel('Y: Feature 2')\n",
    "        plt.title(title)\n",
    "        plt.legend(['Class ' + str(classes[class_i]) for class_i in classes])\n",
    "    plt.show()\n",
    "\n",
    "def plotBothCurves(trainingAccuracy, trainingLoss, validAccuracy, validLoss):\n",
    "    epochs = np.arange(trainingLoss.shape[0])\n",
    "    epochsSaved = np.arange(validLoss.shape[0])\n",
    "    #print(epochs)\n",
    "    # 1st Subplot: Accuracy\n",
    "    plt.figure(figsize = [12, 6])\n",
    "    plt.subplot(1, 2, 1)\n",
    "    plt.plot(epochs, trainingAccuracy)\n",
    "    plt.plot(epochsSaved, validAccuracy) # Saved Best Value\n",
    "    plt.legend(['Training', 'Validation'])\n",
    "    plt.xlabel('Epoch')\n",
    "    plt.ylabel('Accuracy')\n",
    "    plt.title('Training Accuracy')\n",
    "    # 2nd Subplot: Training Loss\n",
    "    plt.subplot(1, 2, 2)\n",
    "    plt.plot(epochs, trainingLoss)\n",
    "    plt.plot(epochsSaved, validLoss)\n",
    "    plt.legend(['Training', 'Validation'])\n",
    "    plt.xlabel('Epoch')\n",
    "    plt.ylabel('Binary CrossEntropy Loss')\n",
    "    plt.title('Training Loss')\n",
    "    plt.show()\n",
    "\n",
    "# Plot CIFAR-10 Data In Subplots\n",
    "def img_plt(img, label):\n",
    "    plt.figure(figsize=(12, 5.5))\n",
    "    for i in range (1, 11):\n",
    "        plt.subplot(2, 5, i)\n",
    "        plt.imshow(img[i - 1, :, :], cmap = 'gray')\n",
    "        plt.title('Label: ' + str(label[i - 1]))\n",
    "    plt.show()\n",
    "\n",
    "def plotEverything(model_hist):\n",
    "    trainAcc = np.array(model_hist.history['accuracy'])\n",
    "    trainLoss = np.array(model_hist.history['loss'])\n",
    "    validAcc = np.array(model_hist.history['val_accuracy'])\n",
    "    validLoss = np.array(model_hist.history['val_loss'])\n",
    "\n",
    "    plotBothCurves(trainAcc, trainLoss, validAcc, validLoss)\n",
    "\n",
    "    trainScore = [trainAcc[-1], trainLoss[-1]]\n",
    "    print(f'\\nTraining Accuracy: {round(trainScore[0], 5) * 100} %')\n",
    "    print(f'Training Loss: {round(trainScore[1], 4)}\\n')\n",
    "\n",
    "    valScore = [validAcc[-1], validLoss[-1]]\n",
    "    print(f'\\nValidation Accuracy: {round(valScore[0], 5) * 100} %')\n",
    "    print(f'Validation Loss: {round(valScore[1], 4)}\\n')"
   ]
  },
  {
   "attachments": {},
   "cell_type": "markdown",
   "metadata": {},
   "source": [
    "#### Import Data:\n",
    "\n",
    " - Each of the 50,000 Images is 32 x 32 pixels x 3 RGB values\n",
    "     - Each Image is 3D."
   ]
  },
  {
   "cell_type": "code",
   "execution_count": 5,
   "metadata": {},
   "outputs": [
    {
     "name": "stdout",
     "output_type": "stream",
     "text": [
      "(50000, 32, 32, 3)\n",
      "(50000, 1)\n",
      "(10000, 32, 32, 3)\n",
      "(10000, 1)\n"
     ]
    }
   ],
   "source": [
    "(x_train, y_train), (x_test, y_test) = cifar10.load_data()\n",
    "\n",
    "classes = np.arange(10)\n",
    "print(x_train.shape)\n",
    "print(y_train.shape)\n",
    "print(x_test.shape)\n",
    "print(y_test.shape)"
   ]
  },
  {
   "attachments": {},
   "cell_type": "markdown",
   "metadata": {},
   "source": [
    "#### Randomize & Select 20% of Images For Validation:"
   ]
  },
  {
   "cell_type": "code",
   "execution_count": 6,
   "metadata": {},
   "outputs": [
    {
     "name": "stdout",
     "output_type": "stream",
     "text": [
      "[    0     1     2 ... 49997 49998 49999]\n",
      "[22139 49953  6933 ... 29958 49810 39931] \n",
      "\n",
      "(50000, 32, 32, 3)\n",
      "(50000, 1) \n",
      "\n",
      "(10000, 32, 32, 3)\n",
      "(10000, 1) \n",
      "\n",
      "(40000, 32, 32, 3)\n",
      "(40000, 1) \n",
      "\n"
     ]
    }
   ],
   "source": [
    "num_train_img = x_train.shape[0]\n",
    "train_ind = np.arange(0, num_train_img)\n",
    "train_ind_s = np.random.permutation(train_ind)\n",
    "print(train_ind)\n",
    "print(train_ind_s, '\\n')\n",
    "\n",
    "x_train = x_train[train_ind_s,:,:,:]\n",
    "y_train = y_train[train_ind_s]\n",
    "print(x_train.shape)\n",
    "print(y_train.shape, '\\n')\n",
    "\n",
    "x_val = x_train[0:int(0.2 * num_train_img),:,:,:]\n",
    "y_val = y_train[0:int(0.2 * num_train_img)]\n",
    "print(x_val.shape)\n",
    "print(y_val.shape, '\\n')\n",
    "\n",
    "x_train = x_train[int(0.2 * num_train_img):,:,:]\n",
    "y_train = y_train[int(0.2 * num_train_img):]\n",
    "print(x_train.shape)\n",
    "print(y_train.shape, '\\n')"
   ]
  },
  {
   "attachments": {},
   "cell_type": "markdown",
   "metadata": {},
   "source": [
    "#### Plot 1st 10 Images From Randomized Data:"
   ]
  },
  {
   "cell_type": "code",
   "execution_count": 7,
   "metadata": {},
   "outputs": [
    {
     "data": {
      "image/png": "[encoded data removed]",
      "text/plain": [
       "<Figure size 1200x550 with 10 Axes>"
      ]
     },
     "metadata": {},
     "output_type": "display_data"
    }
   ],
   "source": [
    "img_plt(x_train[0:10,:,:,:], y_train[0:10]) # plot the images"
   ]
  },
  {
   "attachments": {},
   "cell_type": "markdown",
   "metadata": {},
   "source": [
    "#### Scaling The Images to $ [0, \\ 1] $:"
   ]
  },
  {
   "cell_type": "code",
   "execution_count": 8,
   "metadata": {},
   "outputs": [],
   "source": [
    "x_train = x_train.astype('float32')\n",
    "x_val = x_val.astype('float32')\n",
    "x_test = x_test.astype('float32')\n",
    "\n",
    "x_train /= 255\n",
    "x_val /= 255\n",
    "x_test /= 255"
   ]
  },
  {
   "attachments": {},
   "cell_type": "markdown",
   "metadata": {},
   "source": [
    "#### Convert Class Vectors to Binary Class Matrices:"
   ]
  },
  {
   "cell_type": "code",
   "execution_count": 9,
   "metadata": {},
   "outputs": [],
   "source": [
    "y_train_c = to_categorical(y_train, len(classes))\n",
    "y_val_c = to_categorical(y_val, len(classes))\n",
    "y_test_c = to_categorical(y_test, len(classes))"
   ]
  },
  {
   "attachments": {},
   "cell_type": "markdown",
   "metadata": {},
   "source": [
    "### 1st Method: Image-Data Augmentation Only:"
   ]
  },
  {
   "attachments": {},
   "cell_type": "markdown",
   "metadata": {},
   "source": [
    "#### Define The Model:"
   ]
  },
  {
   "cell_type": "code",
   "execution_count": 10,
   "metadata": {},
   "outputs": [
    {
     "name": "stdout",
     "output_type": "stream",
     "text": [
      "Model: \"sequential\"\n",
      "_________________________________________________________________\n",
      "Layer (type)                 Output Shape              Param #   \n",
      "=================================================================\n",
      "conv2d (Conv2D)              (None, 32, 32, 32)        896       \n",
      "_________________________________________________________________\n",
      "activation (Activation)      (None, 32, 32, 32)        0         \n",
      "_________________________________________________________________\n",
      "conv2d_1 (Conv2D)            (None, 32, 32, 32)        9248      \n",
      "_________________________________________________________________\n",
      "activation_1 (Activation)    (None, 32, 32, 32)        0         \n",
      "_________________________________________________________________\n",
      "max_pooling2d (MaxPooling2D) (None, 16, 16, 32)        0         \n",
      "_________________________________________________________________\n",
      "conv2d_2 (Conv2D)            (None, 16, 16, 64)        18496     \n",
      "_________________________________________________________________\n",
      "activation_2 (Activation)    (None, 16, 16, 64)        0         \n",
      "_________________________________________________________________\n",
      "conv2d_3 (Conv2D)            (None, 16, 16, 64)        36928     \n",
      "_________________________________________________________________\n",
      "activation_3 (Activation)    (None, 16, 16, 64)        0         \n",
      "_________________________________________________________________\n",
      "max_pooling2d_1 (MaxPooling2 (None, 8, 8, 64)          0         \n",
      "_________________________________________________________________\n",
      "flatten (Flatten)            (None, 4096)              0         \n",
      "_________________________________________________________________\n",
      "dense (Dense)                (None, 512)               2097664   \n",
      "_________________________________________________________________\n",
      "dropout (Dropout)            (None, 512)               0         \n",
      "_________________________________________________________________\n",
      "dense_1 (Dense)              (None, 10)                5130      \n",
      "=================================================================\n",
      "Total params: 2,168,362\n",
      "Trainable params: 2,168,362\n",
      "Non-trainable params: 0\n",
      "_________________________________________________________________\n"
     ]
    }
   ],
   "source": [
    "model4 = Sequential()\n",
    "model4.add(Conv2D(filters=32, kernel_size=(3, 3), padding='same', input_shape=x_train.shape[1:]))\n",
    "model4.add(Activation('relu'))\n",
    "model4.add(Conv2D(32, (3, 3), padding='same'))\n",
    "model4.add(Activation('relu'))\n",
    "model4.add(MaxPooling2D(pool_size=(2, 2))) # MaxPooling2D Layer or AveragePooling2D Layer\n",
    "\n",
    "model4.add(Conv2D(64, (3, 3), padding='same'))\n",
    "model4.add(Activation('relu'))\n",
    "model4.add(Conv2D(64, (3, 3), padding='same'))\n",
    "model4.add(Activation('relu'))\n",
    "model4.add(MaxPooling2D(pool_size=(2, 2)))\n",
    "\n",
    "model4.add(Flatten()) # Optional:Flattens 2D images to 1D Array\n",
    "model4.add(Dense(units=512, activation='relu'))\n",
    "model4.add(Dropout(0.5)) # Helps to reduce overfitting\n",
    "model4.add(Dense(units=len(classes), activation='softmax'))\n",
    "model4.summary()"
   ]
  },
  {
   "attachments": {},
   "cell_type": "markdown",
   "metadata": {},
   "source": [
    "#### Compile The Model:\n",
    "\n",
    " - Create A Data Generator For Real-Time Data Augmentation"
   ]
  },
  {
   "cell_type": "code",
   "execution_count": 11,
   "metadata": {},
   "outputs": [],
   "source": [
    "opt4 = tf.keras.optimizers.Adam(learning_rate=0.001)\n",
    "model4.compile(loss='categorical_crossentropy', optimizer=opt4, metrics=['accuracy'])\n",
    "\n",
    "datagen4 = ImageDataGenerator(\n",
    "    #shear_range = -0.1,\n",
    "    #zoom_range = -0.1,\n",
    "    rotation_range=5,\n",
    "    width_shift_range=0.1,\n",
    "    height_shift_range=0.1,\n",
    "    horizontal_flip=True\n",
    ")"
   ]
  },
  {
   "attachments": {},
   "cell_type": "markdown",
   "metadata": {},
   "source": [
    "#### Compute Quantities Required For Featurewise Normalization:\n",
    "\n",
    " - std deviation, mean & principal components if ZCA Whitening is Applied."
   ]
  },
  {
   "cell_type": "code",
   "execution_count": 12,
   "metadata": {},
   "outputs": [],
   "source": [
    "datagen4.fit(x_train)"
   ]
  },
  {
   "attachments": {},
   "cell_type": "markdown",
   "metadata": {},
   "source": [
    "#### Create A Checkpoint To Save Best Model:\n",
    "\n",
    " - Based On Lowest Validation Loss"
   ]
  },
  {
   "cell_type": "code",
   "execution_count": 13,
   "metadata": {},
   "outputs": [],
   "source": [
    "save_path4 = '../assets/Lecture7/model4_ckpt.h5'\n",
    "callbacks_save4 = ModelCheckpoint(save_path4, monitor='val_loss', verbose=0, save_best_only=True, save_freq='epoch')"
   ]
  },
  {
   "attachments": {},
   "cell_type": "markdown",
   "metadata": {},
   "source": [
    "#### Fit The Model Using The Data Generator & Plot Statistics:\n",
    "\n",
    "Two Methods To Flow The Images:\n",
    "\n",
    "\n",
    "1. `.flow_from_directory()` Data Generator For Large Datasets:\n",
    "\n",
    "`image_generator = image.datagen.flow_from_directory('data/images', class_mode=None, seed=seed)`\n",
    "\n",
    "\n",
    "2. `.flow()` for small datasets loaded into memory:\n",
    "\n",
    "`model.fit_generator(datagen.flow(x_train, y_train, batch_size=32), steps_per_epoch=len(train) / 32, epochs=epochs`"
   ]
  },
  {
   "cell_type": "code",
   "execution_count": 14,
   "metadata": {},
   "outputs": [
    {
     "name": "stdout",
     "output_type": "stream",
     "text": [
      "Epoch 1/50\n",
      "2500/2500 [==============================] - 30s 10ms/step - loss: 1.8296 - accuracy: 0.3153 - val_loss: 1.2529 - val_accuracy: 0.5504\n",
      "Epoch 2/50\n",
      "2500/2500 [==============================] - 22s 9ms/step - loss: 1.2852 - accuracy: 0.5395 - val_loss: 1.0331 - val_accuracy: 0.6260\n",
      "Epoch 3/50\n",
      "2500/2500 [==============================] - 21s 9ms/step - loss: 1.1217 - accuracy: 0.6004 - val_loss: 0.9606 - val_accuracy: 0.6594\n",
      "Epoch 4/50\n",
      "2500/2500 [==============================] - 21s 8ms/step - loss: 1.0352 - accuracy: 0.6349 - val_loss: 0.9407 - val_accuracy: 0.6699\n",
      "Epoch 5/50\n",
      "2500/2500 [==============================] - 22s 9ms/step - loss: 0.9706 - accuracy: 0.6548 - val_loss: 0.8464 - val_accuracy: 0.7015\n",
      "Epoch 6/50\n",
      "2500/2500 [==============================] - 22s 9ms/step - loss: 0.9175 - accuracy: 0.6778 - val_loss: 0.7965 - val_accuracy: 0.7209\n",
      "Epoch 7/50\n",
      "2500/2500 [==============================] - 22s 9ms/step - loss: 0.9072 - accuracy: 0.6826 - val_loss: 0.8120 - val_accuracy: 0.7216\n",
      "Epoch 8/50\n",
      "2500/2500 [==============================] - 22s 9ms/step - loss: 0.8777 - accuracy: 0.6939 - val_loss: 0.8133 - val_accuracy: 0.7128\n",
      "Epoch 9/50\n",
      "2500/2500 [==============================] - 22s 9ms/step - loss: 0.8441 - accuracy: 0.7046 - val_loss: 0.7956 - val_accuracy: 0.7238\n",
      "Epoch 10/50\n",
      "2500/2500 [==============================] - 21s 9ms/step - loss: 0.8342 - accuracy: 0.7089 - val_loss: 0.7782 - val_accuracy: 0.7430\n",
      "Epoch 11/50\n",
      "2500/2500 [==============================] - 22s 9ms/step - loss: 0.8211 - accuracy: 0.7147 - val_loss: 0.7794 - val_accuracy: 0.7263\n",
      "Epoch 12/50\n",
      "2500/2500 [==============================] - 22s 9ms/step - loss: 0.8132 - accuracy: 0.7212 - val_loss: 0.7226 - val_accuracy: 0.7511\n",
      "Epoch 13/50\n",
      "2500/2500 [==============================] - 22s 9ms/step - loss: 0.7983 - accuracy: 0.7207 - val_loss: 0.7652 - val_accuracy: 0.7440\n",
      "Epoch 14/50\n",
      "2500/2500 [==============================] - 22s 9ms/step - loss: 0.7740 - accuracy: 0.7336 - val_loss: 0.7458 - val_accuracy: 0.7472\n",
      "Epoch 15/50\n",
      "2500/2500 [==============================] - 22s 9ms/step - loss: 0.7761 - accuracy: 0.7303 - val_loss: 0.7544 - val_accuracy: 0.7531\n",
      "Epoch 16/50\n",
      "2500/2500 [==============================] - 22s 9ms/step - loss: 0.7771 - accuracy: 0.7338 - val_loss: 0.6973 - val_accuracy: 0.7582\n",
      "Epoch 17/50\n",
      "2500/2500 [==============================] - 22s 9ms/step - loss: 0.7577 - accuracy: 0.7345 - val_loss: 0.7688 - val_accuracy: 0.7471\n",
      "Epoch 18/50\n",
      "2500/2500 [==============================] - 22s 9ms/step - loss: 0.7509 - accuracy: 0.7420 - val_loss: 0.7253 - val_accuracy: 0.7482\n",
      "Epoch 19/50\n",
      "2500/2500 [==============================] - 22s 9ms/step - loss: 0.7317 - accuracy: 0.7498 - val_loss: 0.7036 - val_accuracy: 0.7664\n",
      "Epoch 20/50\n",
      "2500/2500 [==============================] - 22s 9ms/step - loss: 0.7295 - accuracy: 0.7480 - val_loss: 0.7482 - val_accuracy: 0.7528\n",
      "Epoch 21/50\n",
      "2500/2500 [==============================] - 22s 9ms/step - loss: 0.7305 - accuracy: 0.7496 - val_loss: 0.8014 - val_accuracy: 0.7421\n",
      "Epoch 22/50\n",
      "2500/2500 [==============================] - 21s 9ms/step - loss: 0.7304 - accuracy: 0.7475 - val_loss: 0.6919 - val_accuracy: 0.7640\n",
      "Epoch 23/50\n",
      "2500/2500 [==============================] - 22s 9ms/step - loss: 0.7094 - accuracy: 0.7545 - val_loss: 0.6970 - val_accuracy: 0.7741\n",
      "Epoch 24/50\n",
      "2500/2500 [==============================] - 22s 9ms/step - loss: 0.7093 - accuracy: 0.7580 - val_loss: 0.6837 - val_accuracy: 0.7765\n",
      "Epoch 25/50\n",
      "2500/2500 [==============================] - 22s 9ms/step - loss: 0.7158 - accuracy: 0.7559 - val_loss: 0.7101 - val_accuracy: 0.7671\n",
      "Epoch 26/50\n",
      "2500/2500 [==============================] - 22s 9ms/step - loss: 0.7054 - accuracy: 0.7583 - val_loss: 0.7513 - val_accuracy: 0.7547\n",
      "Epoch 27/50\n",
      "2500/2500 [==============================] - 22s 9ms/step - loss: 0.7130 - accuracy: 0.7547 - val_loss: 0.6673 - val_accuracy: 0.7732\n",
      "Epoch 28/50\n",
      "2500/2500 [==============================] - 22s 9ms/step - loss: 0.6899 - accuracy: 0.7616 - val_loss: 0.7829 - val_accuracy: 0.7575\n",
      "Epoch 29/50\n",
      "2500/2500 [==============================] - 22s 9ms/step - loss: 0.7046 - accuracy: 0.7594 - val_loss: 0.6609 - val_accuracy: 0.7796\n",
      "Epoch 30/50\n",
      "2500/2500 [==============================] - 22s 9ms/step - loss: 0.6941 - accuracy: 0.7609 - val_loss: 0.7582 - val_accuracy: 0.7583\n",
      "Epoch 31/50\n",
      "2500/2500 [==============================] - 22s 9ms/step - loss: 0.6923 - accuracy: 0.7614 - val_loss: 0.6678 - val_accuracy: 0.7813\n",
      "Epoch 32/50\n",
      "2500/2500 [==============================] - 22s 9ms/step - loss: 0.6850 - accuracy: 0.7619 - val_loss: 0.7089 - val_accuracy: 0.7684\n",
      "Epoch 33/50\n",
      "2500/2500 [==============================] - 22s 9ms/step - loss: 0.6854 - accuracy: 0.7656 - val_loss: 0.7199 - val_accuracy: 0.7657\n",
      "Epoch 34/50\n",
      "2500/2500 [==============================] - 22s 9ms/step - loss: 0.6903 - accuracy: 0.7621 - val_loss: 0.7350 - val_accuracy: 0.7620\n",
      "Epoch 35/50\n",
      "2500/2500 [==============================] - 22s 9ms/step - loss: 0.6856 - accuracy: 0.7635 - val_loss: 0.7036 - val_accuracy: 0.7648\n",
      "Epoch 36/50\n",
      "2500/2500 [==============================] - 22s 9ms/step - loss: 0.6995 - accuracy: 0.7587 - val_loss: 0.6976 - val_accuracy: 0.7691\n",
      "Epoch 37/50\n",
      "2500/2500 [==============================] - 22s 9ms/step - loss: 0.6872 - accuracy: 0.7634 - val_loss: 0.6828 - val_accuracy: 0.7763\n",
      "Epoch 38/50\n",
      "2500/2500 [==============================] - 22s 9ms/step - loss: 0.6727 - accuracy: 0.7701 - val_loss: 0.6541 - val_accuracy: 0.7802\n",
      "Epoch 39/50\n",
      "2500/2500 [==============================] - 22s 9ms/step - loss: 0.6627 - accuracy: 0.7687 - val_loss: 0.7158 - val_accuracy: 0.7665\n",
      "Epoch 40/50\n",
      "2500/2500 [==============================] - 21s 9ms/step - loss: 0.6823 - accuracy: 0.7652 - val_loss: 0.6818 - val_accuracy: 0.7731\n",
      "Epoch 41/50\n",
      "2500/2500 [==============================] - 22s 9ms/step - loss: 0.6671 - accuracy: 0.7688 - val_loss: 0.6541 - val_accuracy: 0.7929\n",
      "Epoch 42/50\n",
      "2500/2500 [==============================] - 22s 9ms/step - loss: 0.6561 - accuracy: 0.7750 - val_loss: 0.6747 - val_accuracy: 0.7855\n",
      "Epoch 43/50\n",
      "2500/2500 [==============================] - 22s 9ms/step - loss: 0.6652 - accuracy: 0.7709 - val_loss: 0.6839 - val_accuracy: 0.7732\n",
      "Epoch 44/50\n",
      "2500/2500 [==============================] - 22s 9ms/step - loss: 0.6519 - accuracy: 0.7775 - val_loss: 0.6889 - val_accuracy: 0.7828\n",
      "Epoch 45/50\n",
      "2500/2500 [==============================] - 22s 9ms/step - loss: 0.6604 - accuracy: 0.7746 - val_loss: 0.7214 - val_accuracy: 0.7668\n",
      "Epoch 46/50\n",
      "2500/2500 [==============================] - 22s 9ms/step - loss: 0.6619 - accuracy: 0.7718 - val_loss: 0.6513 - val_accuracy: 0.7857\n",
      "Epoch 47/50\n",
      "2500/2500 [==============================] - 22s 9ms/step - loss: 0.6740 - accuracy: 0.7693 - val_loss: 0.6567 - val_accuracy: 0.7851\n",
      "Epoch 48/50\n",
      "2500/2500 [==============================] - 22s 9ms/step - loss: 0.6504 - accuracy: 0.7756 - val_loss: 0.6512 - val_accuracy: 0.7855\n",
      "Epoch 49/50\n",
      "2500/2500 [==============================] - 22s 9ms/step - loss: 0.6542 - accuracy: 0.7742 - val_loss: 0.6798 - val_accuracy: 0.7791\n",
      "Epoch 50/50\n",
      "2500/2500 [==============================] - 22s 9ms/step - loss: 0.6611 - accuracy: 0.7745 - val_loss: 0.6941 - val_accuracy: 0.7823\n"
     ]
    },
    {
     "data": {
      "image/png": "[encoded data removed]",
      "text/plain": [
       "<Figure size 1200x600 with 2 Axes>"
      ]
     },
     "metadata": {},
     "output_type": "display_data"
    },
    {
     "name": "stdout",
     "output_type": "stream",
     "text": [
      "\n",
      "Training Accuracy: 77.285 %\n",
      "Training Loss: 0.6627\n",
      "\n",
      "\n",
      "Validation Accuracy: 78.23 %\n",
      "Validation Loss: 0.6941\n",
      "\n"
     ]
    }
   ],
   "source": [
    "history4 = model4.fit(datagen4.flow(x_train, y_train_c, batch_size=16), \n",
    "                      steps_per_epoch=len(x_train) / 16, epochs=50, \n",
    "                      verbose=1, validation_data=(x_val, y_val_c), \n",
    "                      callbacks=[callbacks_save4])\n",
    "\n",
    "plotEverything(history4)"
   ]
  },
  {
   "attachments": {},
   "cell_type": "markdown",
   "metadata": {},
   "source": [
    "#### Load Best Model & Evaluate:"
   ]
  },
  {
   "cell_type": "code",
   "execution_count": 15,
   "metadata": {},
   "outputs": [
    {
     "name": "stdout",
     "output_type": "stream",
     "text": [
      "1250/1250 [==============================] - 3s 2ms/step - loss: 0.4798 - accuracy: 0.8357\n",
      "Total Loss From Training Set: 0.47982051968574524\n",
      "Accuracy From Training Set: 0.8356500267982483\n",
      "\n",
      "313/313 [==============================] - 1s 4ms/step - loss: 0.6512 - accuracy: 0.7855\n",
      "Total Loss From Validation Set: 0.6511979699134827\n",
      "Accuracy From Validation Set: 0.7854999899864197\n",
      "\n",
      "313/313 [==============================] - 1s 4ms/step - loss: 0.6678 - accuracy: 0.7856\n",
      "Total Loss From Testing Set: 0.6677590012550354\n",
      "Accuracy From Testing Set: 0.7856000065803528\n",
      "\n"
     ]
    }
   ],
   "source": [
    "model4a = load_model(save_path4)\n",
    "\n",
    "score4a = model4a.evaluate(x_train, y_train_c)\n",
    "print(f'Total Loss From Training Set: {score4a[0]}')\n",
    "print(f'Accuracy From Training Set: {score4a[1]}\\n')\n",
    "\n",
    "score4b = model4a.evaluate(x_val, y_val_c)\n",
    "print(f'Total Loss From Validation Set: {score4b[0]}')\n",
    "print(f'Accuracy From Validation Set: {score4b[1]}\\n')\n",
    "\n",
    "score4c = model4a.evaluate(x_test, y_test_c)\n",
    "print(f'Total Loss From Testing Set: {score4c[0]}')\n",
    "print(f'Accuracy From Testing Set: {score4c[1]}\\n')"
   ]
  },
  {
   "attachments": {},
   "cell_type": "markdown",
   "metadata": {},
   "source": [
    "#### Predict Class Of Held Out Samples:"
   ]
  },
  {
   "cell_type": "code",
   "execution_count": 16,
   "metadata": {},
   "outputs": [
    {
     "name": "stdout",
     "output_type": "stream",
     "text": [
      "The Accuracy Predicting The Test Set is: 77.7 %\n",
      "\n"
     ]
    },
    {
     "data": {
      "text/html": [
       "<div>\n",
       "<style scoped>\n",
       "    .dataframe tbody tr th:only-of-type {\n",
       "        vertical-align: middle;\n",
       "    }\n",
       "\n",
       "    .dataframe tbody tr th {\n",
       "        vertical-align: top;\n",
       "    }\n",
       "\n",
       "    .dataframe thead th {\n",
       "        text-align: right;\n",
       "    }\n",
       "</style>\n",
       "<table border=\"1\" class=\"dataframe\">\n",
       "  <thead>\n",
       "    <tr style=\"text-align: right;\">\n",
       "      <th></th>\n",
       "      <th>Pred Plane</th>\n",
       "      <th>Pred Car</th>\n",
       "      <th>Pred Bird</th>\n",
       "      <th>Pred Cat</th>\n",
       "      <th>Pred Deer</th>\n",
       "      <th>Pred Dog</th>\n",
       "      <th>Pred Frog</th>\n",
       "      <th>Pred Horse</th>\n",
       "      <th>Pred Ship</th>\n",
       "      <th>Pred Truck</th>\n",
       "    </tr>\n",
       "  </thead>\n",
       "  <tbody>\n",
       "    <tr>\n",
       "      <th>Actual Plane</th>\n",
       "      <td>850</td>\n",
       "      <td>2</td>\n",
       "      <td>81</td>\n",
       "      <td>39</td>\n",
       "      <td>32</td>\n",
       "      <td>19</td>\n",
       "      <td>13</td>\n",
       "      <td>22</td>\n",
       "      <td>92</td>\n",
       "      <td>11</td>\n",
       "    </tr>\n",
       "    <tr>\n",
       "      <th>Actual Car</th>\n",
       "      <td>31</td>\n",
       "      <td>925</td>\n",
       "      <td>10</td>\n",
       "      <td>23</td>\n",
       "      <td>3</td>\n",
       "      <td>10</td>\n",
       "      <td>15</td>\n",
       "      <td>8</td>\n",
       "      <td>49</td>\n",
       "      <td>58</td>\n",
       "    </tr>\n",
       "    <tr>\n",
       "      <th>Actual Bird</th>\n",
       "      <td>24</td>\n",
       "      <td>1</td>\n",
       "      <td>673</td>\n",
       "      <td>58</td>\n",
       "      <td>47</td>\n",
       "      <td>37</td>\n",
       "      <td>26</td>\n",
       "      <td>28</td>\n",
       "      <td>10</td>\n",
       "      <td>5</td>\n",
       "    </tr>\n",
       "    <tr>\n",
       "      <th>Actual Cat</th>\n",
       "      <td>8</td>\n",
       "      <td>1</td>\n",
       "      <td>27</td>\n",
       "      <td>512</td>\n",
       "      <td>36</td>\n",
       "      <td>106</td>\n",
       "      <td>25</td>\n",
       "      <td>24</td>\n",
       "      <td>2</td>\n",
       "      <td>4</td>\n",
       "    </tr>\n",
       "    <tr>\n",
       "      <th>Actual Deer</th>\n",
       "      <td>5</td>\n",
       "      <td>0</td>\n",
       "      <td>47</td>\n",
       "      <td>50</td>\n",
       "      <td>738</td>\n",
       "      <td>31</td>\n",
       "      <td>21</td>\n",
       "      <td>24</td>\n",
       "      <td>1</td>\n",
       "      <td>0</td>\n",
       "    </tr>\n",
       "    <tr>\n",
       "      <th>Actual Dog</th>\n",
       "      <td>3</td>\n",
       "      <td>0</td>\n",
       "      <td>40</td>\n",
       "      <td>128</td>\n",
       "      <td>13</td>\n",
       "      <td>672</td>\n",
       "      <td>13</td>\n",
       "      <td>37</td>\n",
       "      <td>1</td>\n",
       "      <td>0</td>\n",
       "    </tr>\n",
       "    <tr>\n",
       "      <th>Actual Frog</th>\n",
       "      <td>6</td>\n",
       "      <td>2</td>\n",
       "      <td>69</td>\n",
       "      <td>93</td>\n",
       "      <td>68</td>\n",
       "      <td>50</td>\n",
       "      <td>864</td>\n",
       "      <td>5</td>\n",
       "      <td>0</td>\n",
       "      <td>1</td>\n",
       "    </tr>\n",
       "    <tr>\n",
       "      <th>Actual Horse</th>\n",
       "      <td>3</td>\n",
       "      <td>0</td>\n",
       "      <td>23</td>\n",
       "      <td>35</td>\n",
       "      <td>57</td>\n",
       "      <td>40</td>\n",
       "      <td>5</td>\n",
       "      <td>824</td>\n",
       "      <td>4</td>\n",
       "      <td>2</td>\n",
       "    </tr>\n",
       "    <tr>\n",
       "      <th>Actual Ship</th>\n",
       "      <td>21</td>\n",
       "      <td>3</td>\n",
       "      <td>15</td>\n",
       "      <td>10</td>\n",
       "      <td>2</td>\n",
       "      <td>7</td>\n",
       "      <td>9</td>\n",
       "      <td>3</td>\n",
       "      <td>799</td>\n",
       "      <td>6</td>\n",
       "    </tr>\n",
       "    <tr>\n",
       "      <th>Actual Truck</th>\n",
       "      <td>49</td>\n",
       "      <td>66</td>\n",
       "      <td>15</td>\n",
       "      <td>52</td>\n",
       "      <td>4</td>\n",
       "      <td>28</td>\n",
       "      <td>9</td>\n",
       "      <td>25</td>\n",
       "      <td>42</td>\n",
       "      <td>913</td>\n",
       "    </tr>\n",
       "  </tbody>\n",
       "</table>\n",
       "</div>"
      ],
      "text/plain": [
       "              Pred Plane  Pred Car  Pred Bird  Pred Cat  Pred Deer  Pred Dog  \\\n",
       "Actual Plane         850         2         81        39         32        19   \n",
       "Actual Car            31       925         10        23          3        10   \n",
       "Actual Bird           24         1        673        58         47        37   \n",
       "Actual Cat             8         1         27       512         36       106   \n",
       "Actual Deer            5         0         47        50        738        31   \n",
       "Actual Dog             3         0         40       128         13       672   \n",
       "Actual Frog            6         2         69        93         68        50   \n",
       "Actual Horse           3         0         23        35         57        40   \n",
       "Actual Ship           21         3         15        10          2         7   \n",
       "Actual Truck          49        66         15        52          4        28   \n",
       "\n",
       "              Pred Frog  Pred Horse  Pred Ship  Pred Truck  \n",
       "Actual Plane         13          22         92          11  \n",
       "Actual Car           15           8         49          58  \n",
       "Actual Bird          26          28         10           5  \n",
       "Actual Cat           25          24          2           4  \n",
       "Actual Deer          21          24          1           0  \n",
       "Actual Dog           13          37          1           0  \n",
       "Actual Frog         864           5          0           1  \n",
       "Actual Horse          5         824          4           2  \n",
       "Actual Ship           9           3        799           6  \n",
       "Actual Truck          9          25         42         913  "
      ]
     },
     "metadata": {},
     "output_type": "display_data"
    }
   ],
   "source": [
    "test_class1_prob = model4.predict(x_test)\n",
    "test_labels = np.argmax(test_class1_prob, axis=1)\n",
    "print(f'The Accuracy Predicting The Test Set is: {accuracy_score(test_labels, y_test) * 100} %\\n')\n",
    "conf_matrix = confusion_matrix(test_labels, y_test)\n",
    "\n",
    "colLabels = ['Pred Plane', 'Pred Car', 'Pred Bird', 'Pred Cat', 'Pred Deer',\n",
    "             'Pred Dog', 'Pred Frog', 'Pred Horse', 'Pred Ship', 'Pred Truck']\n",
    "rowLabels = ['Actual Plane', 'Actual Car', 'Actual Bird', 'Actual Cat', 'Actual Deer',\n",
    "             'Actual Dog', 'Actual Frog', 'Actual Horse', 'Actual Ship', 'Actual Truck']\n",
    "\n",
    "fancyMatrix = pd.DataFrame(conf_matrix, columns=colLabels, index=rowLabels,)\n",
    "display(fancyMatrix)"
   ]
  },
  {
   "attachments": {},
   "cell_type": "markdown",
   "metadata": {},
   "source": [
    "### 2nd Method: Batch Normalization Without Data Augmentation:\n",
    "\n",
    " - Adds a 'normalization layer' after each convolutional layer.\n",
    "     - Between Convolutional Layer and Activation Layer.\n",
    "     - No need for bias in the Convolutional Layer.\n",
    " - Model Converges Much Faster In Training\n",
    "     - Can Use higher Learning Rates."
   ]
  },
  {
   "attachments": {},
   "cell_type": "markdown",
   "metadata": {},
   "source": [
    "#### Define The Model:"
   ]
  },
  {
   "cell_type": "code",
   "execution_count": 17,
   "metadata": {},
   "outputs": [
    {
     "name": "stdout",
     "output_type": "stream",
     "text": [
      "Model: \"sequential_1\"\n",
      "_________________________________________________________________\n",
      "Layer (type)                 Output Shape              Param #   \n",
      "=================================================================\n",
      "conv2d_4 (Conv2D)            (None, 32, 32, 32)        864       \n",
      "_________________________________________________________________\n",
      "batch_normalization (BatchNo (None, 32, 32, 32)        128       \n",
      "_________________________________________________________________\n",
      "activation_4 (Activation)    (None, 32, 32, 32)        0         \n",
      "_________________________________________________________________\n",
      "conv2d_5 (Conv2D)            (None, 32, 32, 32)        9216      \n",
      "_________________________________________________________________\n",
      "batch_normalization_1 (Batch (None, 32, 32, 32)        128       \n",
      "_________________________________________________________________\n",
      "activation_5 (Activation)    (None, 32, 32, 32)        0         \n",
      "_________________________________________________________________\n",
      "max_pooling2d_2 (MaxPooling2 (None, 16, 16, 32)        0         \n",
      "_________________________________________________________________\n",
      "conv2d_6 (Conv2D)            (None, 16, 16, 64)        18432     \n",
      "_________________________________________________________________\n",
      "batch_normalization_2 (Batch (None, 16, 16, 64)        256       \n",
      "_________________________________________________________________\n",
      "activation_6 (Activation)    (None, 16, 16, 64)        0         \n",
      "_________________________________________________________________\n",
      "conv2d_7 (Conv2D)            (None, 16, 16, 64)        36864     \n",
      "_________________________________________________________________\n",
      "batch_normalization_3 (Batch (None, 16, 16, 64)        256       \n",
      "_________________________________________________________________\n",
      "activation_7 (Activation)    (None, 16, 16, 64)        0         \n",
      "_________________________________________________________________\n",
      "max_pooling2d_3 (MaxPooling2 (None, 8, 8, 64)          0         \n",
      "_________________________________________________________________\n",
      "flatten_1 (Flatten)          (None, 4096)              0         \n",
      "_________________________________________________________________\n",
      "dense_2 (Dense)              (None, 512)               2097664   \n",
      "_________________________________________________________________\n",
      "batch_normalization_4 (Batch (None, 512)               2048      \n",
      "_________________________________________________________________\n",
      "activation_8 (Activation)    (None, 512)               0         \n",
      "_________________________________________________________________\n",
      "dropout_1 (Dropout)          (None, 512)               0         \n",
      "_________________________________________________________________\n",
      "dense_3 (Dense)              (None, 10)                5130      \n",
      "_________________________________________________________________\n",
      "batch_normalization_5 (Batch (None, 10)                40        \n",
      "_________________________________________________________________\n",
      "activation_9 (Activation)    (None, 10)                0         \n",
      "=================================================================\n",
      "Total params: 2,171,026\n",
      "Trainable params: 2,169,598\n",
      "Non-trainable params: 1,428\n",
      "_________________________________________________________________\n"
     ]
    }
   ],
   "source": [
    "model5 = Sequential()\n",
    "model5.add(Conv2D(filters=32, kernel_size=(3, 3), padding='same', input_shape=x_train.shape[1:], use_bias=False))\n",
    "model5.add(BatchNormalization())\n",
    "model5.add(Activation('relu'))\n",
    "model5.add(Conv2D(32, (3, 3), padding='same', use_bias=False))\n",
    "model5.add(BatchNormalization())\n",
    "model5.add(Activation('relu'))\n",
    "model5.add(MaxPooling2D(pool_size=(2, 2))) # MaxPooling2D Layer or AveragePooling2D Layer\n",
    "\n",
    "model5.add(Conv2D(64, (3, 3), padding='same', use_bias=False))\n",
    "model5.add(BatchNormalization())\n",
    "model5.add(Activation('relu'))\n",
    "model5.add(Conv2D(64, (3, 3), padding='same', use_bias=False))\n",
    "model5.add(BatchNormalization())\n",
    "model5.add(Activation('relu'))\n",
    "model5.add(MaxPooling2D(pool_size=(2, 2)))\n",
    "\n",
    "model5.add(Flatten()) # Optional:Flattens 2D images to 1D Array\n",
    "model5.add(Dense(units=512))\n",
    "model5.add(BatchNormalization())\n",
    "model5.add(Activation('relu'))\n",
    "model5.add(Dropout(0.5)) # Helps to reduce overfitting\n",
    "model5.add(Dense(units=len(classes)))\n",
    "model5.add(BatchNormalization())\n",
    "model5.add(Activation('softmax'))\n",
    "model5.summary()"
   ]
  },
  {
   "attachments": {},
   "cell_type": "markdown",
   "metadata": {},
   "source": [
    "#### Compile The Model:\n",
    "\n",
    " - Increase Learning Rate 10x: 0.001 to 0.01\n",
    " - Increase Batch Size 4x: 16 to 64"
   ]
  },
  {
   "cell_type": "code",
   "execution_count": 18,
   "metadata": {},
   "outputs": [
    {
     "name": "stdout",
     "output_type": "stream",
     "text": [
      "Epoch 1/50\n",
      "625/625 [==============================] - 20s 20ms/step - loss: 1.5269 - accuracy: 0.4534 - val_loss: 1.5492 - val_accuracy: 0.4706\n",
      "Epoch 2/50\n",
      "625/625 [==============================] - 10s 15ms/step - loss: 0.9145 - accuracy: 0.6807 - val_loss: 1.1770 - val_accuracy: 0.6016\n",
      "Epoch 3/50\n",
      "625/625 [==============================] - 10s 15ms/step - loss: 0.7418 - accuracy: 0.7417 - val_loss: 1.1663 - val_accuracy: 0.5953\n",
      "Epoch 4/50\n",
      "625/625 [==============================] - 10s 15ms/step - loss: 0.6181 - accuracy: 0.7841 - val_loss: 0.7649 - val_accuracy: 0.7376\n",
      "Epoch 5/50\n",
      "625/625 [==============================] - 9s 15ms/step - loss: 0.5156 - accuracy: 0.8217 - val_loss: 0.6951 - val_accuracy: 0.7725\n",
      "Epoch 6/50\n",
      "625/625 [==============================] - 9s 15ms/step - loss: 0.4324 - accuracy: 0.8491 - val_loss: 0.7272 - val_accuracy: 0.7662\n",
      "Epoch 7/50\n",
      "625/625 [==============================] - 9s 15ms/step - loss: 0.3587 - accuracy: 0.8747 - val_loss: 0.7388 - val_accuracy: 0.7646\n",
      "Epoch 8/50\n",
      "625/625 [==============================] - 10s 15ms/step - loss: 0.3011 - accuracy: 0.8977 - val_loss: 0.8576 - val_accuracy: 0.7350\n",
      "Epoch 9/50\n",
      "625/625 [==============================] - 9s 15ms/step - loss: 0.2600 - accuracy: 0.9073 - val_loss: 0.9164 - val_accuracy: 0.7445\n",
      "Epoch 10/50\n",
      "625/625 [==============================] - 10s 15ms/step - loss: 0.2218 - accuracy: 0.9240 - val_loss: 0.7246 - val_accuracy: 0.7836\n",
      "Epoch 11/50\n",
      "625/625 [==============================] - 10s 15ms/step - loss: 0.1919 - accuracy: 0.9341 - val_loss: 0.8661 - val_accuracy: 0.7596\n",
      "Epoch 12/50\n",
      "625/625 [==============================] - 9s 15ms/step - loss: 0.1834 - accuracy: 0.9375 - val_loss: 0.7462 - val_accuracy: 0.7850\n",
      "Epoch 13/50\n",
      "625/625 [==============================] - 10s 15ms/step - loss: 0.1630 - accuracy: 0.9457 - val_loss: 0.8328 - val_accuracy: 0.7834\n",
      "Epoch 14/50\n",
      "625/625 [==============================] - 9s 15ms/step - loss: 0.1474 - accuracy: 0.9497 - val_loss: 0.8701 - val_accuracy: 0.7856\n",
      "Epoch 15/50\n",
      "625/625 [==============================] - 10s 15ms/step - loss: 0.1425 - accuracy: 0.9502 - val_loss: 0.7318 - val_accuracy: 0.7926\n",
      "Epoch 16/50\n",
      "625/625 [==============================] - 10s 15ms/step - loss: 0.1275 - accuracy: 0.9565 - val_loss: 0.8961 - val_accuracy: 0.7719\n",
      "Epoch 17/50\n",
      "625/625 [==============================] - 10s 15ms/step - loss: 0.1122 - accuracy: 0.9626 - val_loss: 0.7834 - val_accuracy: 0.7911\n",
      "Epoch 18/50\n",
      "625/625 [==============================] - 10s 15ms/step - loss: 0.1099 - accuracy: 0.9636 - val_loss: 0.7766 - val_accuracy: 0.7961\n",
      "Epoch 19/50\n",
      "625/625 [==============================] - 10s 15ms/step - loss: 0.1035 - accuracy: 0.9650 - val_loss: 0.8310 - val_accuracy: 0.7934\n",
      "Epoch 20/50\n",
      "625/625 [==============================] - 10s 15ms/step - loss: 0.0999 - accuracy: 0.9659 - val_loss: 1.1502 - val_accuracy: 0.7182\n",
      "Epoch 21/50\n",
      "625/625 [==============================] - 10s 15ms/step - loss: 0.0956 - accuracy: 0.9668 - val_loss: 0.9043 - val_accuracy: 0.7773\n",
      "Epoch 22/50\n",
      "625/625 [==============================] - 10s 15ms/step - loss: 0.0886 - accuracy: 0.9694 - val_loss: 0.8470 - val_accuracy: 0.7919\n",
      "Epoch 23/50\n",
      "625/625 [==============================] - 10s 15ms/step - loss: 0.0913 - accuracy: 0.9682 - val_loss: 0.7451 - val_accuracy: 0.8054\n",
      "Epoch 24/50\n",
      "625/625 [==============================] - 10s 15ms/step - loss: 0.0750 - accuracy: 0.9751 - val_loss: 0.8619 - val_accuracy: 0.7824\n",
      "Epoch 25/50\n",
      "625/625 [==============================] - 10s 15ms/step - loss: 0.0743 - accuracy: 0.9758 - val_loss: 0.9625 - val_accuracy: 0.7758\n",
      "Epoch 26/50\n",
      "625/625 [==============================] - 10s 15ms/step - loss: 0.0844 - accuracy: 0.9719 - val_loss: 0.9184 - val_accuracy: 0.7774\n",
      "Epoch 27/50\n",
      "625/625 [==============================] - 10s 15ms/step - loss: 0.0708 - accuracy: 0.9763 - val_loss: 0.8425 - val_accuracy: 0.7988\n",
      "Epoch 28/50\n",
      "625/625 [==============================] - 10s 15ms/step - loss: 0.0730 - accuracy: 0.9760 - val_loss: 0.9017 - val_accuracy: 0.7928\n",
      "Epoch 29/50\n",
      "625/625 [==============================] - 10s 15ms/step - loss: 0.0693 - accuracy: 0.9768 - val_loss: 0.9111 - val_accuracy: 0.7933\n",
      "Epoch 30/50\n",
      "625/625 [==============================] - 10s 15ms/step - loss: 0.0659 - accuracy: 0.9774 - val_loss: 0.9350 - val_accuracy: 0.7892\n",
      "Epoch 31/50\n",
      "625/625 [==============================] - 10s 15ms/step - loss: 0.0632 - accuracy: 0.9794 - val_loss: 0.8040 - val_accuracy: 0.7953\n",
      "Epoch 32/50\n",
      "625/625 [==============================] - 10s 15ms/step - loss: 0.0596 - accuracy: 0.9797 - val_loss: 1.0231 - val_accuracy: 0.7842\n",
      "Epoch 33/50\n",
      "625/625 [==============================] - 10s 15ms/step - loss: 0.0584 - accuracy: 0.9812 - val_loss: 0.9357 - val_accuracy: 0.7841\n",
      "Epoch 34/50\n",
      "625/625 [==============================] - 10s 15ms/step - loss: 0.0552 - accuracy: 0.9822 - val_loss: 0.8267 - val_accuracy: 0.8101\n",
      "Epoch 35/50\n",
      "625/625 [==============================] - 10s 15ms/step - loss: 0.0535 - accuracy: 0.9821 - val_loss: 0.8936 - val_accuracy: 0.8020\n",
      "Epoch 36/50\n",
      "625/625 [==============================] - 10s 15ms/step - loss: 0.0561 - accuracy: 0.9813 - val_loss: 0.8584 - val_accuracy: 0.7983\n",
      "Epoch 37/50\n",
      "625/625 [==============================] - 10s 15ms/step - loss: 0.0509 - accuracy: 0.9835 - val_loss: 1.0519 - val_accuracy: 0.7718\n",
      "Epoch 38/50\n",
      "625/625 [==============================] - 10s 15ms/step - loss: 0.0572 - accuracy: 0.9821 - val_loss: 0.8409 - val_accuracy: 0.7984\n",
      "Epoch 39/50\n",
      "625/625 [==============================] - 10s 15ms/step - loss: 0.0511 - accuracy: 0.9825 - val_loss: 0.8984 - val_accuracy: 0.7943\n",
      "Epoch 40/50\n",
      "625/625 [==============================] - 10s 15ms/step - loss: 0.0534 - accuracy: 0.9833 - val_loss: 0.8785 - val_accuracy: 0.7979\n",
      "Epoch 41/50\n",
      "625/625 [==============================] - 10s 15ms/step - loss: 0.0481 - accuracy: 0.9833 - val_loss: 0.8313 - val_accuracy: 0.8070\n",
      "Epoch 42/50\n",
      "625/625 [==============================] - 10s 15ms/step - loss: 0.0453 - accuracy: 0.9851 - val_loss: 0.9788 - val_accuracy: 0.7912\n",
      "Epoch 43/50\n",
      "625/625 [==============================] - 10s 15ms/step - loss: 0.0464 - accuracy: 0.9843 - val_loss: 0.9330 - val_accuracy: 0.7957\n",
      "Epoch 44/50\n",
      "625/625 [==============================] - 10s 15ms/step - loss: 0.0424 - accuracy: 0.9860 - val_loss: 0.9370 - val_accuracy: 0.7871\n",
      "Epoch 45/50\n",
      "625/625 [==============================] - 10s 15ms/step - loss: 0.0493 - accuracy: 0.9840 - val_loss: 0.9482 - val_accuracy: 0.7980\n",
      "Epoch 46/50\n",
      "625/625 [==============================] - 10s 15ms/step - loss: 0.0414 - accuracy: 0.9860 - val_loss: 0.9229 - val_accuracy: 0.7998\n",
      "Epoch 47/50\n",
      "625/625 [==============================] - 10s 15ms/step - loss: 0.0413 - accuracy: 0.9860 - val_loss: 0.9331 - val_accuracy: 0.7999\n",
      "Epoch 48/50\n",
      "625/625 [==============================] - 10s 15ms/step - loss: 0.0419 - accuracy: 0.9858 - val_loss: 0.9401 - val_accuracy: 0.8008\n",
      "Epoch 49/50\n",
      "625/625 [==============================] - 10s 15ms/step - loss: 0.0440 - accuracy: 0.9855 - val_loss: 0.9835 - val_accuracy: 0.8025\n",
      "Epoch 50/50\n",
      "625/625 [==============================] - 10s 15ms/step - loss: 0.0393 - accuracy: 0.9876 - val_loss: 0.9825 - val_accuracy: 0.7900\n"
     ]
    },
    {
     "data": {
      "image/png": "[encoded data removed]",
      "text/plain": [
       "<Figure size 1200x600 with 2 Axes>"
      ]
     },
     "metadata": {},
     "output_type": "display_data"
    },
    {
     "name": "stdout",
     "output_type": "stream",
     "text": [
      "\n",
      "Training Accuracy: 98.64 %\n",
      "Training Loss: 0.0419\n",
      "\n",
      "\n",
      "Validation Accuracy: 79.0 %\n",
      "Validation Loss: 0.9825\n",
      "\n"
     ]
    }
   ],
   "source": [
    "save_path5 = '../assets/Lecture7/model5_ckpt.h5'\n",
    "callbacks_save5 = ModelCheckpoint(save_path5, monitor='val_loss', verbose=0, save_best_only=True, save_freq='epoch')\n",
    "\n",
    "opt5 = tf.keras.optimizers.Adam(learning_rate=0.01)\n",
    "model5.compile(loss='categorical_crossentropy', optimizer=opt5, metrics=['accuracy'])\n",
    "\n",
    "history5 = model5.fit(x_train, y_train_c, batch_size=64, \n",
    "                      epochs=50, verbose=1, validation_data=(x_val, y_val_c), \n",
    "                      callbacks=[callbacks_save5])\n",
    "\n",
    "plotEverything(history5)"
   ]
  },
  {
   "attachments": {},
   "cell_type": "markdown",
   "metadata": {},
   "source": [
    "#### Load Best Model & Evaluate:"
   ]
  },
  {
   "cell_type": "code",
   "execution_count": 19,
   "metadata": {},
   "outputs": [
    {
     "name": "stdout",
     "output_type": "stream",
     "text": [
      "1250/1250 [==============================] - 7s 3ms/step - loss: 0.3659 - accuracy: 0.8790\n",
      "Total Loss From Training Set: 0.36590367555618286\n",
      "Accuracy From Training Set: 0.8790000081062317\n",
      "\n",
      "313/313 [==============================] - 1s 4ms/step - loss: 0.6951 - accuracy: 0.7725\n",
      "Total Loss From Validation Set: 0.6951197385787964\n",
      "Accuracy From Validation Set: 0.7724999785423279\n",
      "\n",
      "313/313 [==============================] - 2s 5ms/step - loss: 0.6951 - accuracy: 0.7680\n",
      "Total Loss From Testing Set: 0.6951457262039185\n",
      "Accuracy From Testing Set: 0.7680000066757202\n",
      "\n"
     ]
    }
   ],
   "source": [
    "model5a = load_model(save_path5)\n",
    "\n",
    "score5a = model5a.evaluate(x_train, y_train_c)\n",
    "print(f'Total Loss From Training Set: {score5a[0]}')\n",
    "print(f'Accuracy From Training Set: {score5a[1]}\\n')\n",
    "\n",
    "score5b = model5a.evaluate(x_val, y_val_c)\n",
    "print(f'Total Loss From Validation Set: {score5b[0]}')\n",
    "print(f'Accuracy From Validation Set: {score5b[1]}\\n')\n",
    "\n",
    "score5c = model5a.evaluate(x_test, y_test_c)\n",
    "print(f'Total Loss From Testing Set: {score5c[0]}')\n",
    "print(f'Accuracy From Testing Set: {score5c[1]}\\n')"
   ]
  },
  {
   "attachments": {},
   "cell_type": "markdown",
   "metadata": {},
   "source": [
    "#### Predict Class Of Held Out Samples:"
   ]
  },
  {
   "cell_type": "code",
   "execution_count": 20,
   "metadata": {},
   "outputs": [
    {
     "name": "stdout",
     "output_type": "stream",
     "text": [
      "The Accuracy Predicting The Test Set is: 77.89 %\n",
      "\n"
     ]
    },
    {
     "data": {
      "text/html": [
       "<div>\n",
       "<style scoped>\n",
       "    .dataframe tbody tr th:only-of-type {\n",
       "        vertical-align: middle;\n",
       "    }\n",
       "\n",
       "    .dataframe tbody tr th {\n",
       "        vertical-align: top;\n",
       "    }\n",
       "\n",
       "    .dataframe thead th {\n",
       "        text-align: right;\n",
       "    }\n",
       "</style>\n",
       "<table border=\"1\" class=\"dataframe\">\n",
       "  <thead>\n",
       "    <tr style=\"text-align: right;\">\n",
       "      <th></th>\n",
       "      <th>Pred Plane</th>\n",
       "      <th>Pred Car</th>\n",
       "      <th>Pred Bird</th>\n",
       "      <th>Pred Cat</th>\n",
       "      <th>Pred Deer</th>\n",
       "      <th>Pred Dog</th>\n",
       "      <th>Pred Frog</th>\n",
       "      <th>Pred Horse</th>\n",
       "      <th>Pred Ship</th>\n",
       "      <th>Pred Truck</th>\n",
       "    </tr>\n",
       "  </thead>\n",
       "  <tbody>\n",
       "    <tr>\n",
       "      <th>Actual Plane</th>\n",
       "      <td>785</td>\n",
       "      <td>8</td>\n",
       "      <td>35</td>\n",
       "      <td>11</td>\n",
       "      <td>1</td>\n",
       "      <td>3</td>\n",
       "      <td>2</td>\n",
       "      <td>12</td>\n",
       "      <td>61</td>\n",
       "      <td>24</td>\n",
       "    </tr>\n",
       "    <tr>\n",
       "      <th>Actual Car</th>\n",
       "      <td>14</td>\n",
       "      <td>917</td>\n",
       "      <td>2</td>\n",
       "      <td>6</td>\n",
       "      <td>1</td>\n",
       "      <td>4</td>\n",
       "      <td>1</td>\n",
       "      <td>1</td>\n",
       "      <td>26</td>\n",
       "      <td>66</td>\n",
       "    </tr>\n",
       "    <tr>\n",
       "      <th>Actual Bird</th>\n",
       "      <td>65</td>\n",
       "      <td>7</td>\n",
       "      <td>691</td>\n",
       "      <td>63</td>\n",
       "      <td>63</td>\n",
       "      <td>41</td>\n",
       "      <td>37</td>\n",
       "      <td>19</td>\n",
       "      <td>21</td>\n",
       "      <td>4</td>\n",
       "    </tr>\n",
       "    <tr>\n",
       "      <th>Actual Cat</th>\n",
       "      <td>28</td>\n",
       "      <td>10</td>\n",
       "      <td>79</td>\n",
       "      <td>682</td>\n",
       "      <td>107</td>\n",
       "      <td>146</td>\n",
       "      <td>71</td>\n",
       "      <td>60</td>\n",
       "      <td>36</td>\n",
       "      <td>29</td>\n",
       "    </tr>\n",
       "    <tr>\n",
       "      <th>Actual Deer</th>\n",
       "      <td>22</td>\n",
       "      <td>1</td>\n",
       "      <td>51</td>\n",
       "      <td>31</td>\n",
       "      <td>700</td>\n",
       "      <td>26</td>\n",
       "      <td>13</td>\n",
       "      <td>49</td>\n",
       "      <td>5</td>\n",
       "      <td>4</td>\n",
       "    </tr>\n",
       "    <tr>\n",
       "      <th>Actual Dog</th>\n",
       "      <td>15</td>\n",
       "      <td>6</td>\n",
       "      <td>65</td>\n",
       "      <td>143</td>\n",
       "      <td>39</td>\n",
       "      <td>763</td>\n",
       "      <td>22</td>\n",
       "      <td>66</td>\n",
       "      <td>10</td>\n",
       "      <td>15</td>\n",
       "    </tr>\n",
       "    <tr>\n",
       "      <th>Actual Frog</th>\n",
       "      <td>19</td>\n",
       "      <td>13</td>\n",
       "      <td>58</td>\n",
       "      <td>45</td>\n",
       "      <td>62</td>\n",
       "      <td>7</td>\n",
       "      <td>848</td>\n",
       "      <td>10</td>\n",
       "      <td>19</td>\n",
       "      <td>8</td>\n",
       "    </tr>\n",
       "    <tr>\n",
       "      <th>Actual Horse</th>\n",
       "      <td>2</td>\n",
       "      <td>3</td>\n",
       "      <td>11</td>\n",
       "      <td>15</td>\n",
       "      <td>23</td>\n",
       "      <td>8</td>\n",
       "      <td>4</td>\n",
       "      <td>775</td>\n",
       "      <td>7</td>\n",
       "      <td>8</td>\n",
       "    </tr>\n",
       "    <tr>\n",
       "      <th>Actual Ship</th>\n",
       "      <td>18</td>\n",
       "      <td>4</td>\n",
       "      <td>4</td>\n",
       "      <td>1</td>\n",
       "      <td>4</td>\n",
       "      <td>2</td>\n",
       "      <td>1</td>\n",
       "      <td>0</td>\n",
       "      <td>792</td>\n",
       "      <td>6</td>\n",
       "    </tr>\n",
       "    <tr>\n",
       "      <th>Actual Truck</th>\n",
       "      <td>32</td>\n",
       "      <td>31</td>\n",
       "      <td>4</td>\n",
       "      <td>3</td>\n",
       "      <td>0</td>\n",
       "      <td>0</td>\n",
       "      <td>1</td>\n",
       "      <td>8</td>\n",
       "      <td>23</td>\n",
       "      <td>836</td>\n",
       "    </tr>\n",
       "  </tbody>\n",
       "</table>\n",
       "</div>"
      ],
      "text/plain": [
       "              Pred Plane  Pred Car  Pred Bird  Pred Cat  Pred Deer  Pred Dog  \\\n",
       "Actual Plane         785         8         35        11          1         3   \n",
       "Actual Car            14       917          2         6          1         4   \n",
       "Actual Bird           65         7        691        63         63        41   \n",
       "Actual Cat            28        10         79       682        107       146   \n",
       "Actual Deer           22         1         51        31        700        26   \n",
       "Actual Dog            15         6         65       143         39       763   \n",
       "Actual Frog           19        13         58        45         62         7   \n",
       "Actual Horse           2         3         11        15         23         8   \n",
       "Actual Ship           18         4          4         1          4         2   \n",
       "Actual Truck          32        31          4         3          0         0   \n",
       "\n",
       "              Pred Frog  Pred Horse  Pred Ship  Pred Truck  \n",
       "Actual Plane          2          12         61          24  \n",
       "Actual Car            1           1         26          66  \n",
       "Actual Bird          37          19         21           4  \n",
       "Actual Cat           71          60         36          29  \n",
       "Actual Deer          13          49          5           4  \n",
       "Actual Dog           22          66         10          15  \n",
       "Actual Frog         848          10         19           8  \n",
       "Actual Horse          4         775          7           8  \n",
       "Actual Ship           1           0        792           6  \n",
       "Actual Truck          1           8         23         836  "
      ]
     },
     "metadata": {},
     "output_type": "display_data"
    }
   ],
   "source": [
    "test_class2_prob = model5.predict(x_test)\n",
    "test_labels2 = np.argmax(test_class2_prob, axis=1)\n",
    "print(f'The Accuracy Predicting The Test Set is: {accuracy_score(test_labels2, y_test) * 100} %\\n')\n",
    "conf_matrix2 = confusion_matrix(test_labels2, y_test)\n",
    "\n",
    "colLabels2 = ['Pred Plane', 'Pred Car', 'Pred Bird', 'Pred Cat', 'Pred Deer',\n",
    "             'Pred Dog', 'Pred Frog', 'Pred Horse', 'Pred Ship', 'Pred Truck']\n",
    "rowLabels2 = ['Actual Plane', 'Actual Car', 'Actual Bird', 'Actual Cat', 'Actual Deer',\n",
    "             'Actual Dog', 'Actual Frog', 'Actual Horse', 'Actual Ship', 'Actual Truck']\n",
    "\n",
    "fancyMatrix2 = pd.DataFrame(conf_matrix2, columns=colLabels2, index=rowLabels2,)\n",
    "display(fancyMatrix2)"
   ]
  },
  {
   "attachments": {},
   "cell_type": "markdown",
   "metadata": {},
   "source": [
    "### 3rd Method: Batch Normalization With Data Augmentation:"
   ]
  },
  {
   "attachments": {},
   "cell_type": "markdown",
   "metadata": {},
   "source": [
    "#### Define The Model With Normalization Layers:"
   ]
  },
  {
   "cell_type": "code",
   "execution_count": null,
   "metadata": {},
   "outputs": [],
   "source": [
    "model6 = Sequential()\n",
    "model6.add(Conv2D(filters=32, kernel_size=(3, 3), padding='same', input_shape=x_train.shape[1:], use_bias=False))\n",
    "model6.add(BatchNormalization())\n",
    "model6.add(Activation('relu'))\n",
    "model6.add(Conv2D(32, (3, 3), padding='same', use_bias=False))\n",
    "model6.add(BatchNormalization())\n",
    "model6.add(Activation('relu'))\n",
    "model6.add(MaxPooling2D(pool_size=(2, 2))) # MaxPooling2D Layer or AveragePooling2D Layer\n",
    "\n",
    "model6.add(Conv2D(64, (3, 3), padding='same', use_bias=False))\n",
    "model6.add(BatchNormalization())\n",
    "model6.add(Activation('relu'))\n",
    "model6.add(Conv2D(64, (3, 3), padding='same', use_bias=False))\n",
    "model6.add(BatchNormalization())\n",
    "model6.add(Activation('relu'))\n",
    "model6.add(MaxPooling2D(pool_size=(2, 2)))\n",
    "\n",
    "model6.add(Flatten()) # Optional:Flattens 2D images to 1D Array\n",
    "model6.add(Dense(units=512))\n",
    "model6.add(BatchNormalization())\n",
    "model6.add(Activation('relu'))\n",
    "model6.add(Dropout(0.5)) # Helps to reduce overfitting\n",
    "model6.add(Dense(units=len(classes)))\n",
    "model6.add(BatchNormalization())\n",
    "model6.add(Activation('softmax'))\n",
    "model6.summary()"
   ]
  },
  {
   "attachments": {},
   "cell_type": "markdown",
   "metadata": {},
   "source": [
    "#### Compile The Model:\n",
    "\n",
    " - Still Using Same Parameters As Model 2\n",
    " - Increase Learning Rate 10x: 0.001 to 0.01\n",
    " - Increase Batch Size 4x: 16 to 64\n",
    " - Create A Data Generator For Real-Time Data Augmentation"
   ]
  },
  {
   "cell_type": "code",
   "execution_count": null,
   "metadata": {},
   "outputs": [],
   "source": [
    "save_path6 = '../assets/Lecture7/model3_ckpt.h5'\n",
    "callbacks_save6 = ModelCheckpoint(save_path6, monitor='val_loss', verbose=0, save_best_only=True, save_freq='epoch')\n",
    "\n",
    "opt6 = tf.keras.optimizers.Adam(learning_rate=0.01)\n",
    "model6.compile(loss='categorical_crossentropy', optimizer=opt6, metrics=['accuracy'])\n",
    "\n",
    "datagen6 = ImageDataGenerator(\n",
    "    #shear_range = -0.1,\n",
    "    #zoom_range = -0.1,\n",
    "    rotation_range=5,\n",
    "    width_shift_range=0.1,\n",
    "    height_shift_range=0.1,\n",
    "    horizontal_flip=True\n",
    ")"
   ]
  },
  {
   "attachments": {},
   "cell_type": "markdown",
   "metadata": {},
   "source": [
    "#### Compute Quantities Required For Featurewise Normalization:\n",
    "\n",
    " - std deviation, mean & principal components if ZCA Whitening is Applied."
   ]
  },
  {
   "cell_type": "code",
   "execution_count": null,
   "metadata": {},
   "outputs": [],
   "source": [
    "datagen6.fit(x_train)"
   ]
  },
  {
   "attachments": {},
   "cell_type": "markdown",
   "metadata": {},
   "source": [
    "#### Fit The Model Using Data Generator & Batch Normalization:"
   ]
  },
  {
   "cell_type": "code",
   "execution_count": null,
   "metadata": {},
   "outputs": [],
   "source": [
    "history6 = model6.fit(x_train, y_train_c, batch_size=64, \n",
    "                      epochs=50, verbose=1, validation_data=(x_val, y_val_c), \n",
    "                      callbacks=[callbacks_save6])\n",
    "\n",
    "plotEverything(history6)                      "
   ]
  },
  {
   "attachments": {},
   "cell_type": "markdown",
   "metadata": {},
   "source": [
    "#### Load Best Model & Evaluate On Held-Out Samples:"
   ]
  },
  {
   "cell_type": "code",
   "execution_count": null,
   "metadata": {},
   "outputs": [],
   "source": [
    "model6a = load_model(save_path6)\n",
    "\n",
    "score6a = model6a.evaluate(x_train, y_train_c)\n",
    "print(f'Total Loss From Training Set: {score6a[0]}')\n",
    "print(f'Accuracy From Training Set: {score6a[1]}\\n')\n",
    "\n",
    "score6b = model4a.evaluate(x_val, y_val_c)\n",
    "print(f'Total Loss From Validation Set: {score6b[0]}')\n",
    "print(f'Accuracy From Validation Set: {score6b[1]}\\n')\n",
    "\n",
    "score6c = model4a.evaluate(x_test, y_test_c)\n",
    "print(f'Total Loss From Testing Set: {score6c[0]}')\n",
    "print(f'Accuracy From Testing Set: {score6c[1]}\\n')"
   ]
  },
  {
   "attachments": {},
   "cell_type": "markdown",
   "metadata": {},
   "source": [
    "#### Predict Class Of Held Out Samples:"
   ]
  },
  {
   "cell_type": "code",
   "execution_count": null,
   "metadata": {},
   "outputs": [],
   "source": [
    "test_class3_prob = model6.predict(x_test)\n",
    "test_labels3 = np.argmax(test_class3_prob, axis=1)\n",
    "print(f'The Accuracy Predicting The Test Set is: {accuracy_score(test_labels3, y_test) * 100} %\\n')\n",
    "conf_matrix3 = confusion_matrix(test_labels2, y_test)\n",
    "\n",
    "colLabels3 = ['Pred Plane', 'Pred Car', 'Pred Bird', 'Pred Cat', 'Pred Deer',\n",
    "             'Pred Dog', 'Pred Frog', 'Pred Horse', 'Pred Ship', 'Pred Truck']\n",
    "rowLabels3 = ['Actual Plane', 'Actual Car', 'Actual Bird', 'Actual Cat', 'Actual Deer',\n",
    "             'Actual Dog', 'Actual Frog', 'Actual Horse', 'Actual Ship', 'Actual Truck']\n",
    "\n",
    "fancyMatrix3 = pd.DataFrame(conf_matrix3, columns=colLabels3, index=rowLabels3,)\n",
    "display(fancyMatrix3)"
   ]
  },
  {
   "attachments": {},
   "cell_type": "markdown",
   "metadata": {},
   "source": [
    "#### L1 L2 Regularization:\n",
    "\n",
    " - https://keras.io/api/layers/regularizers/"
   ]
  },
  {
   "cell_type": "code",
   "execution_count": null,
   "metadata": {},
   "outputs": [],
   "source": [
    "layers = layers.Dense(\n",
    "    units=64, kernel_regularizer=regularizers.l1_l2(l1 = 1e-5, l2=1e-4),\n",
    "    bias_regularizer=regularizers.l2(1e-4),\n",
    "    activity_regularizer=regularizers.l2(1e-5)\n",
    ")"
   ]
  },
  {
   "attachments": {},
   "cell_type": "markdown",
   "metadata": {},
   "source": [
    "#### Data Generator In Keras:\n",
    " \n",
    " - For small datasets loaded into memory\n",
    " - https://www.tensorflow.org/api_docs/python/tf/keras/preprocessing/image/ImageDataGenerator"
   ]
  },
  {
   "cell_type": "code",
   "execution_count": null,
   "metadata": {},
   "outputs": [],
   "source": [
    "tf.keras.preprocessing.image.ImageDataGenerator(\n",
    "    featurewise_center=False, samplewise_center=False,\n",
    "    featurewise_std_normalization=False, samplewise_std_normalization=False,\n",
    "    zca_whitening=False, zca_epsilon=1e-06, rotation_range=0, width_shift_range=0.0,\n",
    "    height_shift_range=0.0, brightness_range=None, shear_range=0.0, zoom_range=0.0,\n",
    "    channel_shift_range=0.0, fill_mode='nearest', cval=0.0, horizontal_flip=False,\n",
    "    vertical_flip=False, rescale=None, preprocessing_function=None,\n",
    "    data_format=None, validation_split=0.0, dtype=None\n",
    ")"
   ]
  }
 ],
 "metadata": {
  "kernelspec": {
   "display_name": "ml-gpu",
   "language": "python",
   "name": "python3"
  },
  "language_info": {
   "codemirror_mode": {
    "name": "ipython",
    "version": 3
   },
   "file_extension": ".py",
   "mimetype": "text/x-python",
   "name": "python",
   "nbconvert_exporter": "python",
   "pygments_lexer": "ipython3",
   "version": "3.9.16"
  },
  "orig_nbformat": 4
 },
 "nbformat": 4,
 "nbformat_minor": 2
}
